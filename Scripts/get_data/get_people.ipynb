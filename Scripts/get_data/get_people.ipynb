{
 "cells": [
  {
   "cell_type": "code",
   "execution_count": 56,
   "metadata": {},
   "outputs": [],
   "source": [
    "import sounddevice as sd\n",
    "from selenium import webdriver\n",
    "from selenium.webdriver.chrome.options import Options\n",
    "from selenium.webdriver.chrome.service import Service\n",
    "from selenium.webdriver.common.by import By\n",
    "from selenium.webdriver.common.keys import Keys\n",
    "from selenium.webdriver import ActionChains\n",
    "from webdriver_manager.chrome import ChromeDriverManager\n",
    "from selenium.webdriver.common.by import By\n",
    "from selenium.webdriver.support.ui import WebDriverWait\n",
    "from selenium.webdriver.support import expected_conditions as EC\n",
    "import time\n",
    "import csv\n",
    "from dotenv import load_dotenv\n",
    "import pandas as pd\n",
    "import os\n",
    "import random\n",
    "import numpy as np"
   ]
  },
  {
   "cell_type": "code",
   "execution_count": 61,
   "metadata": {},
   "outputs": [],
   "source": [
    "class Busqueda:\n",
    "\n",
    "    def __init__(self) -> None:\n",
    "        load_dotenv()\n",
    "        options = Options()\n",
    "        options.add_argument('--disable-dev-shm-usage')\n",
    "        options.add_argument('--incognito')\n",
    "        self.driver = webdriver.Chrome(service=Service(ChromeDriverManager().install()), options=options)\n",
    "\n",
    "    def login_with_email(self):\n",
    "        driver = self.driver\n",
    "        email = driver.find_element(By.XPATH,'//*[@id=\"username\"]')\n",
    "        email.send_keys(os.environ.get('EMAIL4'))\n",
    "        password = driver.find_element(By.XPATH,'//*[@id=\"password\"]')\n",
    "        password.send_keys(os.environ.get('PASSWORD3'))\n",
    "        self.sesion = driver.find_element(By.XPATH,'//*[@id=\"organic-div\"]/form/div[3]/button').click()\n",
    "\n",
    "    def abrir_navegador(self):\n",
    "        self.url = \"https://linkedin.com/uas/login\"\n",
    "        self.driver.get(self.url)\n",
    "        self.login_with_email()\n",
    "\n",
    "    def iniciar(self):\n",
    "        self.abrir_navegador()\n",
    "\n",
    "\n"
   ]
  },
  {
   "cell_type": "code",
   "execution_count": 32,
   "metadata": {},
   "outputs": [],
   "source": [
    "# Enviar código verificacion\n",
    "code_email = '003959'\n",
    "code = driver.find_element(By.XPATH,'//*[@id=\"input__email_verification_pin\"]')\n",
    "code.send_keys(code_email)\n",
    "\n",
    "# Send code\n",
    "\n",
    "send_code = driver.find_element(By.XPATH,'//*[@id=\"email-pin-submit-button\"]').click()"
   ]
  },
  {
   "cell_type": "code",
   "execution_count": 3,
   "metadata": {},
   "outputs": [],
   "source": [
    "# Lectura de archivos egresados\n",
    "\n",
    "#egresados = pd.read_excel('/home/user/Desktop/MateoCodes/WebScrapingLinkedin/documentacion/datos_egresados.xlsx')\n",
    "egresados = pd.read_excel('/home/user/Desktop/MateoCodes/WebScrapingLinkedin/documentacion/NEW_DATA/people_checkpoint.xlsx')"
   ]
  },
  {
   "cell_type": "code",
   "execution_count": 4,
   "metadata": {},
   "outputs": [
    {
     "data": {
      "text/plain": [
       "0         Raúl Fernando Martínez Oviedo\n",
       "1         Jhair Fabian Pinzon Rodriguez\n",
       "2      Cristhian Camilo Gonzalez Garzon\n",
       "3        Javier Steven Solano Calcetero\n",
       "4                   Efrain Galvis Duran\n",
       "                     ...               \n",
       "210         Maria Elvira Gaviria Forero\n",
       "211             Paula Lorena Solano Gil\n",
       "212          Jeison Julian Lozano Jojoa\n",
       "213        Daniel Santiago Rincon Parra\n",
       "214       Fredy Alexander Macias Rincon\n",
       "Name: Nombre, Length: 215, dtype: object"
      ]
     },
     "execution_count": 4,
     "metadata": {},
     "output_type": "execute_result"
    }
   ],
   "source": [
    "nombres = egresados['Nombre']\n",
    "nombres"
   ]
  },
  {
   "cell_type": "code",
   "execution_count": 4,
   "metadata": {},
   "outputs": [
    {
     "name": "stdout",
     "output_type": "stream",
     "text": [
      "0               David Styven Nieto Marin\n",
      "1           Daniel Esteban Romero Romero\n",
      "2            Jorge Andres Galindo Correa\n",
      "3         Jersson Steven Castillo Romero\n",
      "4                 Wilmar Jair Gomez Rios\n",
      "                      ...               \n",
      "7747    Brhayan Stiven Puentes Rodriguez\n",
      "7748             Yeny Sofia Vargas Urrea\n",
      "7749        Mateo De Las Salas Hernandez\n",
      "7750    Michael Lisandro Socha Rodriguez\n",
      "7751      Johan Sebastian Perez Velandia\n",
      "Length: 7752, dtype: object\n"
     ]
    }
   ],
   "source": [
    "nombres = egresados['NOMBRES'] + ' ' + egresados['APELLIDO1'] + ' ' + egresados['APELLIDO2']\n",
    "\n",
    "print(nombres)"
   ]
  },
  {
   "cell_type": "code",
   "execution_count": 5,
   "metadata": {},
   "outputs": [
    {
     "name": "stdout",
     "output_type": "stream",
     "text": [
      "215\n"
     ]
    }
   ],
   "source": [
    "print(len(nombres))\n",
    "dict_egresados = {\n",
    "    'Nombre': [],\n",
    "    'URL': []\n",
    "}\n",
    "def save_dataframe_to_excel(file_path, dataframe):\n",
    "    directory = os.path.dirname(file_path)\n",
    "    if not os.path.exists(directory):\n",
    "        os.makedirs(directory)\n",
    "    dataframe.to_excel(file_path, index=False)\n",
    "\n",
    "cont = 0 \n",
    "cont_2 = 14\n"
   ]
  },
  {
   "cell_type": "code",
   "execution_count": 33,
   "metadata": {},
   "outputs": [],
   "source": [
    "nombres = ['Raúl Fernando Martínez Oviedo', 'Jhair Fabian Pinzon Rodriguez', 'Cristian Leonardo Toro Sarmiento', 'Juan Guillermo Rute Sanabria', 'Andres Leonardo Torres Gonzalez', 'Juan Sebastian Martinez Beltran', 'Cristhian Camilo Gonzalez Garzon', 'Javier Steven Solano Calcetero', 'Efrain Galvis Duran', 'Stefano Rojas Bloise', 'Jhon Christian Rodriguez Ardila', 'Santiago Medina Morales', 'David Leonardo López González', 'Cielo María Ortiz Pérez', 'Sergio Jair Perez Sichaca', 'Leonel Garcia Vasquez', 'Manuela Sucerquia Ospina', 'Luis Carlos Rodriguez Barrios', 'Ian Sarasty Medina', 'Ernesto Garzon Rojas', 'Ricardo Martinez Mayorga', 'Diego Ferney Mayorga Rodriguez', 'Alexandra Osorio Zuluaga', 'Laura Maria Guativa Brochero', 'Luis Fernando Garcia Quiroga', 'Carol Daniela Sanchez Paez', 'Jorge Alonso Arevalo Rojas', 'Carlos Eduardo Moreno Calderon', 'Ciro Andres Cobos Sanchez', 'Fabian Humberto Fonseca Aponte', 'Nicolas Castro Correa', 'Rafael Alberto Moreno Ome', 'Carlos Alberto Riveros Varela', 'Jose Luis Gonzalez Pisa', 'Kevin Giorgio Toledo De La Cruz', 'Juan Camilo Achury Bueno', 'Juan Camilo Becerra Restrepo', 'Camilo Andres Gutierrez Osorio', 'Miguel Angel Ballen Galindo', 'Julian David Toro Medina', 'Diana Sofia Melendez Gonzalez', 'Fredy Alejandro Guevara Luna', 'Andres Felipe Leon Cruz', 'Jonathan Martinez Chingate', 'Oscar Fernando Aya Fuentes', 'Daniel Alejandro Numpaque Cano', 'Juan David Zapata Perez', 'Fernando Muñoz Sanchez', 'Diego Alejandro Rodríguez Morales', 'Oscar Ivan Justinico Castro', 'Diego Alejandro Rodriguez Herrera', 'Cristian Camilo Sanchez Garcia', 'Oscar Miguel Diaz Cruz', 'Nelson Ariel Sierra Sierra', 'Camilo Andres Gonzalez Gonzalez', 'Juan Sebastian Vivero Jauregui', 'Manuel Joann Nuñez Torres', 'Julian David Yepes Rojas', 'Oscar David Garcia Medina', 'Francisco Andres Aranguren Torres', 'Camila Rodriguez Ramirez', 'Christian Fabian Jimenez Garzón', 'Cristhian David Moreno Peña', 'Christian David Ramos Gaitán', 'Andres Alfonso Rincon Guerrero', 'Carmen Lucia Barrios Benavides', 'Carlos Andres Epia Realpe', 'Juan Pablo Salamanca Ramírez', 'Diego Andres Agudelo Cruz', 'Sergio Morales Herrera', 'Luis Alejandro Higuaran Serrano', 'Jorge Humberto Nemoga Pinzon', 'Nicolás Saiz Arismendi', 'Manuel Felipe Jimenez Cortes', 'Sergio Andrés Mancera Nomesque', 'Omar Sneyder Eraso Acero', 'Luis Fernando Gartner Mc Bain', 'Diego Fernando Romero Romero', 'Juan Felipe Sánchez Sáenz', 'Sergio Andrés Cortés Hernández', 'Jarvy Andrés Sánchez Buitrago', 'Juan Pablo Bonilla Gonzalez', 'Nicolás Guerrero Arévalo', 'Jacob Camacho Espinosa', 'Christian Arturo Bohórquez García', 'Marianella Monroy Ortiz', 'Santiago Orloff Orloff Rodríguez', 'Miguel Andres Parra Alarcon', 'Maria Camila Gomez Chavez', 'Diego Leonardo Chapeton Moreno', 'Iván Danilo Suárez López', 'Julian Alexander Malaver Moreno', 'Nicolás Gómez Gutiérrez', 'Diego Alejandro Clavijo Leal', 'Sergio Daniel Fierro Losada', 'Juan Sebastian Gomez Poblador', 'Camilo Piñeros Pineda', 'Tania Gineth Gomez Carrillo', 'Daniel Ricardo Camelo Alfonso', 'Juan Fernando Rosero Martinez', 'Juan Felipe Vargas Colorado', 'Fabian Leonardo Ramirez Sandino', 'Jeisson David Rozo Bautista', 'Andrés Felipe De Orcajo Vélez', 'Diana Marcela Diaz Castro', 'Miguel Angel Gamboa Gamboa', 'German Felipe Hernandez Cardenas', 'Roberto Felipe Salamanca Girón', 'Diego Said Niquefa Velasquez', 'Cristian David Lopez Hernandez', 'Diego Fabricio Rincon Piza', 'David Camilo Parra Gomez', 'Sergio Leonardo González Fonseca', 'Harvey Mauricio Tello Gelpud', 'David Felipe Medina Mayorga', 'Daniel Alfonso Pinzon Chavarria', 'Camilo Andrés Chaparro Venegas', 'Laura Valentina Garzon Guiza', 'Arbey Fonseca Vargas', 'Raul Giordano Soto Acero', 'Nestor Alejandro Florian Gomez', 'Cesar Quintero Arias', 'Miguel Angel Sanchez Rojas', 'Alejandro Garcia Castro', 'Daniel Ortiz Betancur', 'Gabriel Torres Peña', 'Damian Diaz Devivero', 'Jorge Alejandro Recamán Guzmán', 'Andres Felipe Naranjo Zuñiga', 'Luis Miguel Gutierrez Ramirez', 'Adriana Lisseth Lozano Torres', 'Daniel Fernando Gonzalez Celis', 'Cindy Johanna Rodriguez Avila', 'Jorge Luis Facundo Herrera', 'José Luis Moreno Calderón', 'Carolina Del Mar Saavedra Rios', 'Daniel David Vega Florez', 'Luis Alejandro Arguelles Salazar', 'David Santiago Fajardo Barrera', 'Juan David Uchuvo Gonzalez', 'Raúl Felipe Coral Jiménez', 'Camilo Andres Cortes Ibañez', 'Jorge Enrique Rojas Olaya', 'Juan Sebastian Rodriguez Casas', 'Angela Dubois Camacho', 'Jose David Salazar Moreno', 'Jonathan Leonard Crespo Eslava', 'Andres Felipe Forero Correa', 'Sebastián Alvarez Luque', 'Laura Angélica Cárdenas Vargas', 'Yessica Katherine Chauta Insuasty', 'Juan Carlos Trujillo Quintero', 'Santiago Echeverri Gonzalez', 'Gina Lorena Galvan Gomez', 'Gian Carlo Cuesta Nova', 'Nestor Camilo Leguizamon Guerra', 'Julian David Gongora Forero', 'Andres Felipe Leal Forero', 'Andrés Felipe Moreno Solano', 'Diego Alexander Salgado Castellanos', 'Juan Daniel Olaya Velasquez', 'Sebastian Camilo Moreno Arango', 'Juan Camilo Chavarro Macareno', 'Camilo Jose Sepulveda Zuñiga', 'Mateo Mancera Rodriguez', 'Harold Nicolas Riascos Molina', 'Jonathan David Salamanca Mora', 'Luis Fernando Rico Ortiz', 'Néstor Andrés Donato Ariza', 'Daniel Camacho Duque', 'David Arturo Míguez Baracaldo', 'Daniel Felipe Sabogal Fajardo', 'Esteban Jaramillo Sarmiento', 'Jonnathan Alejandro Sanchez Alarcon', 'Diego Clemente Rojas Chingate', 'Andrew Rincon Gonzalez', 'David Alejandro Martinez Pinto', 'Juan Camilo Liberato Luna', 'Fabian Andres Acuña Villamil', 'Rafael Antonio Salgado Lopez', 'Johan Sebastián Gómez Luna', 'Alejandro Marin Cardona', 'Daniel Alejandro Mora Garzón', 'Johnattan Fernando Devia Rojas', 'Christopher Andres Rodriguez Fonseca', 'Maikol Bonilla Gil', 'Andres Mauricio Rondon Patiño', 'Steve Eduardo Moscoso Urdaneta', 'Jhon Jairo Camargo Bernal', 'Alexander Gonzalez Castañeda', 'Cristian Camilo López Melo', 'Fernando Alberto Rodriguez Lozano', 'Juan Sebastian Gaona Chaparro', 'Nícolas Miranda Hernández', 'Felipe Castañeda Prieto', 'Ciro Iván García López', 'Andres Fernando Martinez Mendieta', 'David Andres Moreno Martinez', 'Miguel Angel Oyola Ayala', 'Andrés Felipe Cárdenas Hurtado', 'Daniela Idarraga Gomez', 'Oscar Antonio Acelas Upegui', 'Omar Alexander Muñoz Rodriguez', 'Samy Fiorella Cruz Bolivar', 'Juan David Gaitán Forero', 'Byron Martinez Martinez', 'Adriana Lucía Sánchez Ospina', 'Sergio Alejandro Diaz Pinilla', 'Andrea Romero Millan', 'Nelson David Navarro Diaz', 'Federico Julian Acosta Gonzalez', 'Cindy Lorena Ramirez Restrepo', 'Luis Felipe Epia Realpe', 'Maria Elvira Gaviria Forero', 'Paula Lorena Solano Gil', 'Jeison Julian Lozano Jojoa', 'Daniel Santiago Rincon Parra', 'Fredy Alexander Macias Rincon']\n",
    "dict_egresados = {'Nombre': [],'URL': []}"
   ]
  },
  {
   "cell_type": "code",
   "execution_count": 34,
   "metadata": {},
   "outputs": [
    {
     "name": "stdout",
     "output_type": "stream",
     "text": [
      "Raúl Fernando Martínez Oviedo\n",
      "Jhair Fabian Pinzon Rodriguez\n",
      "Cristian Leonardo Toro Sarmiento\n",
      "Juan Guillermo Rute Sanabria\n",
      "Andres Leonardo Torres Gonzalez\n",
      "Juan Sebastian Martinez Beltran\n",
      "Cristhian Camilo Gonzalez Garzon\n",
      "Javier Steven Solano Calcetero\n",
      "Efrain Galvis Duran\n",
      "Stefano Rojas Bloise\n",
      "Jhon Christian Rodriguez Ardila\n",
      "Santiago Medina Morales\n",
      "David Leonardo López González\n",
      "Cielo María Ortiz Pérez\n",
      "Sergio Jair Perez Sichaca\n",
      "Leonel Garcia Vasquez\n",
      "Manuela Sucerquia Ospina\n",
      "Luis Carlos Rodriguez Barrios\n",
      "Ian Sarasty Medina\n",
      "Ernesto Garzon Rojas\n",
      "Ricardo Martinez Mayorga\n",
      "Diego Ferney Mayorga Rodriguez\n",
      "Alexandra Osorio Zuluaga\n",
      "Laura Maria Guativa Brochero\n",
      "Luis Fernando Garcia Quiroga\n",
      "Carol Daniela Sanchez Paez\n",
      "Jorge Alonso Arevalo Rojas\n",
      "Carlos Eduardo Moreno Calderon\n",
      "Ciro Andres Cobos Sanchez\n",
      "Fabian Humberto Fonseca Aponte\n",
      "Nicolas Castro Correa\n",
      "Rafael Alberto Moreno Ome\n",
      "Carlos Alberto Riveros Varela\n",
      "Jose Luis Gonzalez Pisa\n",
      "Kevin Giorgio Toledo De La Cruz\n",
      "Juan Camilo Achury Bueno\n",
      "Juan Camilo Becerra Restrepo\n",
      "Camilo Andres Gutierrez Osorio\n",
      "Miguel Angel Ballen Galindo\n",
      "Julian David Toro Medina\n",
      "Diana Sofia Melendez Gonzalez\n",
      "Fredy Alejandro Guevara Luna\n",
      "Andres Felipe Leon Cruz\n",
      "Jonathan Martinez Chingate\n",
      "Oscar Fernando Aya Fuentes\n",
      "Daniel Alejandro Numpaque Cano\n",
      "Juan David Zapata Perez\n",
      "Fernando Muñoz Sanchez\n",
      "Diego Alejandro Rodríguez Morales\n",
      "Oscar Ivan Justinico Castro\n",
      "Diego Alejandro Rodriguez Herrera\n",
      "Cristian Camilo Sanchez Garcia\n",
      "Oscar Miguel Diaz Cruz\n",
      "Nelson Ariel Sierra Sierra\n",
      "Camilo Andres Gonzalez Gonzalez\n",
      "Juan Sebastian Vivero Jauregui\n",
      "Manuel Joann Nuñez Torres\n",
      "Julian David Yepes Rojas\n",
      "Oscar David Garcia Medina\n",
      "Francisco Andres Aranguren Torres\n",
      "Camila Rodriguez Ramirez\n",
      "Christian Fabian Jimenez Garzón\n",
      "Cristhian David Moreno Peña\n",
      "Christian David Ramos Gaitán\n",
      "Andres Alfonso Rincon Guerrero\n",
      "Carmen Lucia Barrios Benavides\n",
      "Carlos Andres Epia Realpe\n",
      "Juan Pablo Salamanca Ramírez\n",
      "Diego Andres Agudelo Cruz\n",
      "Sergio Morales Herrera\n",
      "Luis Alejandro Higuaran Serrano\n",
      "Jorge Humberto Nemoga Pinzon\n",
      "Nicolás Saiz Arismendi\n",
      "Manuel Felipe Jimenez Cortes\n",
      "Sergio Andrés Mancera Nomesque\n",
      "Omar Sneyder Eraso Acero\n",
      "Luis Fernando Gartner Mc Bain\n",
      "Diego Fernando Romero Romero\n",
      "Juan Felipe Sánchez Sáenz\n",
      "Sergio Andrés Cortés Hernández\n",
      "Jarvy Andrés Sánchez Buitrago\n",
      "Juan Pablo Bonilla Gonzalez\n",
      "Nicolás Guerrero Arévalo\n",
      "Jacob Camacho Espinosa\n",
      "Christian Arturo Bohórquez García\n",
      "Marianella Monroy Ortiz\n",
      "Santiago Orloff Orloff Rodríguez\n",
      "Miguel Andres Parra Alarcon\n",
      "Maria Camila Gomez Chavez\n",
      "Diego Leonardo Chapeton Moreno\n",
      "Iván Danilo Suárez López\n",
      "Julian Alexander Malaver Moreno\n",
      "Nicolás Gómez Gutiérrez\n",
      "Diego Alejandro Clavijo Leal\n",
      "Sergio Daniel Fierro Losada\n",
      "Juan Sebastian Gomez Poblador\n",
      "Camilo Piñeros Pineda\n",
      "Tania Gineth Gomez Carrillo\n",
      "Daniel Ricardo Camelo Alfonso\n",
      "Juan Fernando Rosero Martinez\n",
      "Juan Felipe Vargas Colorado\n",
      "Fabian Leonardo Ramirez Sandino\n",
      "Jeisson David Rozo Bautista\n",
      "Andrés Felipe De Orcajo Vélez\n",
      "Diana Marcela Diaz Castro\n",
      "Miguel Angel Gamboa Gamboa\n",
      "German Felipe Hernandez Cardenas\n",
      "Roberto Felipe Salamanca Girón\n",
      "Diego Said Niquefa Velasquez\n",
      "Cristian David Lopez Hernandez\n",
      "Diego Fabricio Rincon Piza\n",
      "David Camilo Parra Gomez\n",
      "Sergio Leonardo González Fonseca\n",
      "Harvey Mauricio Tello Gelpud\n",
      "David Felipe Medina Mayorga\n",
      "Daniel Alfonso Pinzon Chavarria\n",
      "Camilo Andrés Chaparro Venegas\n",
      "Laura Valentina Garzon Guiza\n",
      "Arbey Fonseca Vargas\n",
      "Raul Giordano Soto Acero\n",
      "Nestor Alejandro Florian Gomez\n",
      "Cesar Quintero Arias\n",
      "Miguel Angel Sanchez Rojas\n",
      "Alejandro Garcia Castro\n",
      "Daniel Ortiz Betancur\n",
      "Gabriel Torres Peña\n",
      "Damian Diaz Devivero\n",
      "Jorge Alejandro Recamán Guzmán\n",
      "Andres Felipe Naranjo Zuñiga\n",
      "Luis Miguel Gutierrez Ramirez\n",
      "Adriana Lisseth Lozano Torres\n",
      "Daniel Fernando Gonzalez Celis\n",
      "Cindy Johanna Rodriguez Avila\n",
      "Jorge Luis Facundo Herrera\n",
      "José Luis Moreno Calderón\n",
      "Carolina Del Mar Saavedra Rios\n",
      "Daniel David Vega Florez\n",
      "Luis Alejandro Arguelles Salazar\n",
      "David Santiago Fajardo Barrera\n",
      "Juan David Uchuvo Gonzalez\n",
      "Raúl Felipe Coral Jiménez\n",
      "Camilo Andres Cortes Ibañez\n",
      "Jorge Enrique Rojas Olaya\n",
      "Juan Sebastian Rodriguez Casas\n",
      "Angela Dubois Camacho\n",
      "Jose David Salazar Moreno\n",
      "Jonathan Leonard Crespo Eslava\n",
      "Andres Felipe Forero Correa\n",
      "Sebastián Alvarez Luque\n",
      "Laura Angélica Cárdenas Vargas\n",
      "Yessica Katherine Chauta Insuasty\n",
      "Juan Carlos Trujillo Quintero\n",
      "Santiago Echeverri Gonzalez\n",
      "Gina Lorena Galvan Gomez\n",
      "Gian Carlo Cuesta Nova\n",
      "Nestor Camilo Leguizamon Guerra\n",
      "Julian David Gongora Forero\n",
      "Andres Felipe Leal Forero\n",
      "Andrés Felipe Moreno Solano\n",
      "Diego Alexander Salgado Castellanos\n",
      "Juan Daniel Olaya Velasquez\n",
      "Sebastian Camilo Moreno Arango\n",
      "Juan Camilo Chavarro Macareno\n",
      "Camilo Jose Sepulveda Zuñiga\n",
      "Mateo Mancera Rodriguez\n",
      "Harold Nicolas Riascos Molina\n",
      "Jonathan David Salamanca Mora\n",
      "Luis Fernando Rico Ortiz\n",
      "Néstor Andrés Donato Ariza\n",
      "Daniel Camacho Duque\n",
      "David Arturo Míguez Baracaldo\n",
      "Daniel Felipe Sabogal Fajardo\n",
      "Esteban Jaramillo Sarmiento\n",
      "Jonnathan Alejandro Sanchez Alarcon\n",
      "Diego Clemente Rojas Chingate\n",
      "Andrew Rincon Gonzalez\n",
      "David Alejandro Martinez Pinto\n",
      "Juan Camilo Liberato Luna\n",
      "Fabian Andres Acuña Villamil\n",
      "Rafael Antonio Salgado Lopez\n",
      "Johan Sebastián Gómez Luna\n",
      "Alejandro Marin Cardona\n",
      "Daniel Alejandro Mora Garzón\n",
      "Johnattan Fernando Devia Rojas\n",
      "Christopher Andres Rodriguez Fonseca\n",
      "Maikol Bonilla Gil\n",
      "Andres Mauricio Rondon Patiño\n",
      "Steve Eduardo Moscoso Urdaneta\n",
      "Jhon Jairo Camargo Bernal\n",
      "Alexander Gonzalez Castañeda\n",
      "Cristian Camilo López Melo\n",
      "Fernando Alberto Rodriguez Lozano\n",
      "Juan Sebastian Gaona Chaparro\n",
      "Nícolas Miranda Hernández\n",
      "Felipe Castañeda Prieto\n",
      "Ciro Iván García López\n",
      "Andres Fernando Martinez Mendieta\n",
      "David Andres Moreno Martinez\n",
      "Miguel Angel Oyola Ayala\n",
      "Andrés Felipe Cárdenas Hurtado\n",
      "Daniela Idarraga Gomez\n",
      "Oscar Antonio Acelas Upegui\n",
      "Omar Alexander Muñoz Rodriguez\n",
      "Samy Fiorella Cruz Bolivar\n",
      "Juan David Gaitán Forero\n",
      "Byron Martinez Martinez\n",
      "Adriana Lucía Sánchez Ospina\n",
      "Sergio Alejandro Diaz Pinilla\n",
      "Andrea Romero Millan\n",
      "Nelson David Navarro Diaz\n",
      "Federico Julian Acosta Gonzalez\n",
      "Cindy Lorena Ramirez Restrepo\n",
      "Luis Felipe Epia Realpe\n",
      "Maria Elvira Gaviria Forero\n",
      "Paula Lorena Solano Gil\n",
      "Jeison Julian Lozano Jojoa\n",
      "Daniel Santiago Rincon Parra\n",
      "Fredy Alexander Macias Rincon\n"
     ]
    }
   ],
   "source": [
    "for nombre in nombres:\n",
    "    print(nombre.split(\"\\n\")[0])"
   ]
  },
  {
   "cell_type": "code",
   "execution_count": 30,
   "metadata": {},
   "outputs": [],
   "source": [
    "def play_sound():\n",
    "    frequency = 440  # Frequency in Hz\n",
    "    duration = 2.0  # Duration in seconds\n",
    "\n",
    "    # Generate time of samples between 0 and two pi\n",
    "    t = np.linspace(0, duration, int(44100 * duration), False)\n",
    "\n",
    "    # Generate the 440 Hz wave\n",
    "    note = np.sin(frequency * t * 2 * np.pi)\n",
    "\n",
    "    # Ensure that highest value is in 16-bit range\n",
    "    audio = note * (2**15 - 1) / np.max(np.abs(note))\n",
    "    audio = audio.astype(np.int16)\n",
    "\n",
    "    # Play sound\n",
    "    sd.play(audio, 44100)\n",
    "    sd.wait()"
   ]
  },
  {
   "cell_type": "code",
   "execution_count": 62,
   "metadata": {},
   "outputs": [
    {
     "name": "stdout",
     "output_type": "stream",
     "text": [
      "Iniciando busqueda perfiles linkedin\n",
      "buscando .. Cindy Johanna Rodriguez Avila\n"
     ]
    },
    {
     "name": "stderr",
     "output_type": "stream",
     "text": [
      "ALSA lib pcm.c:8568:(snd_pcm_recover) underrun occurred\n"
     ]
    },
    {
     "name": "stdout",
     "output_type": "stream",
     "text": [
      "buscando .. Jorge Luis Facundo Herrera\n",
      "buscando .. José Luis Moreno Calderón\n",
      "buscando .. Carolina Del Mar Saavedra Rios\n",
      "buscando .. Daniel David Vega Florez\n",
      "buscando .. Luis Alejandro Arguelles Salazar\n",
      "buscando .. David Santiago Fajardo Barrera\n",
      "buscando .. Juan David Uchuvo Gonzalez\n",
      "buscando .. Raúl Felipe Coral Jiménez\n",
      "buscando .. Camilo Andres Cortes Ibañez\n",
      "buscando .. Jorge Enrique Rojas Olaya\n",
      "buscando .. Juan Sebastian Rodriguez Casas\n"
     ]
    },
    {
     "name": "stderr",
     "output_type": "stream",
     "text": [
      "ALSA lib pcm.c:8568:(snd_pcm_recover) underrun occurred\n"
     ]
    },
    {
     "name": "stdout",
     "output_type": "stream",
     "text": [
      "buscando .. Angela Dubois Camacho\n",
      "buscando .. Jose David Salazar Moreno\n",
      "buscando .. Jonathan Leonard Crespo Eslava\n",
      "Error al abrir el primer enlace para la búsqueda 'Jonathan Leonard Crespo Eslava': list index out of range\n",
      "buscando .. Andres Felipe Forero Correa\n",
      "buscando .. Sebastián Alvarez Luque\n",
      "buscando .. Laura Angélica Cárdenas Vargas\n",
      "buscando .. Yessica Katherine Chauta Insuasty\n",
      "Error al abrir el primer enlace para la búsqueda 'Yessica Katherine Chauta Insuasty': list index out of range\n",
      "buscando .. Juan Carlos Trujillo Quintero\n",
      "buscando .. Santiago Echeverri Gonzalez\n",
      "buscando .. Gina Lorena Galvan Gomez\n",
      "Error al abrir el primer enlace para la búsqueda 'Gina Lorena Galvan Gomez': list index out of range\n",
      "buscando .. Gian Carlo Cuesta Nova\n",
      "Error al abrir el primer enlace para la búsqueda 'Gian Carlo Cuesta Nova': list index out of range\n",
      "buscando .. Nestor Camilo Leguizamon Guerra\n"
     ]
    },
    {
     "name": "stderr",
     "output_type": "stream",
     "text": [
      "ALSA lib pcm.c:8568:(snd_pcm_recover) underrun occurred\n",
      "ALSA lib pcm.c:8568:(snd_pcm_recover) underrun occurred\n",
      "ALSA lib pcm.c:8568:(snd_pcm_recover) underrun occurred\n",
      "ALSA lib pcm.c:8568:(snd_pcm_recover) underrun occurred\n",
      "ALSA lib pcm.c:8568:(snd_pcm_recover) underrun occurred\n",
      "ALSA lib pcm.c:8568:(snd_pcm_recover) underrun occurred\n",
      "ALSA lib pcm.c:8568:(snd_pcm_recover) underrun occurred\n",
      "ALSA lib pcm.c:8568:(snd_pcm_recover) underrun occurred\n",
      "ALSA lib pcm.c:8568:(snd_pcm_recover) underrun occurred\n"
     ]
    },
    {
     "name": "stdout",
     "output_type": "stream",
     "text": [
      "buscando .. Julian David Gongora Forero\n",
      "buscando .. Andres Felipe Leal Forero\n",
      "buscando .. Andrés Felipe Moreno Solano\n",
      "buscando .. Diego Alexander Salgado Castellanos\n",
      "buscando .. Juan Daniel Olaya Velasquez\n",
      "buscando .. Sebastian Camilo Moreno Arango\n",
      "buscando .. Juan Camilo Chavarro Macareno\n",
      "Error al abrir el primer enlace para la búsqueda 'Juan Camilo Chavarro Macareno': list index out of range\n",
      "buscando .. Camilo Jose Sepulveda Zuñiga\n",
      "buscando .. Mateo Mancera Rodriguez\n",
      "buscando .. Harold Nicolas Riascos Molina\n",
      "buscando .. Jonathan David Salamanca Mora\n",
      "buscando .. Luis Fernando Rico Ortiz\n"
     ]
    },
    {
     "name": "stderr",
     "output_type": "stream",
     "text": [
      "ALSA lib pcm.c:8568:(snd_pcm_recover) underrun occurred\n",
      "ALSA lib pcm.c:8568:(snd_pcm_recover) underrun occurred\n",
      "ALSA lib pcm.c:8568:(snd_pcm_recover) underrun occurred\n"
     ]
    },
    {
     "name": "stdout",
     "output_type": "stream",
     "text": [
      "Error al abrir el primer enlace para la búsqueda 'Luis Fernando Rico Ortiz': Message: \n",
      "Stacktrace:\n",
      "#0 0x560219542933 <unknown>\n",
      "#1 0x56021921c6f7 <unknown>\n",
      "#2 0x560219263aa6 <unknown>\n",
      "#3 0x560219263b91 <unknown>\n",
      "#4 0x5602192a0fc4 <unknown>\n",
      "#5 0x56021928562d <unknown>\n",
      "#6 0x56021929e857 <unknown>\n",
      "#7 0x5602192853d3 <unknown>\n",
      "#8 0x560219257e64 <unknown>\n",
      "#9 0x560219258c4e <unknown>\n",
      "#10 0x560219508558 <unknown>\n",
      "#11 0x56021950c4a0 <unknown>\n",
      "#12 0x56021951697c <unknown>\n",
      "#13 0x56021950d0b8 <unknown>\n",
      "#14 0x5602194d8cdf <unknown>\n",
      "#15 0x560219531048 <unknown>\n",
      "#16 0x560219531219 <unknown>\n",
      "#17 0x560219541ac3 <unknown>\n",
      "#18 0x7fc93bc94ac3 <unknown>\n",
      "\n",
      "buscando .. Néstor Andrés Donato Ariza\n"
     ]
    },
    {
     "name": "stderr",
     "output_type": "stream",
     "text": [
      "ALSA lib pcm.c:8568:(snd_pcm_recover) underrun occurred\n",
      "ALSA lib pcm.c:8568:(snd_pcm_recover) underrun occurred\n",
      "ALSA lib pcm.c:8568:(snd_pcm_recover) underrun occurred\n"
     ]
    },
    {
     "name": "stdout",
     "output_type": "stream",
     "text": [
      "Error al abrir el primer enlace para la búsqueda 'Néstor Andrés Donato Ariza': Message: \n",
      "Stacktrace:\n",
      "#0 0x560219542933 <unknown>\n",
      "#1 0x56021921c6f7 <unknown>\n",
      "#2 0x560219263aa6 <unknown>\n",
      "#3 0x560219263b91 <unknown>\n",
      "#4 0x5602192a0fc4 <unknown>\n",
      "#5 0x56021928562d <unknown>\n",
      "#6 0x56021929e857 <unknown>\n",
      "#7 0x5602192853d3 <unknown>\n",
      "#8 0x560219257e64 <unknown>\n",
      "#9 0x560219258c4e <unknown>\n",
      "#10 0x560219508558 <unknown>\n",
      "#11 0x56021950c4a0 <unknown>\n",
      "#12 0x56021951697c <unknown>\n",
      "#13 0x56021950d0b8 <unknown>\n",
      "#14 0x5602194d8cdf <unknown>\n",
      "#15 0x560219531048 <unknown>\n",
      "#16 0x560219531219 <unknown>\n",
      "#17 0x560219541ac3 <unknown>\n",
      "#18 0x7fc93bc94ac3 <unknown>\n",
      "\n",
      "buscando .. Daniel Camacho Duque\n"
     ]
    },
    {
     "name": "stderr",
     "output_type": "stream",
     "text": [
      "ALSA lib pcm.c:8568:(snd_pcm_recover) underrun occurred\n",
      "ALSA lib pcm.c:8568:(snd_pcm_recover) underrun occurred\n",
      "ALSA lib pcm.c:8568:(snd_pcm_recover) underrun occurred\n",
      "ALSA lib pcm.c:8568:(snd_pcm_recover) underrun occurred\n"
     ]
    },
    {
     "name": "stdout",
     "output_type": "stream",
     "text": [
      "Error al abrir el primer enlace para la búsqueda 'Daniel Camacho Duque': Message: \n",
      "Stacktrace:\n",
      "#0 0x560219542933 <unknown>\n",
      "#1 0x56021921c6f7 <unknown>\n",
      "#2 0x560219263aa6 <unknown>\n",
      "#3 0x560219263b91 <unknown>\n",
      "#4 0x5602192a0fc4 <unknown>\n",
      "#5 0x56021928562d <unknown>\n",
      "#6 0x56021929e857 <unknown>\n",
      "#7 0x5602192853d3 <unknown>\n",
      "#8 0x560219257e64 <unknown>\n",
      "#9 0x560219258c4e <unknown>\n",
      "#10 0x560219508558 <unknown>\n",
      "#11 0x56021950c4a0 <unknown>\n",
      "#12 0x56021951697c <unknown>\n",
      "#13 0x56021950d0b8 <unknown>\n",
      "#14 0x5602194d8cdf <unknown>\n",
      "#15 0x560219531048 <unknown>\n",
      "#16 0x560219531219 <unknown>\n",
      "#17 0x560219541ac3 <unknown>\n",
      "#18 0x7fc93bc94ac3 <unknown>\n",
      "\n",
      "buscando .. David Arturo Míguez Baracaldo\n"
     ]
    },
    {
     "name": "stderr",
     "output_type": "stream",
     "text": [
      "ALSA lib pcm.c:8568:(snd_pcm_recover) underrun occurred\n",
      "ALSA lib pcm.c:8568:(snd_pcm_recover) underrun occurred\n",
      "ALSA lib pcm.c:8568:(snd_pcm_recover) underrun occurred\n",
      "ALSA lib pcm.c:8568:(snd_pcm_recover) underrun occurred\n",
      "ALSA lib pcm.c:8568:(snd_pcm_recover) underrun occurred\n",
      "ALSA lib pcm.c:8568:(snd_pcm_recover) underrun occurred\n",
      "ALSA lib pcm.c:8568:(snd_pcm_recover) underrun occurred\n",
      "ALSA lib pcm.c:8568:(snd_pcm_recover) underrun occurred\n",
      "ALSA lib pcm.c:8568:(snd_pcm_recover) underrun occurred\n"
     ]
    },
    {
     "name": "stdout",
     "output_type": "stream",
     "text": [
      "Error al abrir el primer enlace para la búsqueda 'David Arturo Míguez Baracaldo': Message: \n",
      "Stacktrace:\n",
      "#0 0x560219542933 <unknown>\n",
      "#1 0x56021921c6f7 <unknown>\n",
      "#2 0x560219263aa6 <unknown>\n",
      "#3 0x560219263b91 <unknown>\n",
      "#4 0x5602192a0fc4 <unknown>\n",
      "#5 0x56021928562d <unknown>\n",
      "#6 0x56021929e857 <unknown>\n",
      "#7 0x5602192853d3 <unknown>\n",
      "#8 0x560219257e64 <unknown>\n",
      "#9 0x560219258c4e <unknown>\n",
      "#10 0x560219508558 <unknown>\n",
      "#11 0x56021950c4a0 <unknown>\n",
      "#12 0x56021951697c <unknown>\n",
      "#13 0x56021950d0b8 <unknown>\n",
      "#14 0x5602194d8cdf <unknown>\n",
      "#15 0x560219531048 <unknown>\n",
      "#16 0x560219531219 <unknown>\n",
      "#17 0x560219541ac3 <unknown>\n",
      "#18 0x7fc93bc94ac3 <unknown>\n",
      "\n",
      "buscando .. Daniel Felipe Sabogal Fajardo\n"
     ]
    },
    {
     "name": "stderr",
     "output_type": "stream",
     "text": [
      "ALSA lib pcm.c:8568:(snd_pcm_recover) underrun occurred\n",
      "ALSA lib pcm.c:8568:(snd_pcm_recover) underrun occurred\n",
      "ALSA lib pcm.c:8568:(snd_pcm_recover) underrun occurred\n"
     ]
    },
    {
     "name": "stdout",
     "output_type": "stream",
     "text": [
      "Error al abrir el primer enlace para la búsqueda 'Daniel Felipe Sabogal Fajardo': Message: \n",
      "Stacktrace:\n",
      "#0 0x560219542933 <unknown>\n",
      "#1 0x56021921c6f7 <unknown>\n",
      "#2 0x560219263aa6 <unknown>\n",
      "#3 0x560219263b91 <unknown>\n",
      "#4 0x5602192a0fc4 <unknown>\n",
      "#5 0x56021928562d <unknown>\n",
      "#6 0x56021929e857 <unknown>\n",
      "#7 0x5602192853d3 <unknown>\n",
      "#8 0x560219257e64 <unknown>\n",
      "#9 0x560219258c4e <unknown>\n",
      "#10 0x560219508558 <unknown>\n",
      "#11 0x56021950c4a0 <unknown>\n",
      "#12 0x56021951697c <unknown>\n",
      "#13 0x56021950d0b8 <unknown>\n",
      "#14 0x5602194d8cdf <unknown>\n",
      "#15 0x560219531048 <unknown>\n",
      "#16 0x560219531219 <unknown>\n",
      "#17 0x560219541ac3 <unknown>\n",
      "#18 0x7fc93bc94ac3 <unknown>\n",
      "\n",
      "buscando .. Esteban Jaramillo Sarmiento\n",
      "Error al abrir el primer enlace para la búsqueda 'Esteban Jaramillo Sarmiento': Message: \n",
      "Stacktrace:\n",
      "#0 0x560219542933 <unknown>\n",
      "#1 0x56021921c6f7 <unknown>\n",
      "#2 0x560219263aa6 <unknown>\n",
      "#3 0x560219263b91 <unknown>\n",
      "#4 0x5602192a0fc4 <unknown>\n",
      "#5 0x56021928562d <unknown>\n",
      "#6 0x56021929e857 <unknown>\n",
      "#7 0x5602192853d3 <unknown>\n",
      "#8 0x560219257e64 <unknown>\n",
      "#9 0x560219258c4e <unknown>\n",
      "#10 0x560219508558 <unknown>\n",
      "#11 0x56021950c4a0 <unknown>\n",
      "#12 0x56021951697c <unknown>\n",
      "#13 0x56021950d0b8 <unknown>\n",
      "#14 0x5602194d8cdf <unknown>\n",
      "#15 0x560219531048 <unknown>\n",
      "#16 0x560219531219 <unknown>\n",
      "#17 0x560219541ac3 <unknown>\n",
      "#18 0x7fc93bc94ac3 <unknown>\n",
      "\n",
      "buscando .. Jonnathan Alejandro Sanchez Alarcon\n"
     ]
    },
    {
     "name": "stderr",
     "output_type": "stream",
     "text": [
      "ALSA lib pcm.c:8568:(snd_pcm_recover) underrun occurred\n"
     ]
    },
    {
     "name": "stdout",
     "output_type": "stream",
     "text": [
      "Error al abrir el primer enlace para la búsqueda 'Jonnathan Alejandro Sanchez Alarcon': Message: \n",
      "Stacktrace:\n",
      "#0 0x560219542933 <unknown>\n",
      "#1 0x56021921c6f7 <unknown>\n",
      "#2 0x560219263aa6 <unknown>\n",
      "#3 0x560219263b91 <unknown>\n",
      "#4 0x5602192a0fc4 <unknown>\n",
      "#5 0x56021928562d <unknown>\n",
      "#6 0x56021929e857 <unknown>\n",
      "#7 0x5602192853d3 <unknown>\n",
      "#8 0x560219257e64 <unknown>\n",
      "#9 0x560219258c4e <unknown>\n",
      "#10 0x560219508558 <unknown>\n",
      "#11 0x56021950c4a0 <unknown>\n",
      "#12 0x56021951697c <unknown>\n",
      "#13 0x56021950d0b8 <unknown>\n",
      "#14 0x5602194d8cdf <unknown>\n",
      "#15 0x560219531048 <unknown>\n",
      "#16 0x560219531219 <unknown>\n",
      "#17 0x560219541ac3 <unknown>\n",
      "#18 0x7fc93bc94ac3 <unknown>\n",
      "\n",
      "buscando .. Diego Clemente Rojas Chingate\n"
     ]
    },
    {
     "name": "stderr",
     "output_type": "stream",
     "text": [
      "ALSA lib pcm.c:8568:(snd_pcm_recover) underrun occurred\n",
      "ALSA lib pcm.c:8568:(snd_pcm_recover) underrun occurred\n"
     ]
    },
    {
     "name": "stdout",
     "output_type": "stream",
     "text": [
      "Error al abrir el primer enlace para la búsqueda 'Diego Clemente Rojas Chingate': Message: \n",
      "Stacktrace:\n",
      "#0 0x560219542933 <unknown>\n",
      "#1 0x56021921c6f7 <unknown>\n",
      "#2 0x560219263aa6 <unknown>\n",
      "#3 0x560219263b91 <unknown>\n",
      "#4 0x5602192a0fc4 <unknown>\n",
      "#5 0x56021928562d <unknown>\n",
      "#6 0x56021929e857 <unknown>\n",
      "#7 0x5602192853d3 <unknown>\n",
      "#8 0x560219257e64 <unknown>\n",
      "#9 0x560219258c4e <unknown>\n",
      "#10 0x560219508558 <unknown>\n",
      "#11 0x56021950c4a0 <unknown>\n",
      "#12 0x56021951697c <unknown>\n",
      "#13 0x56021950d0b8 <unknown>\n",
      "#14 0x5602194d8cdf <unknown>\n",
      "#15 0x560219531048 <unknown>\n",
      "#16 0x560219531219 <unknown>\n",
      "#17 0x560219541ac3 <unknown>\n",
      "#18 0x7fc93bc94ac3 <unknown>\n",
      "\n",
      "buscando .. Andrew Rincon Gonzalez\n"
     ]
    },
    {
     "name": "stderr",
     "output_type": "stream",
     "text": [
      "ALSA lib pcm.c:8568:(snd_pcm_recover) underrun occurred\n",
      "ALSA lib pcm.c:8568:(snd_pcm_recover) underrun occurred\n",
      "ALSA lib pcm.c:8568:(snd_pcm_recover) underrun occurred\n",
      "ALSA lib pcm.c:8568:(snd_pcm_recover) underrun occurred\n",
      "ALSA lib pcm.c:8568:(snd_pcm_recover) underrun occurred\n",
      "ALSA lib pcm.c:8568:(snd_pcm_recover) underrun occurred\n",
      "ALSA lib pcm.c:8568:(snd_pcm_recover) underrun occurred\n",
      "ALSA lib pcm.c:8568:(snd_pcm_recover) underrun occurred\n",
      "ALSA lib pcm.c:8568:(snd_pcm_recover) underrun occurred\n",
      "ALSA lib pcm.c:8568:(snd_pcm_recover) underrun occurred\n",
      "ALSA lib pcm.c:8568:(snd_pcm_recover) underrun occurred\n",
      "ALSA lib pcm.c:8568:(snd_pcm_recover) underrun occurred\n",
      "ALSA lib pcm.c:8568:(snd_pcm_recover) underrun occurred\n",
      "ALSA lib pcm.c:8568:(snd_pcm_recover) underrun occurred\n",
      "ALSA lib pcm.c:8568:(snd_pcm_recover) underrun occurred\n"
     ]
    },
    {
     "name": "stdout",
     "output_type": "stream",
     "text": [
      "Error al abrir el primer enlace para la búsqueda 'Andrew Rincon Gonzalez': Message: \n",
      "Stacktrace:\n",
      "#0 0x560219542933 <unknown>\n",
      "#1 0x56021921c6f7 <unknown>\n",
      "#2 0x560219263aa6 <unknown>\n",
      "#3 0x560219263b91 <unknown>\n",
      "#4 0x5602192a0fc4 <unknown>\n",
      "#5 0x56021928562d <unknown>\n",
      "#6 0x56021929e857 <unknown>\n",
      "#7 0x5602192853d3 <unknown>\n",
      "#8 0x560219257e64 <unknown>\n",
      "#9 0x560219258c4e <unknown>\n",
      "#10 0x560219508558 <unknown>\n",
      "#11 0x56021950c4a0 <unknown>\n",
      "#12 0x56021951697c <unknown>\n",
      "#13 0x56021950d0b8 <unknown>\n",
      "#14 0x5602194d8cdf <unknown>\n",
      "#15 0x560219531048 <unknown>\n",
      "#16 0x560219531219 <unknown>\n",
      "#17 0x560219541ac3 <unknown>\n",
      "#18 0x7fc93bc94ac3 <unknown>\n",
      "\n",
      "buscando .. David Alejandro Martinez Pinto\n"
     ]
    },
    {
     "name": "stderr",
     "output_type": "stream",
     "text": [
      "ALSA lib pcm.c:8568:(snd_pcm_recover) underrun occurred\n",
      "ALSA lib pcm.c:8568:(snd_pcm_recover) underrun occurred\n",
      "ALSA lib pcm.c:8568:(snd_pcm_recover) underrun occurred\n",
      "ALSA lib pcm.c:8568:(snd_pcm_recover) underrun occurred\n",
      "ALSA lib pcm.c:8568:(snd_pcm_recover) underrun occurred\n",
      "ALSA lib pcm.c:8568:(snd_pcm_recover) underrun occurred\n",
      "ALSA lib pcm.c:8568:(snd_pcm_recover) underrun occurred\n",
      "ALSA lib pcm.c:8568:(snd_pcm_recover) underrun occurred\n",
      "ALSA lib pcm.c:8568:(snd_pcm_recover) underrun occurred\n",
      "ALSA lib pcm.c:8568:(snd_pcm_recover) underrun occurred\n",
      "ALSA lib pcm.c:8568:(snd_pcm_recover) underrun occurred\n",
      "ALSA lib pcm.c:8568:(snd_pcm_recover) underrun occurred\n",
      "ALSA lib pcm.c:8568:(snd_pcm_recover) underrun occurred\n",
      "ALSA lib pcm.c:8568:(snd_pcm_recover) underrun occurred\n",
      "ALSA lib pcm.c:8568:(snd_pcm_recover) underrun occurred\n"
     ]
    },
    {
     "name": "stdout",
     "output_type": "stream",
     "text": [
      "Error al abrir el primer enlace para la búsqueda 'David Alejandro Martinez Pinto': Message: \n",
      "Stacktrace:\n",
      "#0 0x560219542933 <unknown>\n",
      "#1 0x56021921c6f7 <unknown>\n",
      "#2 0x560219263aa6 <unknown>\n",
      "#3 0x560219263b91 <unknown>\n",
      "#4 0x5602192a0fc4 <unknown>\n",
      "#5 0x56021928562d <unknown>\n",
      "#6 0x56021929e857 <unknown>\n",
      "#7 0x5602192853d3 <unknown>\n",
      "#8 0x560219257e64 <unknown>\n",
      "#9 0x560219258c4e <unknown>\n",
      "#10 0x560219508558 <unknown>\n",
      "#11 0x56021950c4a0 <unknown>\n",
      "#12 0x56021951697c <unknown>\n",
      "#13 0x56021950d0b8 <unknown>\n",
      "#14 0x5602194d8cdf <unknown>\n",
      "#15 0x560219531048 <unknown>\n",
      "#16 0x560219531219 <unknown>\n",
      "#17 0x560219541ac3 <unknown>\n",
      "#18 0x7fc93bc94ac3 <unknown>\n",
      "\n",
      "buscando .. Juan Camilo Liberato Luna\n"
     ]
    },
    {
     "name": "stderr",
     "output_type": "stream",
     "text": [
      "ALSA lib pcm.c:8568:(snd_pcm_recover) underrun occurred\n",
      "ALSA lib pcm.c:8568:(snd_pcm_recover) underrun occurred\n",
      "ALSA lib pcm.c:8568:(snd_pcm_recover) underrun occurred\n",
      "ALSA lib pcm.c:8568:(snd_pcm_recover) underrun occurred\n"
     ]
    },
    {
     "name": "stdout",
     "output_type": "stream",
     "text": [
      "Error al abrir el primer enlace para la búsqueda 'Juan Camilo Liberato Luna': Message: \n",
      "Stacktrace:\n",
      "#0 0x560219542933 <unknown>\n",
      "#1 0x56021921c6f7 <unknown>\n",
      "#2 0x560219263aa6 <unknown>\n",
      "#3 0x560219263b91 <unknown>\n",
      "#4 0x5602192a0fc4 <unknown>\n",
      "#5 0x56021928562d <unknown>\n",
      "#6 0x56021929e857 <unknown>\n",
      "#7 0x5602192853d3 <unknown>\n",
      "#8 0x560219257e64 <unknown>\n",
      "#9 0x560219258c4e <unknown>\n",
      "#10 0x560219508558 <unknown>\n",
      "#11 0x56021950c4a0 <unknown>\n",
      "#12 0x56021951697c <unknown>\n",
      "#13 0x56021950d0b8 <unknown>\n",
      "#14 0x5602194d8cdf <unknown>\n",
      "#15 0x560219531048 <unknown>\n",
      "#16 0x560219531219 <unknown>\n",
      "#17 0x560219541ac3 <unknown>\n",
      "#18 0x7fc93bc94ac3 <unknown>\n",
      "\n",
      "buscando .. Fabian Andres Acuña Villamil\n"
     ]
    },
    {
     "name": "stderr",
     "output_type": "stream",
     "text": [
      "ALSA lib pcm.c:8568:(snd_pcm_recover) underrun occurred\n",
      "ALSA lib pcm.c:8568:(snd_pcm_recover) underrun occurred\n",
      "ALSA lib pcm.c:8568:(snd_pcm_recover) underrun occurred\n",
      "ALSA lib pcm.c:8568:(snd_pcm_recover) underrun occurred\n",
      "ALSA lib pcm.c:8568:(snd_pcm_recover) underrun occurred\n",
      "ALSA lib pcm.c:8568:(snd_pcm_recover) underrun occurred\n",
      "ALSA lib pcm.c:8568:(snd_pcm_recover) underrun occurred\n",
      "ALSA lib pcm.c:8568:(snd_pcm_recover) underrun occurred\n",
      "ALSA lib pcm.c:8568:(snd_pcm_recover) underrun occurred\n",
      "ALSA lib pcm.c:8568:(snd_pcm_recover) underrun occurred\n",
      "ALSA lib pcm.c:8568:(snd_pcm_recover) underrun occurred\n",
      "ALSA lib pcm.c:8568:(snd_pcm_recover) underrun occurred\n",
      "ALSA lib pcm.c:8568:(snd_pcm_recover) underrun occurred\n",
      "ALSA lib pcm.c:8568:(snd_pcm_recover) underrun occurred\n",
      "ALSA lib pcm.c:8568:(snd_pcm_recover) underrun occurred\n",
      "ALSA lib pcm.c:8568:(snd_pcm_recover) underrun occurred\n",
      "ALSA lib pcm.c:8568:(snd_pcm_recover) underrun occurred\n",
      "ALSA lib pcm.c:8568:(snd_pcm_recover) underrun occurred\n",
      "ALSA lib pcm.c:8568:(snd_pcm_recover) underrun occurred\n",
      "ALSA lib pcm.c:8568:(snd_pcm_recover) underrun occurred\n",
      "ALSA lib pcm.c:8568:(snd_pcm_recover) underrun occurred\n",
      "ALSA lib pcm.c:8568:(snd_pcm_recover) underrun occurred\n",
      "ALSA lib pcm.c:8568:(snd_pcm_recover) underrun occurred\n",
      "ALSA lib pcm.c:8568:(snd_pcm_recover) underrun occurred\n",
      "ALSA lib pcm.c:8568:(snd_pcm_recover) underrun occurred\n"
     ]
    },
    {
     "name": "stdout",
     "output_type": "stream",
     "text": [
      "Error al abrir el primer enlace para la búsqueda 'Fabian Andres Acuña Villamil': Message: \n",
      "Stacktrace:\n",
      "#0 0x560219542933 <unknown>\n",
      "#1 0x56021921c6f7 <unknown>\n",
      "#2 0x560219263aa6 <unknown>\n",
      "#3 0x560219263b91 <unknown>\n",
      "#4 0x5602192a0fc4 <unknown>\n",
      "#5 0x56021928562d <unknown>\n",
      "#6 0x56021929e857 <unknown>\n",
      "#7 0x5602192853d3 <unknown>\n",
      "#8 0x560219257e64 <unknown>\n",
      "#9 0x560219258c4e <unknown>\n",
      "#10 0x560219508558 <unknown>\n",
      "#11 0x56021950c4a0 <unknown>\n",
      "#12 0x56021951697c <unknown>\n",
      "#13 0x56021950d0b8 <unknown>\n",
      "#14 0x5602194d8cdf <unknown>\n",
      "#15 0x560219531048 <unknown>\n",
      "#16 0x560219531219 <unknown>\n",
      "#17 0x560219541ac3 <unknown>\n",
      "#18 0x7fc93bc94ac3 <unknown>\n",
      "\n",
      "buscando .. Rafael Antonio Salgado Lopez\n"
     ]
    },
    {
     "name": "stderr",
     "output_type": "stream",
     "text": [
      "ALSA lib pcm.c:8568:(snd_pcm_recover) underrun occurred\n",
      "ALSA lib pcm.c:8568:(snd_pcm_recover) underrun occurred\n"
     ]
    },
    {
     "name": "stdout",
     "output_type": "stream",
     "text": [
      "buscando .. Johan Sebastián Gómez Luna\n",
      "buscando .. Alejandro Marin Cardona\n"
     ]
    },
    {
     "name": "stderr",
     "output_type": "stream",
     "text": [
      "ALSA lib pcm.c:8568:(snd_pcm_recover) underrun occurred\n",
      "ALSA lib pcm.c:8568:(snd_pcm_recover) underrun occurred\n",
      "ALSA lib pcm.c:8568:(snd_pcm_recover) underrun occurred\n",
      "ALSA lib pcm.c:8568:(snd_pcm_recover) underrun occurred\n"
     ]
    },
    {
     "name": "stdout",
     "output_type": "stream",
     "text": [
      "Encountered 'Sorry' page. Waiting...\n"
     ]
    },
    {
     "name": "stderr",
     "output_type": "stream",
     "text": [
      "ALSA lib pcm.c:8568:(snd_pcm_recover) underrun occurred\n",
      "ALSA lib pcm.c:8568:(snd_pcm_recover) underrun occurred\n"
     ]
    },
    {
     "name": "stdout",
     "output_type": "stream",
     "text": [
      "Encountered 'Sorry' page. Waiting...\n"
     ]
    },
    {
     "name": "stderr",
     "output_type": "stream",
     "text": [
      "ALSA lib pcm.c:8568:(snd_pcm_recover) underrun occurred\n",
      "ALSA lib pcm.c:8568:(snd_pcm_recover) underrun occurred\n",
      "ALSA lib pcm.c:8568:(snd_pcm_recover) underrun occurred\n",
      "ALSA lib pcm.c:8568:(snd_pcm_recover) underrun occurred\n"
     ]
    },
    {
     "name": "stdout",
     "output_type": "stream",
     "text": [
      "Encountered 'Sorry' page. Waiting...\n"
     ]
    },
    {
     "name": "stderr",
     "output_type": "stream",
     "text": [
      "ALSA lib pcm.c:8568:(snd_pcm_recover) underrun occurred\n",
      "ALSA lib pcm.c:8568:(snd_pcm_recover) underrun occurred\n",
      "ALSA lib pcm.c:8568:(snd_pcm_recover) underrun occurred\n",
      "ALSA lib pcm.c:8568:(snd_pcm_recover) underrun occurred\n"
     ]
    },
    {
     "name": "stdout",
     "output_type": "stream",
     "text": [
      "Encountered 'Sorry' page. Waiting...\n"
     ]
    },
    {
     "name": "stderr",
     "output_type": "stream",
     "text": [
      "ALSA lib pcm.c:8568:(snd_pcm_recover) underrun occurred\n",
      "ALSA lib pcm.c:8568:(snd_pcm_recover) underrun occurred\n",
      "ALSA lib pcm.c:8568:(snd_pcm_recover) underrun occurred\n"
     ]
    },
    {
     "name": "stdout",
     "output_type": "stream",
     "text": [
      "Encountered 'Sorry' page. Waiting...\n"
     ]
    },
    {
     "name": "stderr",
     "output_type": "stream",
     "text": [
      "ALSA lib pcm.c:8568:(snd_pcm_recover) underrun occurred\n",
      "ALSA lib pcm.c:8568:(snd_pcm_recover) underrun occurred\n"
     ]
    },
    {
     "name": "stdout",
     "output_type": "stream",
     "text": [
      "Encountered 'Sorry' page. Waiting...\n"
     ]
    },
    {
     "name": "stderr",
     "output_type": "stream",
     "text": [
      "ALSA lib pcm.c:8568:(snd_pcm_recover) underrun occurred\n",
      "ALSA lib pcm.c:8568:(snd_pcm_recover) underrun occurred\n",
      "ALSA lib pcm.c:8568:(snd_pcm_recover) underrun occurred\n"
     ]
    },
    {
     "name": "stdout",
     "output_type": "stream",
     "text": [
      "Encountered 'Sorry' page. Waiting...\n"
     ]
    },
    {
     "name": "stderr",
     "output_type": "stream",
     "text": [
      "ALSA lib pcm.c:8568:(snd_pcm_recover) underrun occurred\n"
     ]
    },
    {
     "name": "stdout",
     "output_type": "stream",
     "text": [
      "Encountered 'Sorry' page. Waiting...\n"
     ]
    },
    {
     "name": "stderr",
     "output_type": "stream",
     "text": [
      "ALSA lib pcm.c:8568:(snd_pcm_recover) underrun occurred\n",
      "ALSA lib pcm.c:8568:(snd_pcm_recover) underrun occurred\n",
      "ALSA lib pcm.c:8568:(snd_pcm_recover) underrun occurred\n"
     ]
    },
    {
     "name": "stdout",
     "output_type": "stream",
     "text": [
      "Encountered 'Sorry' page. Waiting...\n"
     ]
    },
    {
     "name": "stderr",
     "output_type": "stream",
     "text": [
      "ALSA lib pcm.c:8568:(snd_pcm_recover) underrun occurred\n",
      "ALSA lib pcm.c:8568:(snd_pcm_recover) underrun occurred\n",
      "ALSA lib pcm.c:8568:(snd_pcm_recover) underrun occurred\n",
      "ALSA lib pcm.c:8568:(snd_pcm_recover) underrun occurred\n"
     ]
    },
    {
     "name": "stdout",
     "output_type": "stream",
     "text": [
      "Encountered 'Sorry' page. Waiting...\n"
     ]
    },
    {
     "name": "stderr",
     "output_type": "stream",
     "text": [
      "ALSA lib pcm.c:8568:(snd_pcm_recover) underrun occurred\n",
      "ALSA lib pcm.c:8568:(snd_pcm_recover) underrun occurred\n",
      "ALSA lib pcm.c:8568:(snd_pcm_recover) underrun occurred\n",
      "ALSA lib pcm.c:8568:(snd_pcm_recover) underrun occurred\n",
      "ALSA lib pcm.c:8568:(snd_pcm_recover) underrun occurred\n",
      "ALSA lib pcm.c:8568:(snd_pcm_recover) underrun occurred\n",
      "ALSA lib pcm.c:8568:(snd_pcm_recover) underrun occurred\n",
      "ALSA lib pcm.c:8568:(snd_pcm_recover) underrun occurred\n",
      "ALSA lib pcm.c:8568:(snd_pcm_recover) underrun occurred\n",
      "ALSA lib pcm.c:8568:(snd_pcm_recover) underrun occurred\n"
     ]
    },
    {
     "name": "stdout",
     "output_type": "stream",
     "text": [
      "Encountered 'Sorry' page. Waiting...\n"
     ]
    },
    {
     "name": "stderr",
     "output_type": "stream",
     "text": [
      "ALSA lib pcm.c:8568:(snd_pcm_recover) underrun occurred\n",
      "ALSA lib pcm.c:8568:(snd_pcm_recover) underrun occurred\n"
     ]
    },
    {
     "name": "stdout",
     "output_type": "stream",
     "text": [
      "Encountered 'Sorry' page. Waiting...\n"
     ]
    },
    {
     "name": "stderr",
     "output_type": "stream",
     "text": [
      "ALSA lib pcm.c:8568:(snd_pcm_recover) underrun occurred\n",
      "ALSA lib pcm.c:8568:(snd_pcm_recover) underrun occurred\n",
      "ALSA lib pcm.c:8568:(snd_pcm_recover) underrun occurred\n",
      "ALSA lib pcm.c:8568:(snd_pcm_recover) underrun occurred\n",
      "ALSA lib pcm.c:8568:(snd_pcm_recover) underrun occurred\n",
      "ALSA lib pcm.c:8568:(snd_pcm_recover) underrun occurred\n"
     ]
    },
    {
     "name": "stdout",
     "output_type": "stream",
     "text": [
      "Encountered 'Sorry' page. Waiting...\n"
     ]
    },
    {
     "name": "stderr",
     "output_type": "stream",
     "text": [
      "ALSA lib pcm.c:8568:(snd_pcm_recover) underrun occurred\n",
      "ALSA lib pcm.c:8568:(snd_pcm_recover) underrun occurred\n",
      "ALSA lib pcm.c:8568:(snd_pcm_recover) underrun occurred\n"
     ]
    },
    {
     "name": "stdout",
     "output_type": "stream",
     "text": [
      "Encountered 'Sorry' page. Waiting...\n"
     ]
    },
    {
     "name": "stderr",
     "output_type": "stream",
     "text": [
      "ALSA lib pcm.c:8568:(snd_pcm_recover) underrun occurred\n",
      "ALSA lib pcm.c:8568:(snd_pcm_recover) underrun occurred\n",
      "ALSA lib pcm.c:8568:(snd_pcm_recover) underrun occurred\n"
     ]
    },
    {
     "name": "stdout",
     "output_type": "stream",
     "text": [
      "Encountered 'Sorry' page. Waiting...\n",
      "buscando .. Daniel Alejandro Mora Garzón\n",
      "buscando .. Johnattan Fernando Devia Rojas\n",
      "buscando .. Christopher Andres Rodriguez Fonseca\n",
      "buscando .. Maikol Bonilla Gil\n",
      "buscando .. Andres Mauricio Rondon Patiño\n",
      "buscando .. Steve Eduardo Moscoso Urdaneta\n",
      "Error al abrir el primer enlace para la búsqueda 'Steve Eduardo Moscoso Urdaneta': list index out of range\n",
      "buscando .. Jhon Jairo Camargo Bernal\n",
      "buscando .. Alexander Gonzalez Castañeda\n",
      "buscando .. Cristian Camilo López Melo\n"
     ]
    },
    {
     "name": "stderr",
     "output_type": "stream",
     "text": [
      "ALSA lib pcm.c:8568:(snd_pcm_recover) underrun occurred\n",
      "ALSA lib pcm.c:8568:(snd_pcm_recover) underrun occurred\n",
      "ALSA lib pcm.c:8568:(snd_pcm_recover) underrun occurred\n",
      "ALSA lib pcm.c:8568:(snd_pcm_recover) underrun occurred\n",
      "ALSA lib pcm.c:8568:(snd_pcm_recover) underrun occurred\n",
      "ALSA lib pcm.c:8568:(snd_pcm_recover) underrun occurred\n",
      "ALSA lib pcm.c:8568:(snd_pcm_recover) underrun occurred\n",
      "ALSA lib pcm.c:8568:(snd_pcm_recover) underrun occurred\n",
      "ALSA lib pcm.c:8568:(snd_pcm_recover) underrun occurred\n",
      "ALSA lib pcm.c:8568:(snd_pcm_recover) underrun occurred\n",
      "ALSA lib pcm.c:8568:(snd_pcm_recover) underrun occurred\n",
      "ALSA lib pcm.c:8568:(snd_pcm_recover) underrun occurred\n",
      "ALSA lib pcm.c:8568:(snd_pcm_recover) underrun occurred\n",
      "ALSA lib pcm.c:8568:(snd_pcm_recover) underrun occurred\n",
      "ALSA lib pcm.c:8568:(snd_pcm_recover) underrun occurred\n",
      "ALSA lib pcm.c:8568:(snd_pcm_recover) underrun occurred\n",
      "ALSA lib pcm.c:8568:(snd_pcm_recover) underrun occurred\n",
      "ALSA lib pcm.c:8568:(snd_pcm_recover) underrun occurred\n"
     ]
    },
    {
     "name": "stdout",
     "output_type": "stream",
     "text": [
      "buscando .. Fernando Alberto Rodriguez Lozano\n",
      "buscando .. Juan Sebastian Gaona Chaparro\n",
      "buscando .. Nícolas Miranda Hernández\n",
      "buscando .. Felipe Castañeda Prieto\n",
      "buscando .. Ciro Iván García López\n",
      "buscando .. Andres Fernando Martinez Mendieta\n",
      "buscando .. David Andres Moreno Martinez\n",
      "buscando .. Miguel Angel Oyola Ayala\n",
      "buscando .. Andrés Felipe Cárdenas Hurtado\n",
      "buscando .. Daniela Idarraga Gomez\n",
      "buscando .. Oscar Antonio Acelas Upegui\n",
      "Error al abrir el primer enlace para la búsqueda 'Oscar Antonio Acelas Upegui': list index out of range\n",
      "buscando .. Omar Alexander Muñoz Rodriguez\n"
     ]
    },
    {
     "name": "stderr",
     "output_type": "stream",
     "text": [
      "ALSA lib pcm.c:8568:(snd_pcm_recover) underrun occurred\n",
      "ALSA lib pcm.c:8568:(snd_pcm_recover) underrun occurred\n",
      "ALSA lib pcm.c:8568:(snd_pcm_recover) underrun occurred\n",
      "ALSA lib pcm.c:8568:(snd_pcm_recover) underrun occurred\n",
      "ALSA lib pcm.c:8568:(snd_pcm_recover) underrun occurred\n",
      "ALSA lib pcm.c:8568:(snd_pcm_recover) underrun occurred\n"
     ]
    },
    {
     "name": "stdout",
     "output_type": "stream",
     "text": [
      "buscando .. Samy Fiorella Cruz Bolivar\n",
      "Error al abrir el primer enlace para la búsqueda 'Samy Fiorella Cruz Bolivar': list index out of range\n",
      "buscando .. Juan David Gaitán Forero\n",
      "buscando .. Byron Martinez Martinez\n",
      "buscando .. Adriana Lucía Sánchez Ospina\n",
      "buscando .. Sergio Alejandro Diaz Pinilla\n",
      "buscando .. Andrea Romero Millan\n",
      "buscando .. Nelson David Navarro Diaz\n",
      "buscando .. Federico Julian Acosta Gonzalez\n",
      "buscando .. Cindy Lorena Ramirez Restrepo\n",
      "buscando .. Luis Felipe Epia Realpe\n",
      "buscando .. Maria Elvira Gaviria Forero\n",
      "buscando .. Paula Lorena Solano Gil\n",
      "buscando .. Jeison Julian Lozano Jojoa\n",
      "buscando .. Daniel Santiago Rincon Parra\n",
      "buscando .. Fredy Alexander Macias Rincon\n"
     ]
    },
    {
     "data": {
      "text/plain": [
       "\"\\n\\n    cont +=1\\n\\n    if cont == 100:\\n\\n        cont = 0 \\n        if cont_2 % 3 == 0:\\n\\n            busqueda_obj = Busqueda()\\n            busqueda_obj.iniciar()\\n        \\n        cont_2 += 1\\n        \\n        # Get dir\\n\\n        dir = os.path.dirname(os.path.dirname(os.getcwd())) +'/documentacion/new_data'\\n        file_path = dir + '/egresados' + str(cont_2) + '.xlsx'\\n\\n        # Concat to df \\n        \\n        df = pd.DataFrame(dict_egresados)\\n        \\n        save_dataframe_to_excel(file_path, df)\\n\\n\""
      ]
     },
     "execution_count": 62,
     "metadata": {},
     "output_type": "execute_result"
    }
   ],
   "source": [
    "print(\"Iniciando busqueda perfiles linkedin\")\n",
    "\n",
    "\n",
    "busqueda_obj = Busqueda()\n",
    "busqueda_obj.abrir_navegador()\n",
    "time.sleep(10)\n",
    "for nombre in nombres[132:]:\n",
    "    nombre = nombre.split(\"\\n\")[0]\n",
    "    print(\"buscando ..\", nombre)\n",
    "    time.sleep(random.uniform(1,5))\n",
    "    \n",
    "    busqueda_obj.driver.get(\"https://www.google.com\")\n",
    "    busqueda_google = busqueda_obj.driver.find_element(By.NAME, \"q\")\n",
    "    texto_busqueda = 'site:linkedin.com/in/ AND ' + nombre + ' AND Universidad Nacional De Colombia'\n",
    "    busqueda_google.clear()\n",
    "    busqueda_google.send_keys(texto_busqueda)\n",
    "    busqueda_google.send_keys(Keys.RETURN)\n",
    "\n",
    "    try:\n",
    "\n",
    "        if \"sorry\" in busqueda_obj.driver.current_url :\n",
    "            play_sound()\n",
    "            time.sleep(random.uniform(10,15))\n",
    "            \n",
    "        \n",
    "        time.sleep(random.uniform(3, 7))\n",
    "        WebDriverWait(busqueda_obj.driver, 10).until(\n",
    "        EC.presence_of_element_located((By.ID, \"search\"))\n",
    "        )\n",
    "                \n",
    "        # Esperar hasta 5 segundos para que se carguen los resultados de la búsqueda\n",
    "        WebDriverWait(busqueda_obj.driver, 5).until(\n",
    "            EC.presence_of_element_located((By.ID, \"search\"))\n",
    "        )\n",
    "            \n",
    "        elem1 = busqueda_obj.driver.find_elements(By.XPATH,'//*[@id=\"rso\"]/div[1]/div/div/div[1]/div/div/span/a/h3')\n",
    "        elem1[0].click()\n",
    "        time.sleep(random.uniform(1,5))\n",
    "        while 'sorry' in busqueda_obj.driver.current_url or 'checkpoint' in busqueda_obj.driver.current_url:          \n",
    "            play_sound()\n",
    "            print(\"Encountered 'Sorry' page. Waiting...\")\n",
    "                \n",
    "\n",
    "        dict_egresados['Nombre'].append(nombre)\n",
    "        dict_egresados['URL'].append(busqueda_obj.driver.current_url)\n",
    "            \n",
    "        \n",
    "    except Exception as e:\n",
    "        print(f\"Error al abrir el primer enlace para la búsqueda '{nombre}': {e}\")\n",
    "    time.sleep(random.uniform(1,3))\n",
    "'''\n",
    "\n",
    "    cont +=1\n",
    "\n",
    "    if cont == 100:\n",
    "\n",
    "        cont = 0 \n",
    "        if cont_2 % 3 == 0:\n",
    "\n",
    "            busqueda_obj = Busqueda()\n",
    "            busqueda_obj.iniciar()\n",
    "        \n",
    "        cont_2 += 1\n",
    "        \n",
    "        # Get dir\n",
    "\n",
    "        dir = os.path.dirname(os.path.dirname(os.getcwd())) +'/documentacion/new_data'\n",
    "        file_path = dir + '/egresados' + str(cont_2) + '.xlsx'\n",
    "\n",
    "        # Concat to df \n",
    "        \n",
    "        df = pd.DataFrame(dict_egresados)\n",
    "        \n",
    "        save_dataframe_to_excel(file_path, df)\n",
    "\n",
    "'''"
   ]
  },
  {
   "cell_type": "code",
   "execution_count": 58,
   "metadata": {},
   "outputs": [
    {
     "name": "stdout",
     "output_type": "stream",
     "text": [
      "132\n"
     ]
    }
   ],
   "source": [
    "print(len(dict_egresados['Nombre']))"
   ]
  },
  {
   "cell_type": "code",
   "execution_count": 35,
   "metadata": {},
   "outputs": [],
   "source": [
    "test = pd.DataFrame(data = dict_egresados)"
   ]
  },
  {
   "cell_type": "code",
   "execution_count": 37,
   "metadata": {},
   "outputs": [],
   "source": [
    "test.to_excel('/home/user/Desktop/MateoCodes/WebScrapingLinkedin/Data/Links_Linkedin/BD_egresados/Data_Bot/finales.xlsx')"
   ]
  },
  {
   "cell_type": "code",
   "execution_count": 64,
   "metadata": {},
   "outputs": [],
   "source": [
    "# Juan Guillermo Rute Sanabria https://www.linkedin.com/in/juan-guillermo-rute-sanabria-2a683158/?originalSubdomain=es\n",
    "# Laura Maria Guativa Brochero https://www.linkedin.com/in/laura-guativa-brochero/?originalSubdomain=co\n",
    "# Carol Daniela Sanchez Paez https://www.linkedin.com/in/carol-daniela-s%C3%A1nchez-p%C3%A1ez-50956a5b/?originalSubdomain=co\n",
    "# Diana Sofia Melendez Gonzalez https://www.linkedin.com/in/dianasofiamelendez/?originalSubdomain=fr\n",
    "# Santiago Orloff Orloff Rodríguez https://co.linkedin.com/in/santiago-orloff-orloff-rodriguez\n",
    "# Diego Leonardo Chapeton Moreno https://ca.linkedin.com/in/diegochapeton\n",
    "# Sergio Daniel Fierro Losada https://www.linkedin.com/in/sergio-fierro-losada-844952113\n",
    "# Tania Gineth Gomez Carrillo  https://pr.linkedin.com/in/tania-g%C3%B3mez-carrillo-010483105\n",
    "# Daniel Ricardo Camelo Alfonso https://co.linkedin.com/in/daniel-ricardo-camelo-alfonso-a0130068\n",
    "# Diego Said Niquefa Velasquez https://co.linkedin.com/in/diego-niquefa-b6384158\n",
    "# Harvey Mauricio Tello Gelpud https://co.linkedin.com/in/mauriciotellog\n",
    "# Jonathan Leonard Crespo Eslava https://co.linkedin.com/in/jonathan-leonard-crespo-eslava-4065aa149\n",
    "# Yessica Katherine Chauta Insuasty https://co.linkedin.com/in/yessica-chaut%C3%A1-insuasty-87b55610\n",
    "# Gina Lorena Galvan Gomez https://ca.linkedin.com/in/lorenagalvan05\n",
    "# Gian Carlo Cuesta Nova https://co.linkedin.com/in/giancuesta\n",
    "# Juan Camilo Chavarro Macareno https://de.linkedin.com/in/juan-camilo-chavarro-macareno-7237a3a5\n",
    "# Luis Fernando Rico Ortiz https://co.linkedin.com/in/luis-fernando-rico-ortiz\n",
    "# Néstor Andrés Donato Ariza https://co.linkedin.com/in/nestor-donato\n",
    "# Daniel Camacho Duque https://co.linkedin.com/in/danielcamachoauditor\n",
    "# David Arturo Míguez Baracaldo https://it.linkedin.com/in/david-baracaldo\n",
    "# Daniel Felipe Sabogal Fajardo https://co.linkedin.com/in/dsab89\n",
    "# Esteban Jaramillo Sarmiento https://www.linkedin.com/in/0estebanjs/?originalSubdomain=co\n",
    "# Jonnathan Alejandro Sanchez Alarcon https://www.linkedin.com/in/jonnathan-alejandro-s%C3%A1nchez-alarc%C3%B3n-bb1494139/?originalSubdomain=co\n",
    "# Diego Clemente Rojas Chingate https://www.linkedin.com/in/dicrojasch/?originalSubdomain=co\n",
    "# Andrew Rincon Gonzalez https://www.linkedin.com/in/andres-rincon-900b88a1/?originalSubdomain=co\n",
    "# David Alejandro Martinez Pinto https://www.linkedin.com/in/david-alejandro-martinez-pinto-05227994/?originalSubdomain=co\n",
    "# Juan Camilo Liberato Luna https://www.linkedin.com/in/juan-camilo-liberato-luna-100a2b33/?originalSubdomain=co\n",
    "# Fabian Andres Acuña Villamil https://www.linkedin.com/in/faaacunavi/?originalSubdomain=co\n",
    "# Steve Eduardo Moscoso Urdaneta https://www.linkedin.com/in/steve-eduardo-moscoso-urdaneta-5a523210a/?originalSubdomain=co\n",
    "# Oscar Antonio Acelas Upegui https://www.linkedin.com/in/ooaacelasu/?originalSubdomain=co\n",
    "# Samy Fiorella Cruz Bolivar https://www.linkedin.com/in/samyfcruzb/?originalSubdomain=co"
   ]
  },
  {
   "cell_type": "markdown",
   "metadata": {},
   "source": []
  },
  {
   "cell_type": "code",
   "execution_count": 65,
   "metadata": {},
   "outputs": [],
   "source": [
    "copia_dict = dict_egresados"
   ]
  },
  {
   "cell_type": "code",
   "execution_count": 67,
   "metadata": {},
   "outputs": [
    {
     "name": "stdout",
     "output_type": "stream",
     "text": [
      "199\n"
     ]
    }
   ],
   "source": [
    "print(len(dict_egresados['Nombre']))\n",
    "df = pd.DataFrame(data = dict_egresados)"
   ]
  },
  {
   "cell_type": "code",
   "execution_count": 68,
   "metadata": {},
   "outputs": [],
   "source": [
    "df.to_excel('/home/user/Desktop/MateoCodes/WebScrapingLinkedin/Data/Links_Linkedin/BD_egresados/Data_Bot/finales2.xlsx')"
   ]
  },
  {
   "cell_type": "code",
   "execution_count": 31,
   "metadata": {},
   "outputs": [
    {
     "name": "stdout",
     "output_type": "stream",
     "text": [
      "d\n",
      "152\n"
     ]
    }
   ],
   "source": [
    "cont = 0\n",
    "for nombre in nombres:\n",
    "    if (nombre.split(\"\\n\")[0]) in \"Andres Felipe Ordoñez Guevara\":\n",
    "        print(\"d\")\n",
    "    cont += 1\n",
    "print(cont)\n"
   ]
  },
  {
   "cell_type": "code",
   "execution_count": null,
   "metadata": {},
   "outputs": [
    {
     "name": "stdout",
     "output_type": "stream",
     "text": [
      "{'Nombre': ['carlos', 'carlos'], 'URL': ['fa', 'fa']}\n"
     ]
    }
   ],
   "source": [
    "dict_egresados['Nombre'].append('carlos')\n",
    "dict_egresados['URL'].append('fa')\n",
    "\n",
    "print(dict_egresados)"
   ]
  },
  {
   "cell_type": "code",
   "execution_count": 57,
   "metadata": {},
   "outputs": [
    {
     "name": "stdout",
     "output_type": "stream",
     "text": [
      "    Nombre                              URL\n",
      "0    Alice      https://linkedin.com/in/bob\n",
      "1      Bob  https://linkedin.com/in/charlie\n",
      "2  Charlie    https://linkedin.com/in/alice\n"
     ]
    }
   ],
   "source": [
    "import pandas as pd\n",
    "\n",
    "# Create a dictionary with names and LinkedIn URLs\n",
    "linkedin_data = {\n",
    "    'Nombre': ['Alice', 'Bob', 'Charlie'],\n",
    "    'URL': [ 'https://linkedin.com/in/bob', 'https://linkedin.com/in/charlie','https://linkedin.com/in/alice']\n",
    "}\n",
    "\n",
    "# Convert the dictionary to a DataFrame\n",
    "df = pd.DataFrame(linkedin_data)\n",
    "\n",
    "# Display the DataFrame\n",
    "print(df)\n"
   ]
  }
 ],
 "metadata": {
  "kernelspec": {
   "display_name": "env",
   "language": "python",
   "name": "python3"
  },
  "language_info": {
   "codemirror_mode": {
    "name": "ipython",
    "version": 3
   },
   "file_extension": ".py",
   "mimetype": "text/x-python",
   "name": "python",
   "nbconvert_exporter": "python",
   "pygments_lexer": "ipython3",
   "version": "3.10.12"
  },
  "orig_nbformat": 4
 },
 "nbformat": 4,
 "nbformat_minor": 2
}
