{
 "cells": [
  {
   "cell_type": "code",
   "execution_count": 1,
   "metadata": {},
   "outputs": [],
   "source": [
    "import sounddevice as sd\n",
    "from selenium import webdriver\n",
    "from selenium.webdriver.chrome.options import Options\n",
    "from selenium.webdriver.chrome.service import Service\n",
    "from selenium.webdriver.common.by import By\n",
    "from selenium.webdriver.common.keys import Keys\n",
    "from selenium.webdriver import ActionChains\n",
    "from webdriver_manager.chrome import ChromeDriverManager\n",
    "from selenium.webdriver.common.by import By\n",
    "from selenium.webdriver.support.ui import WebDriverWait\n",
    "from selenium.webdriver.support import expected_conditions as EC\n",
    "import time\n",
    "import csv\n",
    "from dotenv import load_dotenv\n",
    "import pandas as pd\n",
    "import os\n",
    "import random\n",
    "import numpy as np"
   ]
  },
  {
   "cell_type": "code",
   "execution_count": 8,
   "metadata": {},
   "outputs": [],
   "source": [
    "class Busqueda:\n",
    "\n",
    "    def __init__(self) -> None:\n",
    "        load_dotenv()\n",
    "        options = Options()\n",
    "        options.add_argument('--disable-dev-shm-usage')\n",
    "        options.add_argument('--incognito')\n",
    "        self.driver = webdriver.Chrome(service=Service(ChromeDriverManager().install()), options=options)\n",
    "\n",
    "    def login_with_email(self):\n",
    "        driver = self.driver\n",
    "        email = driver.find_element(By.XPATH,'//*[@id=\"username\"]')\n",
    "        email.send_keys(os.environ.get('EMAIL5'))\n",
    "        password = driver.find_element(By.XPATH,'//*[@id=\"password\"]')\n",
    "        password.send_keys(os.environ.get('PASSWORD2'))\n",
    "        self.sesion = driver.find_element(By.XPATH,'//*[@id=\"organic-div\"]/form/div[3]/button').click()\n",
    "\n",
    "    def abrir_navegador(self):\n",
    "        self.url = \"https://linkedin.com/uas/login\"\n",
    "        self.driver.get(self.url)\n",
    "        self.login_with_email()\n",
    "\n",
    "    def iniciar(self):\n",
    "        self.abrir_navegador()\n",
    "\n",
    "\n"
   ]
  },
  {
   "cell_type": "code",
   "execution_count": 32,
   "metadata": {},
   "outputs": [],
   "source": [
    "# Enviar código verificacion\n",
    "code_email = '003959'\n",
    "code = driver.find_element(By.XPATH,'//*[@id=\"input__email_verification_pin\"]')\n",
    "code.send_keys(code_email)\n",
    "\n",
    "# Send code\n",
    "\n",
    "send_code = driver.find_element(By.XPATH,'//*[@id=\"email-pin-submit-button\"]').click()"
   ]
  },
  {
   "cell_type": "code",
   "execution_count": 3,
   "metadata": {},
   "outputs": [],
   "source": [
    "# Lectura de archivos egresados\n",
    "\n",
    "#egresados = pd.read_excel('/home/user/Desktop/MateoCodes/WebScrapingLinkedin/documentacion/datos_egresados.xlsx')\n",
    "egresados = pd.read_excel('/home/user/Desktop/MateoCodes/WebScrapingLinkedin/documentacion/NEW_DATA/people_checkpoint.xlsx')"
   ]
  },
  {
   "cell_type": "code",
   "execution_count": 4,
   "metadata": {},
   "outputs": [
    {
     "data": {
      "text/plain": [
       "0         Raúl Fernando Martínez Oviedo\n",
       "1         Jhair Fabian Pinzon Rodriguez\n",
       "2      Cristhian Camilo Gonzalez Garzon\n",
       "3        Javier Steven Solano Calcetero\n",
       "4                   Efrain Galvis Duran\n",
       "                     ...               \n",
       "210         Maria Elvira Gaviria Forero\n",
       "211             Paula Lorena Solano Gil\n",
       "212          Jeison Julian Lozano Jojoa\n",
       "213        Daniel Santiago Rincon Parra\n",
       "214       Fredy Alexander Macias Rincon\n",
       "Name: Nombre, Length: 215, dtype: object"
      ]
     },
     "execution_count": 4,
     "metadata": {},
     "output_type": "execute_result"
    }
   ],
   "source": [
    "nombres = egresados['Nombre']\n",
    "nombres"
   ]
  },
  {
   "cell_type": "code",
   "execution_count": 4,
   "metadata": {},
   "outputs": [
    {
     "name": "stdout",
     "output_type": "stream",
     "text": [
      "0               David Styven Nieto Marin\n",
      "1           Daniel Esteban Romero Romero\n",
      "2            Jorge Andres Galindo Correa\n",
      "3         Jersson Steven Castillo Romero\n",
      "4                 Wilmar Jair Gomez Rios\n",
      "                      ...               \n",
      "7747    Brhayan Stiven Puentes Rodriguez\n",
      "7748             Yeny Sofia Vargas Urrea\n",
      "7749        Mateo De Las Salas Hernandez\n",
      "7750    Michael Lisandro Socha Rodriguez\n",
      "7751      Johan Sebastian Perez Velandia\n",
      "Length: 7752, dtype: object\n"
     ]
    }
   ],
   "source": [
    "nombres = egresados['NOMBRES'] + ' ' + egresados['APELLIDO1'] + ' ' + egresados['APELLIDO2']\n",
    "\n",
    "print(nombres)"
   ]
  },
  {
   "cell_type": "code",
   "execution_count": 3,
   "metadata": {},
   "outputs": [
    {
     "ename": "NameError",
     "evalue": "name 'nombres' is not defined",
     "output_type": "error",
     "traceback": [
      "\u001b[0;31m---------------------------------------------------------------------------\u001b[0m",
      "\u001b[0;31mNameError\u001b[0m                                 Traceback (most recent call last)",
      "\u001b[1;32m/home/user/Desktop/MateoCodes/WebScrapingLinkedin/Scripts/get_data/get_people.ipynb Cell 7\u001b[0m line \u001b[0;36m1\n\u001b[0;32m----> <a href='vscode-notebook-cell:/home/user/Desktop/MateoCodes/WebScrapingLinkedin/Scripts/get_data/get_people.ipynb#W6sZmlsZQ%3D%3D?line=0'>1</a>\u001b[0m \u001b[39mprint\u001b[39m(\u001b[39mlen\u001b[39m(nombres))\n\u001b[1;32m      <a href='vscode-notebook-cell:/home/user/Desktop/MateoCodes/WebScrapingLinkedin/Scripts/get_data/get_people.ipynb#W6sZmlsZQ%3D%3D?line=1'>2</a>\u001b[0m dict_egresados \u001b[39m=\u001b[39m {\n\u001b[1;32m      <a href='vscode-notebook-cell:/home/user/Desktop/MateoCodes/WebScrapingLinkedin/Scripts/get_data/get_people.ipynb#W6sZmlsZQ%3D%3D?line=2'>3</a>\u001b[0m     \u001b[39m'\u001b[39m\u001b[39mNombre\u001b[39m\u001b[39m'\u001b[39m: [],\n\u001b[1;32m      <a href='vscode-notebook-cell:/home/user/Desktop/MateoCodes/WebScrapingLinkedin/Scripts/get_data/get_people.ipynb#W6sZmlsZQ%3D%3D?line=3'>4</a>\u001b[0m     \u001b[39m'\u001b[39m\u001b[39mURL\u001b[39m\u001b[39m'\u001b[39m: []\n\u001b[1;32m      <a href='vscode-notebook-cell:/home/user/Desktop/MateoCodes/WebScrapingLinkedin/Scripts/get_data/get_people.ipynb#W6sZmlsZQ%3D%3D?line=4'>5</a>\u001b[0m }\n\u001b[1;32m      <a href='vscode-notebook-cell:/home/user/Desktop/MateoCodes/WebScrapingLinkedin/Scripts/get_data/get_people.ipynb#W6sZmlsZQ%3D%3D?line=5'>6</a>\u001b[0m \u001b[39mdef\u001b[39;00m \u001b[39msave_dataframe_to_excel\u001b[39m(file_path, dataframe):\n",
      "\u001b[0;31mNameError\u001b[0m: name 'nombres' is not defined"
     ]
    }
   ],
   "source": [
    "print(len(nombres))\n",
    "dict_egresados = {\n",
    "    'Nombre': [],\n",
    "    'URL': []\n",
    "}\n",
    "def save_dataframe_to_excel(file_path, dataframe):\n",
    "    directory = os.path.dirname(file_path)\n",
    "    if not os.path.exists(directory):\n",
    "        os.makedirs(directory)\n",
    "    dataframe.to_excel(file_path, index=False)\n",
    "\n",
    "cont = 0 \n",
    "cont_2 = 14\n"
   ]
  },
  {
   "cell_type": "code",
   "execution_count": 4,
   "metadata": {},
   "outputs": [],
   "source": [
    "nombres = ['Ivan Dario Chinome Vanegas', 'Carlos Fernando Barón Burgos', 'David Barrera Vigoya', 'Laura Vanessa Palacios Arguello', 'Lina Tatiana Castro Castro', 'Camilo Andrés Martínez Martínez', 'Manuel Ivan Cardozo Naranjo', 'Edisson Andres Aguirre Fuerte', 'Maria Paula Garcia Ospina', 'Leonardo Alfredo Triana Cuesta', 'Mairon Danilo Rojas Rodriguez', 'Nicolás Garzón López', 'Hawer Nicolás Rodríguez Villamil', 'Gustavo Adolfo Jimenez Aguilar', 'Sergio Ivan Morales Gonzalez', 'Diego Alejandro Davila Alarcon', 'Wilson Nicolas Laguna Delgado', 'Silvia Maria Parra Oviedo', 'Diego Felipe Rivas Tabares', 'Santiago Mejia Ortiz', 'Diana Alejandra Narvaez Bernal', 'Gerardo Andres Hernandez Arguijo', 'Natalia Cuervo Jimenez', 'Andres Felipe Cruz Vasquez', 'Nicolas Fontecha Olarte', 'David Santiago Martinez Otalora', 'Lina Marcela González Cardozo', 'Juan Pablo Mancera Oyaga', 'Nicolas Larrañaga Cifuentes', 'Sergio Enrique Fuquene Prieto', 'María José Soto Perea', 'Juan Camilo Villarreal Hernandez', 'Marisol Rodríguez Cuevas', 'Marcela Garzon Bolivar', 'Gustavo Adolfo Vargas Castañeda', 'Paulo Jocirei Dias Salcedo', 'Santiago Aguilar Perez', 'David Felipe Jaime Vasquez', 'Javier Fernando Garnica Molina', 'Andres Felipe Romero Torres', 'María Alejandra Rodríguez Tibaná', 'Johan Ricardo Vega Ramirez', 'Liliana Constanza Carmona Suarez', 'Julian Andrei Diaz Correa', 'Nelson Felipe Rincón Soto', 'Christian David Rodriguez Ospina', 'Erick Giovanni Mora Martinez', 'Diego Fernando Herrera Casallas', 'Jonathan Leonardo Begambre Rodriguez', 'Leidy Katherine Montenegro Pabon', 'Damaris Alejandra Mora Arevalo', 'Juan Jose Arenas Rodriguez', 'Jairo Leonardo Matallana Pineda', 'Catalina Garcia Marroquin', 'Alejandro Robayo Zapata', 'David Santiago León Bustamante', 'Juan Andres Ipuz Chacon', 'Cristian Eduardo Parada Criales', 'Sebastian Alarcon Ramos', 'Horacio Guzman Parra', 'Cristian Daniel Moncada Gil', 'Jairo Andres Sanchez Perez', 'Leidy Milena Quiroga Avila', 'Santiago Arguello Medina', 'Angélica Marcela Orjuela Garzón', 'Nayher Andres Clavijo Vallejo', 'Pedro Julio Bareño Moreno', 'Sergio Alfonso Zambrano Vargas', 'Laura Camila Aponte Gutiérrez', 'Daniela Andrea Acosta Forero', 'Juan Carlos Barbosa Segura', 'Oscar Dario Rojas Valencia', 'Steeven Dávila Bernal', 'Hugo Fernando Giraldo Otalora', 'Sergio Alejandro Naranjo Casallas', 'Angie Marcela Diaz Largo', 'Oscar Fernando Alvarez Alvarez', 'Sergio Andres Mendivelso Fernandez', 'Andres Felipe Aranda Balaguera', 'Santiago Martínez Torres', 'Mauricio Ricardo Cuellar Martinez', 'Tatiana Andrea Gracia Prada', 'Paola Fernanda Flórez Galindo', 'David Leonardo Hernández Rincón', 'Julio Alejandro Gomez Orduz', 'Maria Angelica Duque Salazar', 'Sebastián Dávila Huertas', 'Catherine Yuliana Bohorquez Rodriguez', 'Juanita Ortiz Pesca', 'Gabriel Elias Conde Arevalo', 'Rafael David Pacheco Sastoque', 'José Danilo Pedraza Hernández', 'Zaira Naydú Barrantes Rodriguez', 'Juan Camilo Ordoñez Burbano', 'Nicolas Ramirez Burgos', 'Diana Patricia Garavito Divantoque', 'Diego Alejandro Delgadillo Duran', 'Carlos Roman Reina Leal', 'Jefferson Lancheros Espitia', 'Herzon Andres Martinez Pinzon', 'Adriana Patricia Cabrera Del Risco', 'Yessica Natalia Fontecha Silva ', 'Camilo Andrés Carrillo Murcia', 'Carlos Eduardo Barón Moreno', 'Karol Marcela Bejarano Castaño', 'Juan David Bruce Ortiz', 'Valentina Marulanda Acosta', 'Miguel Stive Huerfano Velez', 'Daniel Guillermo Vargas Lavao', 'Andrés Sarmiento Tobón', 'Pablo Andres Pedreros Cano', 'Sebastián Felipe Rincón Reyes', 'Norberto Galvis Agudelo', 'Arturo Jose Montealegre Pallares', 'Carlos Eduardo Morales Saavedra', 'Diana Carolina Martínez Toro', 'Jorge Andres Arroyave Ortegon', 'Gina Marcela Moreno Riveros', 'Johan Sebastián Quintero Rueda', 'Juan David Tole Lozano', 'Jorge Alberto Diaz Cruz', 'Andres Felipe Mora Reyes', 'Francisco Alberto Suárez Rodríguez', 'Julian Santiago Gomez Fuentes', 'Laura Daniela Macias Rodriguez', 'Sindy Paola Castillo Castillo', 'Wendy Nathalya Mora Ardila', 'Luis Daniel Pineda Barrera', 'Edilberto Cañon Pasquel', 'Luisa Fernanda Zarama Lombana', 'Nicolas David Torres Rico', 'Cristian Dario Herrera Tamara', 'Alejandro Correa Torres', 'Victor Manuel Lopez Mayorga', 'Wilson Bayardo Valcarcel Camejo', 'Adriana Layton De La Cruz', 'Andrés Felipe Mesa Gutiérrez', 'Mauricio Esteban Revelo Bernal', 'Laura Nathalia Paredes Acero', 'Alvaro Leonardo Pardo Mendoza', 'Camilo Andres Osorio Romero', 'Francy Alejandra Vanegas Izquierdo', 'Miguel Angel Bermudez Timote', 'Alvaro Andres Ordoñez Hernandez', 'Andres Felipe Fajardo Velez', 'Miguel Angel Salinas Rincon', 'Nicolas Escobar Castañeda', 'Nicolas Alexander Lopez Tellez', 'Heber Camilo Castro Suarez', 'Juan Carlos Verano Espitia', 'Juan Sebastian Otalora Montenegro', 'Maria Paula Bastidas Tovar', 'Jully Paola Arias Reyes', 'Marcel Julian Martinez Vanegas', 'Manuel Ricardo Rozo Guzman', 'Juan Sebastian Santacoloma Barrera', 'Ronald Steve Garzon Espejo', 'Andres Antonio Fernandez Gonzalez', 'Sebastian Valencia Sepulveda', 'Brayan Giovanni Mesa Galvis', 'Cristhian Gabriel Diaz Arteaga', 'Lina Angelica Hidalgo Pachon', 'Leonardo Mariño Angarita', 'Jaime Alberto Chaparro Alvarez', 'Pedro Antonio Castiblanco Monsocua', 'Maria Camila Fonseca Oliveros', 'Esteban Armando Bohórquez Andrade', 'Daniel Felipe Suárez Fonseca', 'Diego Hernando Bossa Gonzalez', 'Luis Agustin Perez Moreno', 'Fernando Andrés Quevedo Gutierrez', 'Mauricio Alexander Garcia Ruiz', 'Mauricio Camargo Santos', 'Nestor David Ramirez Barrera', 'Andrés Felipe Pedraza Triviño', 'Daniel Buitrago Caceres', 'Sandra Patricia Salamanca Jimenez', 'Jorge Nicolas Parada Enriquez', 'Camila Andrea Garcia Echeverri', 'Camilo Arturo Preciado Gutierrez', 'David Felipe Ruiz Rodriguez', 'Alexander Gutierrez Guevara', 'Victor Manuel Diago Valencia', 'Juan Sebastian Montes Florez', 'Gerardo Alonso Torres Rodriguez', 'Cristian Camilo Orjuela Velandia', 'Jorge Arturo Forero Torres', 'Andrés Felipe Cantor Molina', 'Liseth Angelica Alvarado Jaramillo', 'Daniel Eduardo Sierra Santofimio', 'Juan David Galvis Sarria', 'Juan Sebastian Sanchez Osorio', 'Joan Manuel Rivera Sierra', 'Henry Niño Rodríguez', 'Manuel Fernando Guerrero Posada', 'Juan Diego Bencardino Perdomo', 'Jorge Andrés Zamora Abril', 'Michael Estiven Guerrero Acevedo', 'Daniel Camilo Corredor López', 'Juan Pablo Garcia Silva', 'Johan Sebastián Díaz Camacho', 'Andrés Felipe Díaz Nítola', 'Wilman Eduardo Guarin Sanchez', 'Nelson Díaz Ocampo', 'Daniel Felipe Leyva Díaz', 'Laura Victoria Lizarazo Guerra', 'David Mauricio Rosero Tobar', 'Julio Hernan Alfonso Huertas', 'Luis Antonio Robayo Robayo', 'Luis Enrique Guzman Avellaneda', 'Andres Felipe Rodriguez Hernandez', 'Néstor Fabián Rodríguez Buitrago', 'Lina Maria Rodriguez Beltran', 'Daniel Felipe Bueno Calderon', 'Kevin Fabián Guerrero Granados', 'Laura Paulina Bastidas Beltrán', 'Alvaro Andres Avendaño Peña', 'Daniela Angulo Paez', 'Johann Andrés Triana Olaya', 'Diana Cecilia Cuervo Cespedes', 'Vivian Loreny Alarcon Prieto', 'Adriana Carolina Galindo Vargas', 'Andres Felipe Higuera Solano', 'Edwin Javier Jimenez Casares', 'Camilo Andres Amaya Rodriguez', 'Yeison Fabian Ramos Naranjo', 'Luis Eduardo Martin De La Peña', 'Pedro Jose Arias Monje', 'Andrés Felipe Castellanos Páez', 'Juan Fernando Cuervo Arevalo', 'Gabriel Hernandez Cardozo', 'Juan Sebastian Bello Bello', 'Julieth Lorena Ríos Hernández', 'Felipe Rico Cortes', 'Julian David Martinez Medina', 'Juan David Vargas Galindo', 'Andrés Julián Buitrago Lamy', 'Sebastian Alejandro Velasco Dimate', 'Hernan David Solano Parra', 'Mario Andres Rubiano Rojas', 'Irene Del Pilar Rosas Castellar', 'Diego Manuel Vacca Sanchez', 'Juan Camilo Cely Garzon', 'Gerardo Nava Moreno', 'Julian Andres Murcia Narvaez', 'David Mauricio Castiblanco Casas', 'Xiomara Cruz Rodriguez', 'Oscar Andrés Vargas Reyes', 'Mateo Mateus Forero', 'Francisco Javier Quintero Cortes', 'Richard Orlando Herrera Peña', 'Luis David Ordoñez Suarez', 'Cristian Nicolas Gomez Rojas', 'Edwin Alexander Rabelo Gamba', 'Hector Andres Rosero Becerra', 'Angelica Maria Rojas Choconta', 'Andres Francisco Rodriguez Peraza', 'Yeimy Johana Calvo Fuentes', 'Juan Camilo Torres Cedano', 'Juan Pablo Arevalo Rivera', 'Ivan Felipe Bejarano Gantiva', 'Felipe Rojas Arredondo', 'Octavio Augusto Torres Galvis', 'William Andres Montañez Caicedo', 'Nicolas Garcia Castañeda', 'Loren Gisela Pedraza Romero', 'Luis Enrique Garzon Sabogal', 'Juan Carlos Gama Roa', 'Sergio Javier Avendaño Peña', 'Andrés Felipe Pedraza Guerrero', 'Oscar Camilo Sutta Sanchez', 'Nicolas Tellez Ortiz', 'Julio Cesar Cardenas Sotelo', 'Luis Alejandro Vargas Ramos', 'Edna Johana Cañón Quiroga', 'Leonardo Muñoz Muñoz', 'Juan David Ramos Lopez', 'Johan Sebastian Bautista Rodriguez', 'Luis Carlos Bohórquez Garzón', 'Julián Camilo Jimenez Moreno', 'Jhonatan Esteban Restrepo Duque', 'Johanna Carolina Hernandez Silva', 'Sebastian Moreno Ramirez', 'Daniel Esteban Rosero López', 'Claudia Eugenia Berdugo Diaz', 'Cristian Javier Acosta Cedeño', 'Dayana Stefany Vega Latorre', 'Jose Alex Bernal Meneses', 'Juan Pablo Giron Bastidas', 'Julian Francisco Mojica Sanchez', 'Jeison Fabian Bocanegra Lopez', 'Brayan Esteban Garzon Feo', 'Johan José Castañeda Vega', 'Milton Augusto Holguín Barrera', 'Santiago Maria Marquez Arevalo', 'Andres Felipe Montaña Guerrero', 'Sergio Hernan Manjarres Paredes', 'Jesus Gregorio Carrillo Toloza']\n",
    "dict_egresados = {'Nombre': [],'URL': []}"
   ]
  },
  {
   "cell_type": "code",
   "execution_count": 5,
   "metadata": {},
   "outputs": [
    {
     "name": "stdout",
     "output_type": "stream",
     "text": [
      "Ivan Dario Chinome Vanegas\n",
      "Carlos Fernando Barón Burgos\n",
      "David Barrera Vigoya\n",
      "Laura Vanessa Palacios Arguello\n",
      "Lina Tatiana Castro Castro\n",
      "Camilo Andrés Martínez Martínez\n",
      "Manuel Ivan Cardozo Naranjo\n",
      "Edisson Andres Aguirre Fuerte\n",
      "Maria Paula Garcia Ospina\n",
      "Leonardo Alfredo Triana Cuesta\n",
      "Mairon Danilo Rojas Rodriguez\n",
      "Nicolás Garzón López\n",
      "Hawer Nicolás Rodríguez Villamil\n",
      "Gustavo Adolfo Jimenez Aguilar\n",
      "Sergio Ivan Morales Gonzalez\n",
      "Diego Alejandro Davila Alarcon\n",
      "Wilson Nicolas Laguna Delgado\n",
      "Silvia Maria Parra Oviedo\n",
      "Diego Felipe Rivas Tabares\n",
      "Santiago Mejia Ortiz\n",
      "Diana Alejandra Narvaez Bernal\n",
      "Gerardo Andres Hernandez Arguijo\n",
      "Natalia Cuervo Jimenez\n",
      "Andres Felipe Cruz Vasquez\n",
      "Nicolas Fontecha Olarte\n",
      "David Santiago Martinez Otalora\n",
      "Lina Marcela González Cardozo\n",
      "Juan Pablo Mancera Oyaga\n",
      "Nicolas Larrañaga Cifuentes\n",
      "Sergio Enrique Fuquene Prieto\n",
      "María José Soto Perea\n",
      "Juan Camilo Villarreal Hernandez\n",
      "Marisol Rodríguez Cuevas\n",
      "Marcela Garzon Bolivar\n",
      "Gustavo Adolfo Vargas Castañeda\n",
      "Paulo Jocirei Dias Salcedo\n",
      "Santiago Aguilar Perez\n",
      "David Felipe Jaime Vasquez\n",
      "Javier Fernando Garnica Molina\n",
      "Andres Felipe Romero Torres\n",
      "María Alejandra Rodríguez Tibaná\n",
      "Johan Ricardo Vega Ramirez\n",
      "Liliana Constanza Carmona Suarez\n",
      "Julian Andrei Diaz Correa\n",
      "Nelson Felipe Rincón Soto\n",
      "Christian David Rodriguez Ospina\n",
      "Erick Giovanni Mora Martinez\n",
      "Diego Fernando Herrera Casallas\n",
      "Jonathan Leonardo Begambre Rodriguez\n",
      "Leidy Katherine Montenegro Pabon\n",
      "Damaris Alejandra Mora Arevalo\n",
      "Juan Jose Arenas Rodriguez\n",
      "Jairo Leonardo Matallana Pineda\n",
      "Catalina Garcia Marroquin\n",
      "Alejandro Robayo Zapata\n",
      "David Santiago León Bustamante\n",
      "Juan Andres Ipuz Chacon\n",
      "Cristian Eduardo Parada Criales\n",
      "Sebastian Alarcon Ramos\n",
      "Horacio Guzman Parra\n",
      "Cristian Daniel Moncada Gil\n",
      "Jairo Andres Sanchez Perez\n",
      "Leidy Milena Quiroga Avila\n",
      "Santiago Arguello Medina\n",
      "Angélica Marcela Orjuela Garzón\n",
      "Nayher Andres Clavijo Vallejo\n",
      "Pedro Julio Bareño Moreno\n",
      "Sergio Alfonso Zambrano Vargas\n",
      "Laura Camila Aponte Gutiérrez\n",
      "Daniela Andrea Acosta Forero\n",
      "Juan Carlos Barbosa Segura\n",
      "Oscar Dario Rojas Valencia\n",
      "Steeven Dávila Bernal\n",
      "Hugo Fernando Giraldo Otalora\n",
      "Sergio Alejandro Naranjo Casallas\n",
      "Angie Marcela Diaz Largo\n",
      "Oscar Fernando Alvarez Alvarez\n",
      "Sergio Andres Mendivelso Fernandez\n",
      "Andres Felipe Aranda Balaguera\n",
      "Santiago Martínez Torres\n",
      "Mauricio Ricardo Cuellar Martinez\n",
      "Tatiana Andrea Gracia Prada\n",
      "Paola Fernanda Flórez Galindo\n",
      "David Leonardo Hernández Rincón\n",
      "Julio Alejandro Gomez Orduz\n",
      "Maria Angelica Duque Salazar\n",
      "Sebastián Dávila Huertas\n",
      "Catherine Yuliana Bohorquez Rodriguez\n",
      "Juanita Ortiz Pesca\n",
      "Gabriel Elias Conde Arevalo\n",
      "Rafael David Pacheco Sastoque\n",
      "José Danilo Pedraza Hernández\n",
      "Zaira Naydú Barrantes Rodriguez\n",
      "Juan Camilo Ordoñez Burbano\n",
      "Nicolas Ramirez Burgos\n",
      "Diana Patricia Garavito Divantoque\n",
      "Diego Alejandro Delgadillo Duran\n",
      "Carlos Roman Reina Leal\n",
      "Jefferson Lancheros Espitia\n",
      "Herzon Andres Martinez Pinzon\n",
      "Adriana Patricia Cabrera Del Risco\n",
      "Yessica Natalia Fontecha Silva \n",
      "Camilo Andrés Carrillo Murcia\n",
      "Carlos Eduardo Barón Moreno\n",
      "Karol Marcela Bejarano Castaño\n",
      "Juan David Bruce Ortiz\n",
      "Valentina Marulanda Acosta\n",
      "Miguel Stive Huerfano Velez\n",
      "Daniel Guillermo Vargas Lavao\n",
      "Andrés Sarmiento Tobón\n",
      "Pablo Andres Pedreros Cano\n",
      "Sebastián Felipe Rincón Reyes\n",
      "Norberto Galvis Agudelo\n",
      "Arturo Jose Montealegre Pallares\n",
      "Carlos Eduardo Morales Saavedra\n",
      "Diana Carolina Martínez Toro\n",
      "Jorge Andres Arroyave Ortegon\n",
      "Gina Marcela Moreno Riveros\n",
      "Johan Sebastián Quintero Rueda\n",
      "Juan David Tole Lozano\n",
      "Jorge Alberto Diaz Cruz\n",
      "Andres Felipe Mora Reyes\n",
      "Francisco Alberto Suárez Rodríguez\n",
      "Julian Santiago Gomez Fuentes\n",
      "Laura Daniela Macias Rodriguez\n",
      "Sindy Paola Castillo Castillo\n",
      "Wendy Nathalya Mora Ardila\n",
      "Luis Daniel Pineda Barrera\n",
      "Edilberto Cañon Pasquel\n",
      "Luisa Fernanda Zarama Lombana\n",
      "Nicolas David Torres Rico\n",
      "Cristian Dario Herrera Tamara\n",
      "Alejandro Correa Torres\n",
      "Victor Manuel Lopez Mayorga\n",
      "Wilson Bayardo Valcarcel Camejo\n",
      "Adriana Layton De La Cruz\n",
      "Andrés Felipe Mesa Gutiérrez\n",
      "Mauricio Esteban Revelo Bernal\n",
      "Laura Nathalia Paredes Acero\n",
      "Alvaro Leonardo Pardo Mendoza\n",
      "Camilo Andres Osorio Romero\n",
      "Francy Alejandra Vanegas Izquierdo\n",
      "Miguel Angel Bermudez Timote\n",
      "Alvaro Andres Ordoñez Hernandez\n",
      "Andres Felipe Fajardo Velez\n",
      "Miguel Angel Salinas Rincon\n",
      "Nicolas Escobar Castañeda\n",
      "Nicolas Alexander Lopez Tellez\n",
      "Heber Camilo Castro Suarez\n",
      "Juan Carlos Verano Espitia\n",
      "Juan Sebastian Otalora Montenegro\n",
      "Maria Paula Bastidas Tovar\n",
      "Jully Paola Arias Reyes\n",
      "Marcel Julian Martinez Vanegas\n",
      "Manuel Ricardo Rozo Guzman\n",
      "Juan Sebastian Santacoloma Barrera\n",
      "Ronald Steve Garzon Espejo\n",
      "Andres Antonio Fernandez Gonzalez\n",
      "Sebastian Valencia Sepulveda\n",
      "Brayan Giovanni Mesa Galvis\n",
      "Cristhian Gabriel Diaz Arteaga\n",
      "Lina Angelica Hidalgo Pachon\n",
      "Leonardo Mariño Angarita\n",
      "Jaime Alberto Chaparro Alvarez\n",
      "Pedro Antonio Castiblanco Monsocua\n",
      "Maria Camila Fonseca Oliveros\n",
      "Esteban Armando Bohórquez Andrade\n",
      "Daniel Felipe Suárez Fonseca\n",
      "Diego Hernando Bossa Gonzalez\n",
      "Luis Agustin Perez Moreno\n",
      "Fernando Andrés Quevedo Gutierrez\n",
      "Mauricio Alexander Garcia Ruiz\n",
      "Mauricio Camargo Santos\n",
      "Nestor David Ramirez Barrera\n",
      "Andrés Felipe Pedraza Triviño\n",
      "Daniel Buitrago Caceres\n",
      "Sandra Patricia Salamanca Jimenez\n",
      "Jorge Nicolas Parada Enriquez\n",
      "Camila Andrea Garcia Echeverri\n",
      "Camilo Arturo Preciado Gutierrez\n",
      "David Felipe Ruiz Rodriguez\n",
      "Alexander Gutierrez Guevara\n",
      "Victor Manuel Diago Valencia\n",
      "Juan Sebastian Montes Florez\n",
      "Gerardo Alonso Torres Rodriguez\n",
      "Cristian Camilo Orjuela Velandia\n",
      "Jorge Arturo Forero Torres\n",
      "Andrés Felipe Cantor Molina\n",
      "Liseth Angelica Alvarado Jaramillo\n",
      "Daniel Eduardo Sierra Santofimio\n",
      "Juan David Galvis Sarria\n",
      "Juan Sebastian Sanchez Osorio\n",
      "Joan Manuel Rivera Sierra\n",
      "Henry Niño Rodríguez\n",
      "Manuel Fernando Guerrero Posada\n",
      "Juan Diego Bencardino Perdomo\n",
      "Jorge Andrés Zamora Abril\n",
      "Michael Estiven Guerrero Acevedo\n",
      "Daniel Camilo Corredor López\n",
      "Juan Pablo Garcia Silva\n",
      "Johan Sebastián Díaz Camacho\n",
      "Andrés Felipe Díaz Nítola\n",
      "Wilman Eduardo Guarin Sanchez\n",
      "Nelson Díaz Ocampo\n",
      "Daniel Felipe Leyva Díaz\n",
      "Laura Victoria Lizarazo Guerra\n",
      "David Mauricio Rosero Tobar\n",
      "Julio Hernan Alfonso Huertas\n",
      "Luis Antonio Robayo Robayo\n",
      "Luis Enrique Guzman Avellaneda\n",
      "Andres Felipe Rodriguez Hernandez\n",
      "Néstor Fabián Rodríguez Buitrago\n",
      "Lina Maria Rodriguez Beltran\n",
      "Daniel Felipe Bueno Calderon\n",
      "Kevin Fabián Guerrero Granados\n",
      "Laura Paulina Bastidas Beltrán\n",
      "Alvaro Andres Avendaño Peña\n",
      "Daniela Angulo Paez\n",
      "Johann Andrés Triana Olaya\n",
      "Diana Cecilia Cuervo Cespedes\n",
      "Vivian Loreny Alarcon Prieto\n",
      "Adriana Carolina Galindo Vargas\n",
      "Andres Felipe Higuera Solano\n",
      "Edwin Javier Jimenez Casares\n",
      "Camilo Andres Amaya Rodriguez\n",
      "Yeison Fabian Ramos Naranjo\n",
      "Luis Eduardo Martin De La Peña\n",
      "Pedro Jose Arias Monje\n",
      "Andrés Felipe Castellanos Páez\n",
      "Juan Fernando Cuervo Arevalo\n",
      "Gabriel Hernandez Cardozo\n",
      "Juan Sebastian Bello Bello\n",
      "Julieth Lorena Ríos Hernández\n",
      "Felipe Rico Cortes\n",
      "Julian David Martinez Medina\n",
      "Juan David Vargas Galindo\n",
      "Andrés Julián Buitrago Lamy\n",
      "Sebastian Alejandro Velasco Dimate\n",
      "Hernan David Solano Parra\n",
      "Mario Andres Rubiano Rojas\n",
      "Irene Del Pilar Rosas Castellar\n",
      "Diego Manuel Vacca Sanchez\n",
      "Juan Camilo Cely Garzon\n",
      "Gerardo Nava Moreno\n",
      "Julian Andres Murcia Narvaez\n",
      "David Mauricio Castiblanco Casas\n",
      "Xiomara Cruz Rodriguez\n",
      "Oscar Andrés Vargas Reyes\n",
      "Mateo Mateus Forero\n",
      "Francisco Javier Quintero Cortes\n",
      "Richard Orlando Herrera Peña\n",
      "Luis David Ordoñez Suarez\n",
      "Cristian Nicolas Gomez Rojas\n",
      "Edwin Alexander Rabelo Gamba\n",
      "Hector Andres Rosero Becerra\n",
      "Angelica Maria Rojas Choconta\n",
      "Andres Francisco Rodriguez Peraza\n",
      "Yeimy Johana Calvo Fuentes\n",
      "Juan Camilo Torres Cedano\n",
      "Juan Pablo Arevalo Rivera\n",
      "Ivan Felipe Bejarano Gantiva\n",
      "Felipe Rojas Arredondo\n",
      "Octavio Augusto Torres Galvis\n",
      "William Andres Montañez Caicedo\n",
      "Nicolas Garcia Castañeda\n",
      "Loren Gisela Pedraza Romero\n",
      "Luis Enrique Garzon Sabogal\n",
      "Juan Carlos Gama Roa\n",
      "Sergio Javier Avendaño Peña\n",
      "Andrés Felipe Pedraza Guerrero\n",
      "Oscar Camilo Sutta Sanchez\n",
      "Nicolas Tellez Ortiz\n",
      "Julio Cesar Cardenas Sotelo\n",
      "Luis Alejandro Vargas Ramos\n",
      "Edna Johana Cañón Quiroga\n",
      "Leonardo Muñoz Muñoz\n",
      "Juan David Ramos Lopez\n",
      "Johan Sebastian Bautista Rodriguez\n",
      "Luis Carlos Bohórquez Garzón\n",
      "Julián Camilo Jimenez Moreno\n",
      "Jhonatan Esteban Restrepo Duque\n",
      "Johanna Carolina Hernandez Silva\n",
      "Sebastian Moreno Ramirez\n",
      "Daniel Esteban Rosero López\n",
      "Claudia Eugenia Berdugo Diaz\n",
      "Cristian Javier Acosta Cedeño\n",
      "Dayana Stefany Vega Latorre\n",
      "Jose Alex Bernal Meneses\n",
      "Juan Pablo Giron Bastidas\n",
      "Julian Francisco Mojica Sanchez\n",
      "Jeison Fabian Bocanegra Lopez\n",
      "Brayan Esteban Garzon Feo\n",
      "Johan José Castañeda Vega\n",
      "Milton Augusto Holguín Barrera\n",
      "Santiago Maria Marquez Arevalo\n",
      "Andres Felipe Montaña Guerrero\n",
      "Sergio Hernan Manjarres Paredes\n",
      "Jesus Gregorio Carrillo Toloza\n"
     ]
    }
   ],
   "source": [
    "for nombre in nombres:\n",
    "    print(nombre.split(\"\\n\")[0])"
   ]
  },
  {
   "cell_type": "code",
   "execution_count": 6,
   "metadata": {},
   "outputs": [],
   "source": [
    "def play_sound():\n",
    "    frequency = 440  # Frequency in Hz\n",
    "    duration = 2.0  # Duration in seconds\n",
    "\n",
    "    # Generate time of samples between 0 and two pi\n",
    "    t = np.linspace(0, duration, int(44100 * duration), False)\n",
    "\n",
    "    # Generate the 440 Hz wave\n",
    "    note = np.sin(frequency * t * 2 * np.pi)\n",
    "\n",
    "    # Ensure that highest value is in 16-bit range\n",
    "    audio = note * (2**15 - 1) / np.max(np.abs(note))\n",
    "    audio = audio.astype(np.int16)\n",
    "\n",
    "    # Play sound\n",
    "    sd.play(audio, 44100)\n",
    "    sd.wait()"
   ]
  },
  {
   "cell_type": "code",
   "execution_count": 10,
   "metadata": {},
   "outputs": [
    {
     "name": "stdout",
     "output_type": "stream",
     "text": [
      "Iniciando busqueda perfiles linkedin\n",
      "buscando .. Alejandro Correa Torres\n",
      "buscando .. Victor Manuel Lopez Mayorga\n",
      "buscando .. Wilson Bayardo Valcarcel Camejo\n",
      "buscando .. Adriana Layton De La Cruz\n",
      "Error al abrir el primer enlace para la búsqueda 'Adriana Layton De La Cruz': list index out of range\n",
      "buscando .. Andrés Felipe Mesa Gutiérrez\n",
      "buscando .. Mauricio Esteban Revelo Bernal\n",
      "buscando .. Laura Nathalia Paredes Acero\n",
      "buscando .. Alvaro Leonardo Pardo Mendoza\n",
      "buscando .. Camilo Andres Osorio Romero\n",
      "buscando .. Francy Alejandra Vanegas Izquierdo\n",
      "Error al abrir el primer enlace para la búsqueda 'Francy Alejandra Vanegas Izquierdo': list index out of range\n",
      "buscando .. Miguel Angel Bermudez Timote\n",
      "buscando .. Alvaro Andres Ordoñez Hernandez\n",
      "buscando .. Andres Felipe Fajardo Velez\n",
      "buscando .. Miguel Angel Salinas Rincon\n",
      "buscando .. Nicolas Escobar Castañeda\n",
      "buscando .. Nicolas Alexander Lopez Tellez\n",
      "buscando .. Heber Camilo Castro Suarez\n",
      "buscando .. Juan Carlos Verano Espitia\n"
     ]
    },
    {
     "name": "stderr",
     "output_type": "stream",
     "text": [
      "ALSA lib pcm.c:8568:(snd_pcm_recover) underrun occurred\n",
      "ALSA lib pcm.c:8568:(snd_pcm_recover) underrun occurred\n",
      "ALSA lib pcm.c:8568:(snd_pcm_recover) underrun occurred\n",
      "ALSA lib pcm.c:8568:(snd_pcm_recover) underrun occurred\n",
      "ALSA lib pcm.c:8568:(snd_pcm_recover) underrun occurred\n",
      "ALSA lib pcm.c:8568:(snd_pcm_recover) underrun occurred\n",
      "ALSA lib pcm.c:8568:(snd_pcm_recover) underrun occurred\n",
      "ALSA lib pcm.c:8568:(snd_pcm_recover) underrun occurred\n",
      "ALSA lib pcm.c:8568:(snd_pcm_recover) underrun occurred\n"
     ]
    },
    {
     "name": "stdout",
     "output_type": "stream",
     "text": [
      "buscando .. Juan Sebastian Otalora Montenegro\n",
      "buscando .. Maria Paula Bastidas Tovar\n",
      "buscando .. Jully Paola Arias Reyes\n",
      "Error al abrir el primer enlace para la búsqueda 'Jully Paola Arias Reyes': list index out of range\n",
      "buscando .. Marcel Julian Martinez Vanegas\n",
      "buscando .. Manuel Ricardo Rozo Guzman\n",
      "buscando .. Juan Sebastian Santacoloma Barrera\n",
      "buscando .. Ronald Steve Garzon Espejo\n"
     ]
    },
    {
     "name": "stderr",
     "output_type": "stream",
     "text": [
      "ALSA lib pcm.c:8568:(snd_pcm_recover) underrun occurred\n",
      "ALSA lib pcm.c:8568:(snd_pcm_recover) underrun occurred\n",
      "ALSA lib pcm.c:8568:(snd_pcm_recover) underrun occurred\n",
      "ALSA lib pcm.c:8568:(snd_pcm_recover) underrun occurred\n",
      "ALSA lib pcm.c:8568:(snd_pcm_recover) underrun occurred\n",
      "ALSA lib pcm.c:8568:(snd_pcm_recover) underrun occurred\n",
      "ALSA lib pcm.c:8568:(snd_pcm_recover) underrun occurred\n",
      "ALSA lib pcm.c:8568:(snd_pcm_recover) underrun occurred\n",
      "ALSA lib pcm.c:8568:(snd_pcm_recover) underrun occurred\n",
      "ALSA lib pcm.c:8568:(snd_pcm_recover) underrun occurred\n",
      "ALSA lib pcm.c:8568:(snd_pcm_recover) underrun occurred\n",
      "ALSA lib pcm.c:8568:(snd_pcm_recover) underrun occurred\n",
      "ALSA lib pcm.c:8568:(snd_pcm_recover) underrun occurred\n"
     ]
    },
    {
     "name": "stdout",
     "output_type": "stream",
     "text": [
      "buscando .. Andres Antonio Fernandez Gonzalez\n",
      "buscando .. Sebastian Valencia Sepulveda\n",
      "buscando .. Brayan Giovanni Mesa Galvis\n",
      "Error al abrir el primer enlace para la búsqueda 'Brayan Giovanni Mesa Galvis': list index out of range\n",
      "buscando .. Cristhian Gabriel Diaz Arteaga\n",
      "buscando .. Lina Angelica Hidalgo Pachon\n",
      "buscando .. Leonardo Mariño Angarita\n",
      "buscando .. Jaime Alberto Chaparro Alvarez\n",
      "buscando .. Pedro Antonio Castiblanco Monsocua\n",
      "buscando .. Maria Camila Fonseca Oliveros\n",
      "buscando .. Esteban Armando Bohórquez Andrade\n",
      "buscando .. Daniel Felipe Suárez Fonseca\n",
      "buscando .. Diego Hernando Bossa Gonzalez\n"
     ]
    },
    {
     "name": "stderr",
     "output_type": "stream",
     "text": [
      "ALSA lib pcm.c:8568:(snd_pcm_recover) underrun occurred\n",
      "ALSA lib pcm.c:8568:(snd_pcm_recover) underrun occurred\n",
      "ALSA lib pcm.c:8568:(snd_pcm_recover) underrun occurred\n",
      "ALSA lib pcm.c:8568:(snd_pcm_recover) underrun occurred\n",
      "ALSA lib pcm.c:8568:(snd_pcm_recover) underrun occurred\n",
      "ALSA lib pcm.c:8568:(snd_pcm_recover) underrun occurred\n",
      "ALSA lib pcm.c:8568:(snd_pcm_recover) underrun occurred\n",
      "ALSA lib pcm.c:8568:(snd_pcm_recover) underrun occurred\n",
      "ALSA lib pcm.c:8568:(snd_pcm_recover) underrun occurred\n",
      "ALSA lib pcm.c:8568:(snd_pcm_recover) underrun occurred\n",
      "ALSA lib pcm.c:8568:(snd_pcm_recover) underrun occurred\n",
      "ALSA lib pcm.c:8568:(snd_pcm_recover) underrun occurred\n",
      "ALSA lib pcm.c:8568:(snd_pcm_recover) underrun occurred\n",
      "ALSA lib pcm.c:8568:(snd_pcm_recover) underrun occurred\n",
      "ALSA lib pcm.c:8568:(snd_pcm_recover) underrun occurred\n",
      "ALSA lib pcm.c:8568:(snd_pcm_recover) underrun occurred\n",
      "ALSA lib pcm.c:8568:(snd_pcm_recover) underrun occurred\n",
      "ALSA lib pcm.c:8568:(snd_pcm_recover) underrun occurred\n",
      "ALSA lib pcm.c:8568:(snd_pcm_recover) underrun occurred\n"
     ]
    },
    {
     "name": "stdout",
     "output_type": "stream",
     "text": [
      "buscando .. Luis Agustin Perez Moreno\n",
      "buscando .. Fernando Andrés Quevedo Gutierrez\n",
      "buscando .. Mauricio Alexander Garcia Ruiz\n",
      "buscando .. Mauricio Camargo Santos\n",
      "buscando .. Nestor David Ramirez Barrera\n",
      "Error al abrir el primer enlace para la búsqueda 'Nestor David Ramirez Barrera': list index out of range\n",
      "buscando .. Andrés Felipe Pedraza Triviño\n",
      "buscando .. Daniel Buitrago Caceres\n",
      "buscando .. Sandra Patricia Salamanca Jimenez\n",
      "buscando .. Jorge Nicolas Parada Enriquez\n",
      "buscando .. Camila Andrea Garcia Echeverri\n",
      "buscando .. Camilo Arturo Preciado Gutierrez\n",
      "buscando .. David Felipe Ruiz Rodriguez\n"
     ]
    },
    {
     "name": "stderr",
     "output_type": "stream",
     "text": [
      "ALSA lib pcm.c:8568:(snd_pcm_recover) underrun occurred\n",
      "ALSA lib pcm.c:8568:(snd_pcm_recover) underrun occurred\n",
      "ALSA lib pcm.c:8568:(snd_pcm_recover) underrun occurred\n",
      "ALSA lib pcm.c:8568:(snd_pcm_recover) underrun occurred\n",
      "ALSA lib pcm.c:8568:(snd_pcm_recover) underrun occurred\n",
      "ALSA lib pcm.c:8568:(snd_pcm_recover) underrun occurred\n",
      "ALSA lib pcm.c:8568:(snd_pcm_recover) underrun occurred\n",
      "ALSA lib pcm.c:8568:(snd_pcm_recover) underrun occurred\n",
      "ALSA lib pcm.c:8568:(snd_pcm_recover) underrun occurred\n",
      "ALSA lib pcm.c:8568:(snd_pcm_recover) underrun occurred\n",
      "ALSA lib pcm.c:8568:(snd_pcm_recover) underrun occurred\n",
      "ALSA lib pcm.c:8568:(snd_pcm_recover) underrun occurred\n",
      "ALSA lib pcm.c:8568:(snd_pcm_recover) underrun occurred\n",
      "ALSA lib pcm.c:8568:(snd_pcm_recover) underrun occurred\n",
      "ALSA lib pcm.c:8568:(snd_pcm_recover) underrun occurred\n",
      "ALSA lib pcm.c:8568:(snd_pcm_recover) underrun occurred\n",
      "ALSA lib pcm.c:8568:(snd_pcm_recover) underrun occurred\n",
      "ALSA lib pcm.c:8568:(snd_pcm_recover) underrun occurred\n",
      "ALSA lib pcm.c:8568:(snd_pcm_recover) underrun occurred\n",
      "ALSA lib pcm.c:8568:(snd_pcm_recover) underrun occurred\n",
      "ALSA lib pcm.c:8568:(snd_pcm_recover) underrun occurred\n",
      "ALSA lib pcm.c:8568:(snd_pcm_recover) underrun occurred\n",
      "ALSA lib pcm.c:8568:(snd_pcm_recover) underrun occurred\n",
      "ALSA lib pcm.c:8568:(snd_pcm_recover) underrun occurred\n",
      "ALSA lib pcm.c:8568:(snd_pcm_recover) underrun occurred\n",
      "ALSA lib pcm.c:8568:(snd_pcm_recover) underrun occurred\n",
      "ALSA lib pcm.c:8568:(snd_pcm_recover) underrun occurred\n",
      "ALSA lib pcm.c:8568:(snd_pcm_recover) underrun occurred\n",
      "ALSA lib pcm.c:8568:(snd_pcm_recover) underrun occurred\n",
      "ALSA lib pcm.c:8568:(snd_pcm_recover) underrun occurred\n",
      "ALSA lib pcm.c:8568:(snd_pcm_recover) underrun occurred\n",
      "ALSA lib pcm.c:8568:(snd_pcm_recover) underrun occurred\n",
      "ALSA lib pcm.c:8568:(snd_pcm_recover) underrun occurred\n",
      "ALSA lib pcm.c:8568:(snd_pcm_recover) underrun occurred\n",
      "ALSA lib pcm.c:8568:(snd_pcm_recover) underrun occurred\n",
      "ALSA lib pcm.c:8568:(snd_pcm_recover) underrun occurred\n",
      "ALSA lib pcm.c:8568:(snd_pcm_recover) underrun occurred\n",
      "ALSA lib pcm.c:8568:(snd_pcm_recover) underrun occurred\n",
      "ALSA lib pcm.c:8568:(snd_pcm_recover) underrun occurred\n",
      "ALSA lib pcm.c:8568:(snd_pcm_recover) underrun occurred\n",
      "ALSA lib pcm.c:8568:(snd_pcm_recover) underrun occurred\n",
      "ALSA lib pcm.c:8568:(snd_pcm_recover) underrun occurred\n",
      "ALSA lib pcm.c:8568:(snd_pcm_recover) underrun occurred\n",
      "ALSA lib pcm.c:8568:(snd_pcm_recover) underrun occurred\n",
      "ALSA lib pcm.c:8568:(snd_pcm_recover) underrun occurred\n",
      "ALSA lib pcm.c:8568:(snd_pcm_recover) underrun occurred\n",
      "ALSA lib pcm.c:8568:(snd_pcm_recover) underrun occurred\n",
      "ALSA lib pcm.c:8568:(snd_pcm_recover) underrun occurred\n",
      "ALSA lib pcm.c:8568:(snd_pcm_recover) underrun occurred\n",
      "ALSA lib pcm.c:8568:(snd_pcm_recover) underrun occurred\n"
     ]
    },
    {
     "name": "stdout",
     "output_type": "stream",
     "text": [
      "buscando .. Alexander Gutierrez Guevara\n",
      "buscando .. Victor Manuel Diago Valencia\n",
      "buscando .. Juan Sebastian Montes Florez\n",
      "buscando .. Gerardo Alonso Torres Rodriguez\n",
      "buscando .. Cristian Camilo Orjuela Velandia\n",
      "buscando .. Jorge Arturo Forero Torres\n",
      "buscando .. Andrés Felipe Cantor Molina\n",
      "buscando .. Liseth Angelica Alvarado Jaramillo\n",
      "buscando .. Daniel Eduardo Sierra Santofimio\n",
      "buscando .. Juan David Galvis Sarria\n"
     ]
    },
    {
     "name": "stderr",
     "output_type": "stream",
     "text": [
      "ALSA lib pcm.c:8568:(snd_pcm_recover) underrun occurred\n",
      "ALSA lib pcm.c:8568:(snd_pcm_recover) underrun occurred\n",
      "ALSA lib pcm.c:8568:(snd_pcm_recover) underrun occurred\n",
      "ALSA lib pcm.c:8568:(snd_pcm_recover) underrun occurred\n"
     ]
    },
    {
     "name": "stdout",
     "output_type": "stream",
     "text": [
      "buscando .. Juan Sebastian Sanchez Osorio\n",
      "buscando .. Joan Manuel Rivera Sierra\n",
      "buscando .. Henry Niño Rodríguez\n",
      "buscando .. Manuel Fernando Guerrero Posada\n",
      "buscando .. Juan Diego Bencardino Perdomo\n",
      "buscando .. Jorge Andrés Zamora Abril\n",
      "buscando .. Michael Estiven Guerrero Acevedo\n",
      "buscando .. Daniel Camilo Corredor López\n",
      "buscando .. Juan Pablo Garcia Silva\n",
      "buscando .. Johan Sebastián Díaz Camacho\n",
      "buscando .. Andrés Felipe Díaz Nítola\n",
      "buscando .. Wilman Eduardo Guarin Sanchez\n"
     ]
    },
    {
     "name": "stderr",
     "output_type": "stream",
     "text": [
      "ALSA lib pcm.c:8568:(snd_pcm_recover) underrun occurred\n",
      "ALSA lib pcm.c:8568:(snd_pcm_recover) underrun occurred\n",
      "ALSA lib pcm.c:8568:(snd_pcm_recover) underrun occurred\n",
      "ALSA lib pcm.c:8568:(snd_pcm_recover) underrun occurred\n",
      "ALSA lib pcm.c:8568:(snd_pcm_recover) underrun occurred\n",
      "ALSA lib pcm.c:8568:(snd_pcm_recover) underrun occurred\n",
      "ALSA lib pcm.c:8568:(snd_pcm_recover) underrun occurred\n",
      "ALSA lib pcm.c:8568:(snd_pcm_recover) underrun occurred\n",
      "ALSA lib pcm.c:8568:(snd_pcm_recover) underrun occurred\n",
      "ALSA lib pcm.c:8568:(snd_pcm_recover) underrun occurred\n",
      "ALSA lib pcm.c:8568:(snd_pcm_recover) underrun occurred\n",
      "ALSA lib pcm.c:8568:(snd_pcm_recover) underrun occurred\n",
      "ALSA lib pcm.c:8568:(snd_pcm_recover) underrun occurred\n",
      "ALSA lib pcm.c:8568:(snd_pcm_recover) underrun occurred\n",
      "ALSA lib pcm.c:8568:(snd_pcm_recover) underrun occurred\n",
      "ALSA lib pcm.c:8568:(snd_pcm_recover) underrun occurred\n",
      "ALSA lib pcm.c:8568:(snd_pcm_recover) underrun occurred\n",
      "ALSA lib pcm.c:8568:(snd_pcm_recover) underrun occurred\n",
      "ALSA lib pcm.c:8568:(snd_pcm_recover) underrun occurred\n",
      "ALSA lib pcm.c:8568:(snd_pcm_recover) underrun occurred\n",
      "ALSA lib pcm.c:8568:(snd_pcm_recover) underrun occurred\n",
      "ALSA lib pcm.c:8568:(snd_pcm_recover) underrun occurred\n",
      "ALSA lib pcm.c:8568:(snd_pcm_recover) underrun occurred\n",
      "ALSA lib pcm.c:8568:(snd_pcm_recover) underrun occurred\n",
      "ALSA lib pcm.c:8568:(snd_pcm_recover) underrun occurred\n",
      "ALSA lib pcm.c:8568:(snd_pcm_recover) underrun occurred\n",
      "ALSA lib pcm.c:8568:(snd_pcm_recover) underrun occurred\n",
      "ALSA lib pcm.c:8568:(snd_pcm_recover) underrun occurred\n",
      "ALSA lib pcm.c:8568:(snd_pcm_recover) underrun occurred\n",
      "ALSA lib pcm.c:8568:(snd_pcm_recover) underrun occurred\n",
      "ALSA lib pcm.c:8568:(snd_pcm_recover) underrun occurred\n"
     ]
    },
    {
     "name": "stdout",
     "output_type": "stream",
     "text": [
      "buscando .. Nelson Díaz Ocampo\n",
      "buscando .. Daniel Felipe Leyva Díaz\n",
      "buscando .. Laura Victoria Lizarazo Guerra\n",
      "buscando .. David Mauricio Rosero Tobar\n",
      "buscando .. Julio Hernan Alfonso Huertas\n",
      "buscando .. Luis Antonio Robayo Robayo\n",
      "buscando .. Luis Enrique Guzman Avellaneda\n",
      "buscando .. Andres Felipe Rodriguez Hernandez\n",
      "buscando .. Néstor Fabián Rodríguez Buitrago\n",
      "buscando .. Lina Maria Rodriguez Beltran\n",
      "buscando .. Daniel Felipe Bueno Calderon\n",
      "buscando .. Kevin Fabián Guerrero Granados\n"
     ]
    },
    {
     "name": "stderr",
     "output_type": "stream",
     "text": [
      "ALSA lib pcm.c:8568:(snd_pcm_recover) underrun occurred\n",
      "ALSA lib pcm.c:8568:(snd_pcm_recover) underrun occurred\n",
      "ALSA lib pcm.c:8568:(snd_pcm_recover) underrun occurred\n",
      "ALSA lib pcm.c:8568:(snd_pcm_recover) underrun occurred\n",
      "ALSA lib pcm.c:8568:(snd_pcm_recover) underrun occurred\n"
     ]
    },
    {
     "name": "stdout",
     "output_type": "stream",
     "text": [
      "buscando .. Laura Paulina Bastidas Beltrán\n",
      "buscando .. Alvaro Andres Avendaño Peña\n",
      "buscando .. Daniela Angulo Paez\n",
      "buscando .. Johann Andrés Triana Olaya\n",
      "Error al abrir el primer enlace para la búsqueda 'Johann Andrés Triana Olaya': list index out of range\n",
      "buscando .. Diana Cecilia Cuervo Cespedes\n",
      "buscando .. Vivian Loreny Alarcon Prieto\n",
      "buscando .. Adriana Carolina Galindo Vargas\n",
      "buscando .. Andres Felipe Higuera Solano\n",
      "buscando .. Edwin Javier Jimenez Casares\n",
      "buscando .. Camilo Andres Amaya Rodriguez\n",
      "buscando .. Yeison Fabian Ramos Naranjo\n"
     ]
    },
    {
     "name": "stderr",
     "output_type": "stream",
     "text": [
      "ALSA lib pcm.c:8568:(snd_pcm_recover) underrun occurred\n",
      "ALSA lib pcm.c:8568:(snd_pcm_recover) underrun occurred\n",
      "ALSA lib pcm.c:8568:(snd_pcm_recover) underrun occurred\n",
      "ALSA lib pcm.c:8568:(snd_pcm_recover) underrun occurred\n",
      "ALSA lib pcm.c:8568:(snd_pcm_recover) underrun occurred\n",
      "ALSA lib pcm.c:8568:(snd_pcm_recover) underrun occurred\n",
      "ALSA lib pcm.c:8568:(snd_pcm_recover) underrun occurred\n",
      "ALSA lib pcm.c:8568:(snd_pcm_recover) underrun occurred\n",
      "ALSA lib pcm.c:8568:(snd_pcm_recover) underrun occurred\n",
      "ALSA lib pcm.c:8568:(snd_pcm_recover) underrun occurred\n",
      "ALSA lib pcm.c:8568:(snd_pcm_recover) underrun occurred\n",
      "ALSA lib pcm.c:8568:(snd_pcm_recover) underrun occurred\n",
      "ALSA lib pcm.c:8568:(snd_pcm_recover) underrun occurred\n"
     ]
    },
    {
     "name": "stdout",
     "output_type": "stream",
     "text": [
      "buscando .. Luis Eduardo Martin De La Peña\n",
      "buscando .. Pedro Jose Arias Monje\n",
      "buscando .. Andrés Felipe Castellanos Páez\n",
      "buscando .. Juan Fernando Cuervo Arevalo\n",
      "buscando .. Gabriel Hernandez Cardozo\n",
      "buscando .. Juan Sebastian Bello Bello\n",
      "buscando .. Julieth Lorena Ríos Hernández\n",
      "buscando .. Felipe Rico Cortes\n",
      "buscando .. Julian David Martinez Medina\n",
      "buscando .. Juan David Vargas Galindo\n",
      "buscando .. Andrés Julián Buitrago Lamy\n",
      "buscando .. Sebastian Alejandro Velasco Dimate\n"
     ]
    },
    {
     "name": "stderr",
     "output_type": "stream",
     "text": [
      "ALSA lib pcm.c:8568:(snd_pcm_recover) underrun occurred\n",
      "ALSA lib pcm.c:8568:(snd_pcm_recover) underrun occurred\n",
      "ALSA lib pcm.c:8568:(snd_pcm_recover) underrun occurred\n",
      "ALSA lib pcm.c:8568:(snd_pcm_recover) underrun occurred\n",
      "ALSA lib pcm.c:8568:(snd_pcm_recover) underrun occurred\n",
      "ALSA lib pcm.c:8568:(snd_pcm_recover) underrun occurred\n",
      "ALSA lib pcm.c:8568:(snd_pcm_recover) underrun occurred\n",
      "ALSA lib pcm.c:8568:(snd_pcm_recover) underrun occurred\n",
      "ALSA lib pcm.c:8568:(snd_pcm_recover) underrun occurred\n",
      "ALSA lib pcm.c:8568:(snd_pcm_recover) underrun occurred\n",
      "ALSA lib pcm.c:8568:(snd_pcm_recover) underrun occurred\n",
      "ALSA lib pcm.c:8568:(snd_pcm_recover) underrun occurred\n",
      "ALSA lib pcm.c:8568:(snd_pcm_recover) underrun occurred\n",
      "ALSA lib pcm.c:8568:(snd_pcm_recover) underrun occurred\n",
      "ALSA lib pcm.c:8568:(snd_pcm_recover) underrun occurred\n",
      "ALSA lib pcm.c:8568:(snd_pcm_recover) underrun occurred\n",
      "ALSA lib pcm.c:8568:(snd_pcm_recover) underrun occurred\n",
      "ALSA lib pcm.c:8568:(snd_pcm_recover) underrun occurred\n",
      "ALSA lib pcm.c:8568:(snd_pcm_recover) underrun occurred\n",
      "ALSA lib pcm.c:8568:(snd_pcm_recover) underrun occurred\n",
      "ALSA lib pcm.c:8568:(snd_pcm_recover) underrun occurred\n",
      "ALSA lib pcm.c:8568:(snd_pcm_recover) underrun occurred\n",
      "ALSA lib pcm.c:8568:(snd_pcm_recover) underrun occurred\n",
      "ALSA lib pcm.c:8568:(snd_pcm_recover) underrun occurred\n",
      "ALSA lib pcm.c:8568:(snd_pcm_recover) underrun occurred\n",
      "ALSA lib pcm.c:8568:(snd_pcm_recover) underrun occurred\n",
      "ALSA lib pcm.c:8568:(snd_pcm_recover) underrun occurred\n",
      "ALSA lib pcm.c:8568:(snd_pcm_recover) underrun occurred\n"
     ]
    },
    {
     "name": "stdout",
     "output_type": "stream",
     "text": [
      "Error al abrir el primer enlace para la búsqueda 'Sebastian Alejandro Velasco Dimate': list index out of range\n",
      "buscando .. Hernan David Solano Parra\n",
      "buscando .. Mario Andres Rubiano Rojas\n",
      "buscando .. Irene Del Pilar Rosas Castellar\n",
      "Error al abrir el primer enlace para la búsqueda 'Irene Del Pilar Rosas Castellar': list index out of range\n",
      "buscando .. Diego Manuel Vacca Sanchez\n",
      "Error al abrir el primer enlace para la búsqueda 'Diego Manuel Vacca Sanchez': list index out of range\n",
      "buscando .. Juan Camilo Cely Garzon\n",
      "buscando .. Gerardo Nava Moreno\n",
      "buscando .. Julian Andres Murcia Narvaez\n",
      "buscando .. David Mauricio Castiblanco Casas\n",
      "buscando .. Xiomara Cruz Rodriguez\n",
      "buscando .. Oscar Andrés Vargas Reyes\n",
      "buscando .. Mateo Mateus Forero\n",
      "buscando .. Francisco Javier Quintero Cortes\n"
     ]
    },
    {
     "name": "stderr",
     "output_type": "stream",
     "text": [
      "ALSA lib pcm.c:8568:(snd_pcm_recover) underrun occurred\n",
      "ALSA lib pcm.c:8568:(snd_pcm_recover) underrun occurred\n",
      "ALSA lib pcm.c:8568:(snd_pcm_recover) underrun occurred\n",
      "ALSA lib pcm.c:8568:(snd_pcm_recover) underrun occurred\n",
      "ALSA lib pcm.c:8568:(snd_pcm_recover) underrun occurred\n",
      "ALSA lib pcm.c:8568:(snd_pcm_recover) underrun occurred\n",
      "ALSA lib pcm.c:8568:(snd_pcm_recover) underrun occurred\n"
     ]
    },
    {
     "name": "stdout",
     "output_type": "stream",
     "text": [
      "buscando .. Richard Orlando Herrera Peña\n",
      "Error al abrir el primer enlace para la búsqueda 'Richard Orlando Herrera Peña': list index out of range\n",
      "buscando .. Luis David Ordoñez Suarez\n",
      "buscando .. Cristian Nicolas Gomez Rojas\n",
      "buscando .. Edwin Alexander Rabelo Gamba\n",
      "buscando .. Hector Andres Rosero Becerra\n",
      "buscando .. Angelica Maria Rojas Choconta\n",
      "buscando .. Andres Francisco Rodriguez Peraza\n",
      "Error al abrir el primer enlace para la búsqueda 'Andres Francisco Rodriguez Peraza': list index out of range\n",
      "buscando .. Yeimy Johana Calvo Fuentes\n",
      "buscando .. Juan Camilo Torres Cedano\n",
      "buscando .. Juan Pablo Arevalo Rivera\n",
      "buscando .. Ivan Felipe Bejarano Gantiva\n",
      "buscando .. Felipe Rojas Arredondo\n"
     ]
    },
    {
     "name": "stderr",
     "output_type": "stream",
     "text": [
      "ALSA lib pcm.c:8568:(snd_pcm_recover) underrun occurred\n",
      "ALSA lib pcm.c:8568:(snd_pcm_recover) underrun occurred\n"
     ]
    },
    {
     "name": "stdout",
     "output_type": "stream",
     "text": [
      "buscando .. Octavio Augusto Torres Galvis\n",
      "buscando .. William Andres Montañez Caicedo\n",
      "buscando .. Nicolas Garcia Castañeda\n",
      "buscando .. Loren Gisela Pedraza Romero\n",
      "Error al abrir el primer enlace para la búsqueda 'Loren Gisela Pedraza Romero': list index out of range\n",
      "buscando .. Luis Enrique Garzon Sabogal\n",
      "buscando .. Juan Carlos Gama Roa\n",
      "buscando .. Sergio Javier Avendaño Peña\n",
      "buscando .. Andrés Felipe Pedraza Guerrero\n",
      "buscando .. Oscar Camilo Sutta Sanchez\n",
      "buscando .. Nicolas Tellez Ortiz\n",
      "buscando .. Julio Cesar Cardenas Sotelo\n",
      "buscando .. Luis Alejandro Vargas Ramos\n"
     ]
    },
    {
     "name": "stderr",
     "output_type": "stream",
     "text": [
      "ALSA lib pcm.c:8568:(snd_pcm_recover) underrun occurred\n",
      "ALSA lib pcm.c:8568:(snd_pcm_recover) underrun occurred\n",
      "ALSA lib pcm.c:8568:(snd_pcm_recover) underrun occurred\n",
      "ALSA lib pcm.c:8568:(snd_pcm_recover) underrun occurred\n",
      "ALSA lib pcm.c:8568:(snd_pcm_recover) underrun occurred\n",
      "ALSA lib pcm.c:8568:(snd_pcm_recover) underrun occurred\n",
      "ALSA lib pcm.c:8568:(snd_pcm_recover) underrun occurred\n",
      "ALSA lib pcm.c:8568:(snd_pcm_recover) underrun occurred\n"
     ]
    },
    {
     "name": "stdout",
     "output_type": "stream",
     "text": [
      "buscando .. Edna Johana Cañón Quiroga\n",
      "Error al abrir el primer enlace para la búsqueda 'Edna Johana Cañón Quiroga': list index out of range\n",
      "buscando .. Leonardo Muñoz Muñoz\n",
      "buscando .. Juan David Ramos Lopez\n",
      "buscando .. Johan Sebastian Bautista Rodriguez\n",
      "buscando .. Luis Carlos Bohórquez Garzón\n",
      "buscando .. Julián Camilo Jimenez Moreno\n",
      "buscando .. Jhonatan Esteban Restrepo Duque\n",
      "buscando .. Johanna Carolina Hernandez Silva\n",
      "buscando .. Sebastian Moreno Ramirez\n",
      "buscando .. Daniel Esteban Rosero López\n",
      "buscando .. Claudia Eugenia Berdugo Diaz\n",
      "Error al abrir el primer enlace para la búsqueda 'Claudia Eugenia Berdugo Diaz': list index out of range\n",
      "buscando .. Cristian Javier Acosta Cedeño\n"
     ]
    },
    {
     "name": "stderr",
     "output_type": "stream",
     "text": [
      "ALSA lib pcm.c:8568:(snd_pcm_recover) underrun occurred\n",
      "ALSA lib pcm.c:8568:(snd_pcm_recover) underrun occurred\n",
      "ALSA lib pcm.c:8568:(snd_pcm_recover) underrun occurred\n",
      "ALSA lib pcm.c:8568:(snd_pcm_recover) underrun occurred\n"
     ]
    },
    {
     "name": "stdout",
     "output_type": "stream",
     "text": [
      "buscando .. Dayana Stefany Vega Latorre\n",
      "Error al abrir el primer enlace para la búsqueda 'Dayana Stefany Vega Latorre': list index out of range\n",
      "buscando .. Jose Alex Bernal Meneses\n",
      "buscando .. Juan Pablo Giron Bastidas\n",
      "buscando .. Julian Francisco Mojica Sanchez\n",
      "buscando .. Jeison Fabian Bocanegra Lopez\n",
      "buscando .. Brayan Esteban Garzon Feo\n",
      "Error al abrir el primer enlace para la búsqueda 'Brayan Esteban Garzon Feo': list index out of range\n",
      "buscando .. Johan José Castañeda Vega\n",
      "buscando .. Milton Augusto Holguín Barrera\n",
      "Error al abrir el primer enlace para la búsqueda 'Milton Augusto Holguín Barrera': list index out of range\n",
      "buscando .. Santiago Maria Marquez Arevalo\n",
      "buscando .. Andres Felipe Montaña Guerrero\n",
      "buscando .. Sergio Hernan Manjarres Paredes\n"
     ]
    },
    {
     "name": "stderr",
     "output_type": "stream",
     "text": [
      "ALSA lib pcm.c:8568:(snd_pcm_recover) underrun occurred\n",
      "ALSA lib pcm.c:8568:(snd_pcm_recover) underrun occurred\n"
     ]
    },
    {
     "name": "stdout",
     "output_type": "stream",
     "text": [
      "buscando .. Jesus Gregorio Carrillo Toloza\n"
     ]
    },
    {
     "data": {
      "text/plain": [
       "\"\\n\\n    cont +=1\\n\\n    if cont == 100:\\n\\n        cont = 0 \\n        if cont_2 % 3 == 0:\\n\\n            busqueda_obj = Busqueda()\\n            busqueda_obj.iniciar()\\n        \\n        cont_2 += 1\\n        \\n        # Get dir\\n\\n        dir = os.path.dirname(os.path.dirname(os.getcwd())) +'/documentacion/new_data'\\n        file_path = dir + '/egresados' + str(cont_2) + '.xlsx'\\n\\n        # Concat to df \\n        \\n        df = pd.DataFrame(dict_egresados)\\n        \\n        save_dataframe_to_excel(file_path, df)\\n\\n\""
      ]
     },
     "execution_count": 10,
     "metadata": {},
     "output_type": "execute_result"
    }
   ],
   "source": [
    "print(\"Iniciando busqueda perfiles linkedin\")\n",
    "\n",
    "\n",
    "busqueda_obj = Busqueda()\n",
    "busqueda_obj.abrir_navegador()\n",
    "time.sleep(10)\n",
    "for nombre in nombres[132:]:\n",
    "    nombre = nombre.split(\"\\n\")[0]\n",
    "    print(\"buscando ..\", nombre)\n",
    "    time.sleep(random.uniform(1,5))\n",
    "    \n",
    "    busqueda_obj.driver.get(\"https://www.google.com\")\n",
    "    busqueda_google = busqueda_obj.driver.find_element(By.NAME, \"q\")\n",
    "    texto_busqueda = 'site:linkedin.com/in/ AND ' + nombre + ' AND Universidad Nacional De Colombia'\n",
    "    busqueda_google.clear()\n",
    "    busqueda_google.send_keys(texto_busqueda)\n",
    "    busqueda_google.send_keys(Keys.RETURN)\n",
    "\n",
    "    try:\n",
    "\n",
    "        if \"sorry\" in busqueda_obj.driver.current_url :\n",
    "            play_sound()\n",
    "            time.sleep(random.uniform(5,10))\n",
    "            \n",
    "        \n",
    "        time.sleep(random.uniform(3, 5))\n",
    "        WebDriverWait(busqueda_obj.driver, 10).until(\n",
    "        EC.presence_of_element_located((By.ID, \"search\"))\n",
    "        )\n",
    "                \n",
    "        # Esperar hasta 5 segundos para que se carguen los resultados de la búsqueda\n",
    "        WebDriverWait(busqueda_obj.driver, 5).until(\n",
    "            EC.presence_of_element_located((By.ID, \"search\"))\n",
    "        )\n",
    "            \n",
    "        elem1 = busqueda_obj.driver.find_elements(By.XPATH,'//*[@id=\"rso\"]/div[1]/div/div/div[1]/div/div/span/a/h3')\n",
    "        elem1[0].click()\n",
    "        time.sleep(random.uniform(1,5))\n",
    "        while 'sorry' in busqueda_obj.driver.current_url or 'checkpoint' in busqueda_obj.driver.current_url:          \n",
    "            play_sound()\n",
    "            print(\"Encountered 'Sorry' page. Waiting...\")\n",
    "                \n",
    "\n",
    "        dict_egresados['Nombre'].append(nombre)\n",
    "        dict_egresados['URL'].append(busqueda_obj.driver.current_url)\n",
    "            \n",
    "        \n",
    "    except Exception as e:\n",
    "        print(f\"Error al abrir el primer enlace para la búsqueda '{nombre}': {e}\")\n",
    "    time.sleep(random.uniform(1,3))\n",
    "'''\n",
    "\n",
    "    cont +=1\n",
    "\n",
    "    if cont == 100:\n",
    "\n",
    "        cont = 0 \n",
    "        if cont_2 % 3 == 0:\n",
    "\n",
    "            busqueda_obj = Busqueda()\n",
    "            busqueda_obj.iniciar()\n",
    "        \n",
    "        cont_2 += 1\n",
    "        \n",
    "        # Get dir\n",
    "\n",
    "        dir = os.path.dirname(os.path.dirname(os.getcwd())) +'/documentacion/new_data'\n",
    "        file_path = dir + '/egresados' + str(cont_2) + '.xlsx'\n",
    "\n",
    "        # Concat to df \n",
    "        \n",
    "        df = pd.DataFrame(dict_egresados)\n",
    "        \n",
    "        save_dataframe_to_excel(file_path, df)\n",
    "\n",
    "'''"
   ]
  },
  {
   "cell_type": "code",
   "execution_count": 11,
   "metadata": {},
   "outputs": [],
   "source": [
    "# Adriana Layton De La Cruz https://www.linkedin.com/in/adriana-layton-200b4bb9/?originalSubdomain=co\n",
    "# Francy Alejandra Vanegas Izquierdo https://www.linkedin.com/in/francy-vanegas/?originalSubdomain=co\n",
    "# Jully Paola Arias Reyes https://www.linkedin.com/in/jully-paola-arias-reyes-047a9920b/?originalSubdomain=co\n",
    "# Brayan Giovanni Mesa Galvis https://www.linkedin.com/in/giovanni-mesa-galvis-549244162/?originalSubdomain=co\n",
    "# Nestor David Ramirez Barrera https://www.linkedin.com/in/ndramirezb/?originalSubdomain=co\n",
    "# Johann Andrés Triana Olaya  https://co.linkedin.com/in/andres-triana-olaya-a718ab232"
   ]
  },
  {
   "cell_type": "code",
   "execution_count": 12,
   "metadata": {},
   "outputs": [
    {
     "name": "stdout",
     "output_type": "stream",
     "text": [
      "149\n"
     ]
    }
   ],
   "source": [
    "print(len(dict_egresados['Nombre']))"
   ]
  },
  {
   "cell_type": "code",
   "execution_count": 13,
   "metadata": {},
   "outputs": [],
   "source": [
    "test = pd.DataFrame(data = dict_egresados)"
   ]
  },
  {
   "cell_type": "code",
   "execution_count": 37,
   "metadata": {},
   "outputs": [],
   "source": [
    "test.to_excel('/home/user/Desktop/MateoCodes/WebScrapingLinkedin/Data/Links_Linkedin/BD_egresados/Data_Bot/finales3.xlsx')"
   ]
  },
  {
   "cell_type": "code",
   "execution_count": 64,
   "metadata": {},
   "outputs": [],
   "source": [
    "# Juan Guillermo Rute Sanabria https://www.linkedin.com/in/juan-guillermo-rute-sanabria-2a683158/?originalSubdomain=es\n",
    "# Laura Maria Guativa Brochero https://www.linkedin.com/in/laura-guativa-brochero/?originalSubdomain=co\n",
    "# Carol Daniela Sanchez Paez https://www.linkedin.com/in/carol-daniela-s%C3%A1nchez-p%C3%A1ez-50956a5b/?originalSubdomain=co\n",
    "# Diana Sofia Melendez Gonzalez https://www.linkedin.com/in/dianasofiamelendez/?originalSubdomain=fr\n",
    "# Santiago Orloff Orloff Rodríguez https://co.linkedin.com/in/santiago-orloff-orloff-rodriguez\n",
    "# Diego Leonardo Chapeton Moreno https://ca.linkedin.com/in/diegochapeton\n",
    "# Sergio Daniel Fierro Losada https://www.linkedin.com/in/sergio-fierro-losada-844952113\n",
    "# Tania Gineth Gomez Carrillo  https://pr.linkedin.com/in/tania-g%C3%B3mez-carrillo-010483105\n",
    "# Daniel Ricardo Camelo Alfonso https://co.linkedin.com/in/daniel-ricardo-camelo-alfonso-a0130068\n",
    "# Diego Said Niquefa Velasquez https://co.linkedin.com/in/diego-niquefa-b6384158\n",
    "# Harvey Mauricio Tello Gelpud https://co.linkedin.com/in/mauriciotellog\n",
    "# Jonathan Leonard Crespo Eslava https://co.linkedin.com/in/jonathan-leonard-crespo-eslava-4065aa149\n",
    "# Yessica Katherine Chauta Insuasty https://co.linkedin.com/in/yessica-chaut%C3%A1-insuasty-87b55610\n",
    "# Gina Lorena Galvan Gomez https://ca.linkedin.com/in/lorenagalvan05\n",
    "# Gian Carlo Cuesta Nova https://co.linkedin.com/in/giancuesta\n",
    "# Juan Camilo Chavarro Macareno https://de.linkedin.com/in/juan-camilo-chavarro-macareno-7237a3a5\n",
    "# Luis Fernando Rico Ortiz https://co.linkedin.com/in/luis-fernando-rico-ortiz\n",
    "# Néstor Andrés Donato Ariza https://co.linkedin.com/in/nestor-donato\n",
    "# Daniel Camacho Duque https://co.linkedin.com/in/danielcamachoauditor\n",
    "# David Arturo Míguez Baracaldo https://it.linkedin.com/in/david-baracaldo\n",
    "# Daniel Felipe Sabogal Fajardo https://co.linkedin.com/in/dsab89\n",
    "# Esteban Jaramillo Sarmiento https://www.linkedin.com/in/0estebanjs/?originalSubdomain=co\n",
    "# Jonnathan Alejandro Sanchez Alarcon https://www.linkedin.com/in/jonnathan-alejandro-s%C3%A1nchez-alarc%C3%B3n-bb1494139/?originalSubdomain=co\n",
    "# Diego Clemente Rojas Chingate https://www.linkedin.com/in/dicrojasch/?originalSubdomain=co\n",
    "# Andrew Rincon Gonzalez https://www.linkedin.com/in/andres-rincon-900b88a1/?originalSubdomain=co\n",
    "# David Alejandro Martinez Pinto https://www.linkedin.com/in/david-alejandro-martinez-pinto-05227994/?originalSubdomain=co\n",
    "# Juan Camilo Liberato Luna https://www.linkedin.com/in/juan-camilo-liberato-luna-100a2b33/?originalSubdomain=co\n",
    "# Fabian Andres Acuña Villamil https://www.linkedin.com/in/faaacunavi/?originalSubdomain=co\n",
    "# Steve Eduardo Moscoso Urdaneta https://www.linkedin.com/in/steve-eduardo-moscoso-urdaneta-5a523210a/?originalSubdomain=co\n",
    "# Oscar Antonio Acelas Upegui https://www.linkedin.com/in/ooaacelasu/?originalSubdomain=co\n",
    "# Samy Fiorella Cruz Bolivar https://www.linkedin.com/in/samyfcruzb/?originalSubdomain=co"
   ]
  },
  {
   "cell_type": "markdown",
   "metadata": {},
   "source": []
  },
  {
   "cell_type": "code",
   "execution_count": 65,
   "metadata": {},
   "outputs": [],
   "source": [
    "copia_dict = dict_egresados"
   ]
  },
  {
   "cell_type": "code",
   "execution_count": 67,
   "metadata": {},
   "outputs": [
    {
     "name": "stdout",
     "output_type": "stream",
     "text": [
      "199\n"
     ]
    }
   ],
   "source": [
    "print(len(dict_egresados['Nombre']))\n",
    "df = pd.DataFrame(data = dict_egresados)"
   ]
  },
  {
   "cell_type": "code",
   "execution_count": 68,
   "metadata": {},
   "outputs": [],
   "source": [
    "df.to_excel('/home/user/Desktop/MateoCodes/WebScrapingLinkedin/Data/Links_Linkedin/BD_egresados/Data_Bot/finales2.xlsx')"
   ]
  },
  {
   "cell_type": "code",
   "execution_count": 31,
   "metadata": {},
   "outputs": [
    {
     "name": "stdout",
     "output_type": "stream",
     "text": [
      "d\n",
      "152\n"
     ]
    }
   ],
   "source": [
    "cont = 0\n",
    "for nombre in nombres:\n",
    "    if (nombre.split(\"\\n\")[0]) in \"Andres Felipe Ordoñez Guevara\":\n",
    "        print(\"d\")\n",
    "    cont += 1\n",
    "print(cont)\n"
   ]
  },
  {
   "cell_type": "code",
   "execution_count": null,
   "metadata": {},
   "outputs": [
    {
     "name": "stdout",
     "output_type": "stream",
     "text": [
      "{'Nombre': ['carlos', 'carlos'], 'URL': ['fa', 'fa']}\n"
     ]
    }
   ],
   "source": [
    "dict_egresados['Nombre'].append('carlos')\n",
    "dict_egresados['URL'].append('fa')\n",
    "\n",
    "print(dict_egresados)"
   ]
  },
  {
   "cell_type": "code",
   "execution_count": 57,
   "metadata": {},
   "outputs": [
    {
     "name": "stdout",
     "output_type": "stream",
     "text": [
      "    Nombre                              URL\n",
      "0    Alice      https://linkedin.com/in/bob\n",
      "1      Bob  https://linkedin.com/in/charlie\n",
      "2  Charlie    https://linkedin.com/in/alice\n"
     ]
    }
   ],
   "source": [
    "import pandas as pd\n",
    "\n",
    "# Create a dictionary with names and LinkedIn URLs\n",
    "linkedin_data = {\n",
    "    'Nombre': ['Alice', 'Bob', 'Charlie'],\n",
    "    'URL': [ 'https://linkedin.com/in/bob', 'https://linkedin.com/in/charlie','https://linkedin.com/in/alice']\n",
    "}\n",
    "\n",
    "# Convert the dictionary to a DataFrame\n",
    "df = pd.DataFrame(linkedin_data)\n",
    "\n",
    "# Display the DataFrame\n",
    "print(df)\n"
   ]
  }
 ],
 "metadata": {
  "kernelspec": {
   "display_name": "env",
   "language": "python",
   "name": "python3"
  },
  "language_info": {
   "codemirror_mode": {
    "name": "ipython",
    "version": 3
   },
   "file_extension": ".py",
   "mimetype": "text/x-python",
   "name": "python",
   "nbconvert_exporter": "python",
   "pygments_lexer": "ipython3",
   "version": "3.10.12"
  },
  "orig_nbformat": 4
 },
 "nbformat": 4,
 "nbformat_minor": 2
}
