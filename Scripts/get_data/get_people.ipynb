{
 "cells": [
  {
   "cell_type": "code",
   "execution_count": 1,
   "metadata": {},
   "outputs": [],
   "source": [
    "import sounddevice as sd\n",
    "from selenium import webdriver\n",
    "from selenium.webdriver.chrome.options import Options\n",
    "from selenium.webdriver.chrome.service import Service\n",
    "from selenium.webdriver.common.by import By\n",
    "from selenium.webdriver.common.keys import Keys\n",
    "from selenium.webdriver import ActionChains\n",
    "from webdriver_manager.chrome import ChromeDriverManager\n",
    "from selenium.webdriver.common.by import By\n",
    "from selenium.webdriver.support.ui import WebDriverWait\n",
    "from selenium.webdriver.support import expected_conditions as EC\n",
    "import time\n",
    "import csv\n",
    "from dotenv import load_dotenv\n",
    "import pandas as pd\n",
    "import os\n",
    "import random\n",
    "import numpy as np"
   ]
  },
  {
   "cell_type": "code",
   "execution_count": 36,
   "metadata": {},
   "outputs": [],
   "source": [
    "class Busqueda:\n",
    "\n",
    "    def __init__(self) -> None:\n",
    "        load_dotenv()\n",
    "        options = Options()\n",
    "        options.add_argument('--disable-dev-shm-usage')\n",
    "        options.add_argument('--incognito')\n",
    "        self.driver = webdriver.Chrome(service=Service(ChromeDriverManager().install()), options=options)\n",
    "\n",
    "    def login_with_email(self):\n",
    "        driver = self.driver\n",
    "        email = driver.find_element(By.XPATH,'//*[@id=\"username\"]')\n",
    "        email.send_keys(os.environ.get('EMAIL'))\n",
    "        password = driver.find_element(By.XPATH,'//*[@id=\"password\"]')\n",
    "        password.send_keys(os.environ.get('PASSWORD'))\n",
    "        self.sesion = driver.find_element(By.XPATH,'//*[@id=\"organic-div\"]/form/div[3]/button').click()\n",
    "\n",
    "    def abrir_navegador(self):\n",
    "        self.url = \"https://linkedin.com/uas/login\"\n",
    "        self.driver.get(self.url)\n",
    "        self.login_with_email()\n",
    "\n",
    "    def iniciar(self):\n",
    "        self.abrir_navegador()\n",
    "\n",
    "\n"
   ]
  },
  {
   "cell_type": "code",
   "execution_count": 32,
   "metadata": {},
   "outputs": [],
   "source": [
    "# Enviar código verificacion\n",
    "code_email = '003959'\n",
    "code = driver.find_element(By.XPATH,'//*[@id=\"input__email_verification_pin\"]')\n",
    "code.send_keys(code_email)\n",
    "\n",
    "# Send code\n",
    "\n",
    "send_code = driver.find_element(By.XPATH,'//*[@id=\"email-pin-submit-button\"]').click()"
   ]
  },
  {
   "cell_type": "code",
   "execution_count": 24,
   "metadata": {},
   "outputs": [],
   "source": [
    "# Lectura de archivos egresados\n",
    "egresados = pd.read_excel('/home/user/Desktop/MateoCodes/WebScrapingLinkedin/test_marcela.xlsx')\n",
    "#egresados = pd.read_excel('/home/user/Desktop/MateoCodes/WebScrapingLinkedin/documentacion/datos_egresados.xlsx')\n",
    "#egresados = pd.read_excel('/home/user/Desktop/MateoCodes/WebScrapingLinkedin/documentacion/NEW_DATA/people_checkpoint.xlsx')"
   ]
  },
  {
   "cell_type": "code",
   "execution_count": 25,
   "metadata": {},
   "outputs": [
    {
     "data": {
      "text/html": [
       "<div>\n",
       "<style scoped>\n",
       "    .dataframe tbody tr th:only-of-type {\n",
       "        vertical-align: middle;\n",
       "    }\n",
       "\n",
       "    .dataframe tbody tr th {\n",
       "        vertical-align: top;\n",
       "    }\n",
       "\n",
       "    .dataframe thead th {\n",
       "        text-align: right;\n",
       "    }\n",
       "</style>\n",
       "<table border=\"1\" class=\"dataframe\">\n",
       "  <thead>\n",
       "    <tr style=\"text-align: right;\">\n",
       "      <th></th>\n",
       "      <th>NOMBRES</th>\n",
       "      <th>APELLIDO1</th>\n",
       "      <th>APELLIDO2</th>\n",
       "    </tr>\n",
       "  </thead>\n",
       "  <tbody>\n",
       "    <tr>\n",
       "      <th>0</th>\n",
       "      <td>mateo</td>\n",
       "      <td>gutierrez</td>\n",
       "      <td>melo</td>\n",
       "    </tr>\n",
       "    <tr>\n",
       "      <th>1</th>\n",
       "      <td>juan jacobo</td>\n",
       "      <td>izquierdo</td>\n",
       "      <td>NaN</td>\n",
       "    </tr>\n",
       "    <tr>\n",
       "      <th>2</th>\n",
       "      <td>natalia</td>\n",
       "      <td>quiroga</td>\n",
       "      <td>diaz</td>\n",
       "    </tr>\n",
       "  </tbody>\n",
       "</table>\n",
       "</div>"
      ],
      "text/plain": [
       "       NOMBRES  APELLIDO1 APELLIDO2\n",
       "0        mateo  gutierrez      melo\n",
       "1  juan jacobo  izquierdo       NaN\n",
       "2      natalia    quiroga      diaz"
      ]
     },
     "execution_count": 25,
     "metadata": {},
     "output_type": "execute_result"
    }
   ],
   "source": [
    "egresados"
   ]
  },
  {
   "cell_type": "code",
   "execution_count": 27,
   "metadata": {},
   "outputs": [
    {
     "data": {
      "text/plain": [
       "0          mateo\n",
       "1    juan jacobo\n",
       "2        natalia\n",
       "Name: NOMBRES, dtype: object"
      ]
     },
     "execution_count": 27,
     "metadata": {},
     "output_type": "execute_result"
    }
   ],
   "source": [
    "nombres = egresados['NOMBRES']\n",
    "nombres"
   ]
  },
  {
   "cell_type": "code",
   "execution_count": 29,
   "metadata": {},
   "outputs": [
    {
     "name": "stdout",
     "output_type": "stream",
     "text": [
      "0     mateo gutierrez melo\n",
      "1    juan jacobo izquierdo\n",
      "2     natalia quiroga diaz\n",
      "dtype: object\n"
     ]
    }
   ],
   "source": [
    "# Concatenacion nombres\n",
    "nombres = egresados['NOMBRES'] + ' ' + egresados['APELLIDO1'].fillna('') + ' ' + egresados['APELLIDO2'].fillna('')\n",
    "nombres = nombres.str.strip() \n",
    "print(nombres)"
   ]
  },
  {
   "cell_type": "code",
   "execution_count": 30,
   "metadata": {},
   "outputs": [
    {
     "name": "stdout",
     "output_type": "stream",
     "text": [
      "3\n"
     ]
    }
   ],
   "source": [
    "print(len(nombres))\n",
    "dict_egresados = {\n",
    "    'Nombre': [],\n",
    "    'URL': []\n",
    "}\n",
    "def save_dataframe_to_excel(file_path, dataframe):\n",
    "    directory = os.path.dirname(file_path)\n",
    "    if not os.path.exists(directory):\n",
    "        os.makedirs(directory)\n",
    "    dataframe.to_excel(file_path, index=False)\n",
    "\n",
    "cont = 0 \n",
    "cont_2 = 14\n"
   ]
  },
  {
   "cell_type": "code",
   "execution_count": 31,
   "metadata": {},
   "outputs": [
    {
     "name": "stdout",
     "output_type": "stream",
     "text": [
      "mateo gutierrez melo\n",
      "juan jacobo izquierdo\n",
      "natalia quiroga diaz\n"
     ]
    }
   ],
   "source": [
    "for nombre in nombres:\n",
    "    print(nombre.split(\"\\n\")[0])"
   ]
  },
  {
   "cell_type": "code",
   "execution_count": 32,
   "metadata": {},
   "outputs": [],
   "source": [
    "def play_sound():\n",
    "    frequency = 440  # Frequency in Hz\n",
    "    duration = 2.0  # Duration in seconds\n",
    "\n",
    "    # Generate time of samples between 0 and two pi\n",
    "    t = np.linspace(0, duration, int(44100 * duration), False)\n",
    "\n",
    "    # Generate the 440 Hz wave\n",
    "    note = np.sin(frequency * t * 2 * np.pi)\n",
    "\n",
    "    # Ensure that highest value is in 16-bit range\n",
    "    audio = note * (2**15 - 1) / np.max(np.abs(note))\n",
    "    audio = audio.astype(np.int16)\n",
    "\n",
    "    # Play sound\n",
    "    sd.play(audio, 44100)\n",
    "    sd.wait()"
   ]
  },
  {
   "cell_type": "code",
   "execution_count": 39,
   "metadata": {},
   "outputs": [
    {
     "name": "stdout",
     "output_type": "stream",
     "text": [
      "Iniciando busqueda perfiles linkedin\n",
      "buscando .. mateo gutierrez melo\n",
      "{'Nombre': ['mateo gutierrez melo'], 'URL': ['https://www.linkedin.com/in/mateo-guti%C3%A9rrez-melo-389996209/?originalSubdomain=co']}\n",
      "buscando .. juan jacobo izquierdo\n",
      "{'Nombre': ['mateo gutierrez melo', 'juan jacobo izquierdo'], 'URL': ['https://www.linkedin.com/in/mateo-guti%C3%A9rrez-melo-389996209/?originalSubdomain=co', 'https://www.linkedin.com/in/juan-jacobo-izquierdo-9aa617217/?originalSubdomain=co']}\n",
      "buscando .. natalia quiroga diaz\n",
      "{'Nombre': ['mateo gutierrez melo', 'juan jacobo izquierdo', 'natalia quiroga diaz'], 'URL': ['https://www.linkedin.com/in/mateo-guti%C3%A9rrez-melo-389996209/?originalSubdomain=co', 'https://www.linkedin.com/in/juan-jacobo-izquierdo-9aa617217/?originalSubdomain=co', 'https://www.linkedin.com/in/nataliaquirogad/?originalSubdomain=co']}\n"
     ]
    },
    {
     "data": {
      "text/plain": [
       "\"\\n\\n    cont +=1\\n\\n    if cont == 100:\\n\\n        cont = 0 \\n        if cont_2 % 3 == 0:\\n\\n            busqueda_obj = Busqueda()\\n            busqueda_obj.iniciar()\\n        \\n        cont_2 += 1\\n        \\n        # Get dir\\n\\n        dir = os.path.dirname(os.path.dirname(os.getcwd())) +'/documentacion/new_data'\\n        file_path = dir + '/egresados' + str(cont_2) + '.xlsx'\\n\\n        # Concat to df \\n        \\n        df = pd.DataFrame(dict_egresados)\\n        \\n        save_dataframe_to_excel(file_path, df)\\n\\n\""
      ]
     },
     "execution_count": 39,
     "metadata": {},
     "output_type": "execute_result"
    }
   ],
   "source": [
    "print(\"Iniciando busqueda perfiles linkedin\")\n",
    "\n",
    "\n",
    "busqueda_obj = Busqueda()\n",
    "busqueda_obj.abrir_navegador()\n",
    "#time.sleep(10) # Descomentar esto si se esta activando el bot anti spam de google\n",
    "for nombre in nombres:\n",
    "    nombre = nombre.split(\"\\n\")[0]\n",
    "    print(\"buscando ..\", nombre)\n",
    "    time.sleep(random.uniform(1,5))\n",
    "    \n",
    "    busqueda_obj.driver.get(\"https://www.google.com\")\n",
    "    busqueda_google = busqueda_obj.driver.find_element(By.NAME, \"q\")\n",
    "    texto_busqueda = 'site:linkedin.com/in/ AND ' + nombre + ' AND Universidad Nacional De Colombia'\n",
    "    busqueda_google.clear()\n",
    "    busqueda_google.send_keys(texto_busqueda)\n",
    "    busqueda_google.send_keys(Keys.RETURN)\n",
    "\n",
    "    try:\n",
    "\n",
    "        if \"sorry\" in busqueda_obj.driver.current_url :\n",
    "            play_sound()\n",
    "            time.sleep(random.uniform(5,10))\n",
    "            \n",
    "        \n",
    "        time.sleep(random.uniform(3, 5))\n",
    "        WebDriverWait(busqueda_obj.driver, 10).until(\n",
    "        EC.presence_of_element_located((By.ID, \"search\"))\n",
    "        )\n",
    "                \n",
    "        # Esperar hasta 5 segundos para que se carguen los resultados de la búsqueda\n",
    "        WebDriverWait(busqueda_obj.driver, 5).until(\n",
    "            EC.presence_of_element_located((By.ID, \"search\"))\n",
    "        )\n",
    "            \n",
    "        elem1 = busqueda_obj.driver.find_elements(By.XPATH,'//*[@id=\"rso\"]/div[1]/div/div/div[1]/div/div/span/a/h3')\n",
    "        elem1[0].click()\n",
    "        time.sleep(random.uniform(1,5))\n",
    "        while 'sorry' in busqueda_obj.driver.current_url or 'checkpoint' in busqueda_obj.driver.current_url:          \n",
    "            play_sound()\n",
    "            print(\"Encountered 'Sorry' page. Waiting...\")\n",
    "                \n",
    "\n",
    "        dict_egresados['Nombre'].append(nombre)\n",
    "        dict_egresados['URL'].append(busqueda_obj.driver.current_url)\n",
    "            \n",
    "        print(dict_egresados)\n",
    "    except Exception as e:\n",
    "        print(f\"Error al abrir el primer enlace para la búsqueda '{nombre}': {e}\")\n",
    "    time.sleep(random.uniform(1,3))\n",
    "'''\n",
    "\n",
    "    cont +=1\n",
    "\n",
    "    if cont == 100:\n",
    "\n",
    "        cont = 0 \n",
    "        if cont_2 % 3 == 0:\n",
    "\n",
    "            busqueda_obj = Busqueda()\n",
    "            busqueda_obj.iniciar()\n",
    "        \n",
    "        cont_2 += 1\n",
    "        \n",
    "        # Get dir\n",
    "\n",
    "        dir = os.path.dirname(os.path.dirname(os.getcwd())) +'/documentacion/new_data'\n",
    "        file_path = dir + '/egresados' + str(cont_2) + '.xlsx'\n",
    "\n",
    "        # Concat to df \n",
    "        \n",
    "        df = pd.DataFrame(dict_egresados)\n",
    "            \n",
    "        save_dataframe_to_excel(file_path, df)\n",
    "\n",
    "'''"
   ]
  },
  {
   "cell_type": "code",
   "execution_count": 40,
   "metadata": {},
   "outputs": [
    {
     "name": "stdout",
     "output_type": "stream",
     "text": [
      "3\n"
     ]
    }
   ],
   "source": [
    "print(len(dict_egresados['Nombre']))"
   ]
  },
  {
   "cell_type": "code",
   "execution_count": 42,
   "metadata": {},
   "outputs": [
    {
     "name": "stdout",
     "output_type": "stream",
     "text": [
      "                  Nombre                                                URL\n",
      "0   mateo gutierrez melo  https://www.linkedin.com/in/mateo-guti%C3%A9rr...\n",
      "1  juan jacobo izquierdo  https://www.linkedin.com/in/juan-jacobo-izquie...\n",
      "2   natalia quiroga diaz  https://www.linkedin.com/in/nataliaquirogad/?o...\n"
     ]
    }
   ],
   "source": [
    "test = pd.DataFrame(data = dict_egresados)\n",
    "print(test)"
   ]
  },
  {
   "cell_type": "code",
   "execution_count": 43,
   "metadata": {},
   "outputs": [],
   "source": [
    "test.to_excel('/home/user/Desktop/MateoCodes/WebScrapingLinkedin/test_scraping.xlsx')"
   ]
  }
 ],
 "metadata": {
  "kernelspec": {
   "display_name": "env",
   "language": "python",
   "name": "python3"
  },
  "language_info": {
   "codemirror_mode": {
    "name": "ipython",
    "version": 3
   },
   "file_extension": ".py",
   "mimetype": "text/x-python",
   "name": "python",
   "nbconvert_exporter": "python",
   "pygments_lexer": "ipython3",
   "version": "3.10.12"
  },
  "orig_nbformat": 4
 },
 "nbformat": 4,
 "nbformat_minor": 2
}
