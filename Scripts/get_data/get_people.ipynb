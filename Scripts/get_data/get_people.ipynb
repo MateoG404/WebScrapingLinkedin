{
 "cells": [
  {
   "cell_type": "code",
   "execution_count": 25,
   "metadata": {},
   "outputs": [],
   "source": [
    "from selenium import webdriver\n",
    "from selenium.webdriver.chrome.options import Options\n",
    "from selenium.webdriver.chrome.service import Service\n",
    "from selenium.webdriver.common.by import By\n",
    "from selenium.webdriver.common.keys import Keys\n",
    "from webdriver_manager.chrome import ChromeDriverManager\n",
    "from selenium.webdriver.common.by import By\n",
    "from selenium.webdriver.support.ui import WebDriverWait\n",
    "from selenium.webdriver.support import expected_conditions as EC\n",
    "import time\n",
    "import csv\n",
    "from dotenv import load_dotenv\n",
    "import pandas as pd\n",
    "import os\n",
    "import random"
   ]
  },
  {
   "cell_type": "code",
   "execution_count": 2,
   "metadata": {},
   "outputs": [],
   "source": [
    "class Busqueda:\n",
    "\n",
    "    def __init__(self) -> None:\n",
    "        load_dotenv()\n",
    "        options = Options()\n",
    "        options.add_argument('--disable-dev-shm-usage')\n",
    "        options.add_argument('--incognito')\n",
    "        self.driver = webdriver.Chrome(service=Service(ChromeDriverManager().install()), options=options)\n",
    "\n",
    "    def login_with_email(self):\n",
    "        driver = self.driver\n",
    "        email = driver.find_element(By.XPATH,'//*[@id=\"username\"]')\n",
    "        email.send_keys(os.environ.get('EMAIL2'))\n",
    "        password = driver.find_element(By.XPATH,'//*[@id=\"password\"]')\n",
    "        password.send_keys(os.environ.get('PASSWORD'))\n",
    "        self.sesion = driver.find_element(By.XPATH,'//*[@id=\"organic-div\"]/form/div[3]/button').click()\n",
    "\n",
    "    def abrir_navegador(self):\n",
    "        self.url = \"https://linkedin.com/uas/login\"\n",
    "        self.driver.get(self.url)\n",
    "        self.login_with_email()\n",
    "\n",
    "    def iniciar(self):\n",
    "        self.abrir_navegador()\n",
    "\n",
    "\n"
   ]
  },
  {
   "cell_type": "code",
   "execution_count": 32,
   "metadata": {},
   "outputs": [],
   "source": [
    "# Enviar código verificacion\n",
    "code_email = '003959'\n",
    "code = driver.find_element(By.XPATH,'//*[@id=\"input__email_verification_pin\"]')\n",
    "code.send_keys(code_email)\n",
    "\n",
    "# Send code\n",
    "\n",
    "send_code = driver.find_element(By.XPATH,'//*[@id=\"email-pin-submit-button\"]').click()"
   ]
  },
  {
   "cell_type": "code",
   "execution_count": 3,
   "metadata": {},
   "outputs": [],
   "source": [
    "# Lectura de archivos egresados\n",
    "\n",
    "#egresados = pd.read_excel('/home/user/Desktop/MateoCodes/WebScrapingLinkedin/documentacion/datos_egresados.xlsx')\n",
    "egresados = pd.read_excel('/home/user/Desktop/MateoCodes/WebScrapingLinkedin/documentacion/NEW_DATA/people_checkpoint.xlsx')"
   ]
  },
  {
   "cell_type": "code",
   "execution_count": 4,
   "metadata": {},
   "outputs": [
    {
     "data": {
      "text/plain": [
       "0         Raúl Fernando Martínez Oviedo\n",
       "1         Jhair Fabian Pinzon Rodriguez\n",
       "2      Cristhian Camilo Gonzalez Garzon\n",
       "3        Javier Steven Solano Calcetero\n",
       "4                   Efrain Galvis Duran\n",
       "                     ...               \n",
       "210         Maria Elvira Gaviria Forero\n",
       "211             Paula Lorena Solano Gil\n",
       "212          Jeison Julian Lozano Jojoa\n",
       "213        Daniel Santiago Rincon Parra\n",
       "214       Fredy Alexander Macias Rincon\n",
       "Name: Nombre, Length: 215, dtype: object"
      ]
     },
     "execution_count": 4,
     "metadata": {},
     "output_type": "execute_result"
    }
   ],
   "source": [
    "nombres = egresados['Nombre']\n",
    "nombres"
   ]
  },
  {
   "cell_type": "code",
   "execution_count": 4,
   "metadata": {},
   "outputs": [
    {
     "name": "stdout",
     "output_type": "stream",
     "text": [
      "0               David Styven Nieto Marin\n",
      "1           Daniel Esteban Romero Romero\n",
      "2            Jorge Andres Galindo Correa\n",
      "3         Jersson Steven Castillo Romero\n",
      "4                 Wilmar Jair Gomez Rios\n",
      "                      ...               \n",
      "7747    Brhayan Stiven Puentes Rodriguez\n",
      "7748             Yeny Sofia Vargas Urrea\n",
      "7749        Mateo De Las Salas Hernandez\n",
      "7750    Michael Lisandro Socha Rodriguez\n",
      "7751      Johan Sebastian Perez Velandia\n",
      "Length: 7752, dtype: object\n"
     ]
    }
   ],
   "source": [
    "nombres = egresados['NOMBRES'] + ' ' + egresados['APELLIDO1'] + ' ' + egresados['APELLIDO2']\n",
    "\n",
    "print(nombres)"
   ]
  },
  {
   "cell_type": "code",
   "execution_count": 5,
   "metadata": {},
   "outputs": [
    {
     "name": "stdout",
     "output_type": "stream",
     "text": [
      "215\n"
     ]
    }
   ],
   "source": [
    "print(len(nombres))\n",
    "dict_egresados = {\n",
    "    'Nombre': [],\n",
    "    'URL': []\n",
    "}\n",
    "def save_dataframe_to_excel(file_path, dataframe):\n",
    "    directory = os.path.dirname(file_path)\n",
    "    if not os.path.exists(directory):\n",
    "        os.makedirs(directory)\n",
    "    dataframe.to_excel(file_path, index=False)\n",
    "\n",
    "cont = 0 \n",
    "cont_2 = 14\n"
   ]
  },
  {
   "cell_type": "code",
   "execution_count": 23,
   "metadata": {},
   "outputs": [],
   "source": [
    "nombres = ['Luis Guillermo Villalobos Espitia\\n', 'Diana Milena Barrero Gomez\\n', 'Juan Fernando Lopez Prieto\\n', 'Edwin Andres Rodriguez Gil\\n', 'Diego Alejandro Vanegas Prada\\n', 'Oscar David Beltran Martinez\\n', 'Rafael Fernando Valbuena Reina\\n', 'Paula Andrea Avendaño Madero\\n', 'Ivonne Cristina Briceño Alvarez\\n', 'Robinson Daniel Cruz Castro\\n', 'Marlon Alexander Contreras Sanchez\\n', 'Luz Mery Blanco Guerrero\\n', 'Luis Augusto Henriquez Henriquez\\n', 'Cristian Moreno Moreno\\n', 'Oscar David Mieles Torres\\n', 'Andrea Martinez Diaz\\n', 'Bryan Joseph Teran Teheran\\n', 'Julian Enrique Sastoque Rey\\n', 'Hernán David Olarte Bolívar\\n', 'David Alexander Guecha Ahumada\\n', 'Angie Catherin Oviedo Reyes\\n', 'Juan Carlos Herrera Gutierrez\\n', 'Annghiee Natalia Osorio Castillo\\n', 'Juan Diego Bravo Aguirre\\n', 'Brian Alexander Avila Hernandez\\n', 'Angélica Bustos García\\n', 'Mateo González Arias\\n', 'Jose Daniel Sanchez Sanchez\\n', 'Edwin Andres Ayala Ramirez\\n', 'Sebastian Gutierrez Pacheco\\n', 'Laura Andrea Sarmiento Rodriguez\\n', 'Alejandro Ocampo Rodriguez\\n', 'Alvaro Enrique Becerra Gomez\\n', 'Oscar Daniel Gonzalez Rodriguez\\n', 'Ivan Alexander Correa Hoyos\\n', 'David Esteban Diaz Taquez\\n', 'Sebastian Morales Bernal\\n', 'Luis Fernando Valderrama Vinchery\\n', 'Alejandro Gonzalez Moreno\\n', 'Andres Mauricio Vasquez Medrano\\n', 'Sergio Andrés Mendoza Velandia\\n', 'Gustavo Andres Galvis Cifuentes\\n', 'Diego Alejandro Romero Lombo\\n', 'Daniel Felipe Garzón Cuervo\\n', 'Luisa Fernanda Garzon Garzon\\n', 'Francisco Javier Castañeda Guerrero\\n', 'Erika Natalia Avellaneda Pinzon\\n', 'Diego Felipe Rodriguez Gomez\\n', 'Carolina Peña Morales\\n', 'David Mateo Ospina Diaz\\n', 'Juan Camilo Gallego Tovar\\n', 'Miguel Hugo Miranda Vergara\\n', 'Juan Daniel Garzon Henao\\n', 'Andres Fernando Marles Agudelo\\n', 'Marcos Andres Rodriguez Mendoza\\n', 'Javier Eduardo Calderon Correa\\n', 'David Leonardo Otalora Duran\\n', 'Agustin Arias Mahecha\\n', 'David Alejandro Daza Charry\\n', 'Laura Paola Pineda Hernández\\n', 'Pedro Joaquin Rodriguez Gomez\\n', 'Maria Paula Espitia Castiblanco\\n', 'David Eduardo Beltrán Cifuentes\\n', 'Cristian Camilo Zapata Pardo\\n', 'Sergio Leonardo Vera Erazo\\n', 'Edgar Felipe Rojas Cala\\n', 'Nercy Cristina Alvarez Alvarado\\n', 'Ivan Dario Gaviria Lopez\\n', 'Hernando Diaz Patiño\\n', 'Catalina Vasquez Martinez\\n', 'Santiago Martin Gomez\\n', 'Daniela Aguirre Salazar\\n', 'Juan Sebastián Castillo Garcia\\n', 'Diana Catalina Rico Alfonso\\n', 'Santiago Acero Zambrano\\n', 'Cristian Danilo Patarroyo Buitrago\\n', 'Sebastian Rosas Barahona\\n', 'Gabriel Felipe Martinez Espinosa\\n', 'Juan Camilo Suarez Chaparro\\n', 'Edgar Fernando Duarte Herrera\\n', 'Maria Alejandra Escobar Holguin\\n', 'Javier Alexander Bonilla Ortiz\\n', 'Kevin Giovanny Gómez Téllez\\n', 'Camilo Andres Galvis Lara\\n', 'Andres Felipe Peñuela Vega\\n', 'Andres Julian Meneses Avella\\n', 'Javier Hernando Hernández Hernández\\n', 'Carlos Enrique Gil Roa\\n', 'Carlos David Bonilla Bonilla\\n', 'Andres Felipe Escobar Fernandez\\n', 'Jorge Andres Prieto Castaño\\n', 'María Fernanda Guzmán Vega\\n', 'Andres Yesid Molina Bello\\n', 'Zaira Katherin Pabon Martinez\\n', 'Hugo Andrés Martínez Díaz\\n', 'Maria Daniela Acevedo Hernandez\\n', 'Ana Lizbeth Gómez Gómez\\n', 'Robert David Petrel Vargas\\n', 'Sarah Carrasco Ortiz\\n', 'Andres Felipe Ordoñez Guevara\\n', 'Andrés Felipe Herrera Cortés\\n', 'Alejandra Osorio Hernández\\n', 'Eduardo Francisco Riaño Eslava\\n', 'Oscar Alberto Martinez Rodriguez\\n', 'Jairo Andres Buitrago Franco\\n', 'Cristian Duvan Peña Beltran\\n', 'Hector Hugo Hernandez Gutierrez\\n', 'Sebastian Garcia Vasquez\\n', 'Tania Fernanda Matabajoy Salas\\n', 'Mauricio Alejandro Narvaez Guzman\\n', 'Julián Andrés Cañón Castillo\\n', 'Daniel Ricardo Ramirez Cervera\\n', 'Manuela Galvis Muñoz\\n', 'Manuel Felipe Cardenas Ramirez\\n', 'Monica Eliana Gonzalez Rivera\\n', 'Ruben Santiago Garcia Serrano\\n', 'David Alfredo Quilismal Prieto\\n', 'Diego Alejandro Velasco Galindo\\n', 'Laura Lorena Barreto Gutierrez\\n', 'Julian Camilo Montero Suarez\\n', 'Andrés Felipe Avendaño Gambasica\\n', 'Juan David Rodriguez Ortiz\\n', 'Cristhian Felipe Pedroza Garcia\\n', 'Ivan Jair Alvarez Soler\\n', 'José Daniel Suárez Jurado\\n', 'Camilo Andres Zorro Mendoza\\n', 'Mateo Rodriguez Munoz\\n', 'Brayan Leonardo Poveda Contreras\\n', 'Francisco Javier Moreno Mora\\n', 'Ivan Dario Guáqueta Poveda\\n', 'Andrea Margarita Beleño Hernandez\\n', 'Sebastian Rodriguez Carvajal\\n', 'Juan David Rodriguez Gomez\\n', 'Oscar Felipe Sanabria Orozco\\n', 'Andres Felipe Torres Chamorro\\n', 'John Alexander Pachon Morales\\n', 'Camilo Andres Garavito Ospina\\n', 'Juana Melisa Mejia Lopez\\n', 'Leonardo Castro Perez\\n', 'Diana Alejandra Contreras Contreras\\n', 'Jorge Andres Gil Hernandez\\n', 'Jairo Alonso Guevara Londoño\\n', 'Andres Felipe Jimenez Cardenas\\n', 'Diego Nicolas Lopez Ramirez\\n', 'Jorge Enrique Leon Carpio\\n', 'Michael Andres Salgado Salazar\\n', 'David Jose Garcia Garzon\\n', 'Ana Maria Morales Coronado\\n', 'Laura Catalina Cruz Avila\\n', 'Cristian David Bonilla Candela\\n', 'Diego Armando Gahona Sorza\\n', 'Christian Cruz Jimenez\\n']\n",
    "dict_egresados = {'Nombre': [],'URL': []}"
   ]
  },
  {
   "cell_type": "code",
   "execution_count": 21,
   "metadata": {},
   "outputs": [
    {
     "name": "stdout",
     "output_type": "stream",
     "text": [
      "Luis Guillermo Villalobos Espitia\n",
      "Diana Milena Barrero Gomez\n",
      "Juan Fernando Lopez Prieto\n",
      "Edwin Andres Rodriguez Gil\n",
      "Diego Alejandro Vanegas Prada\n",
      "Oscar David Beltran Martinez\n",
      "Rafael Fernando Valbuena Reina\n",
      "Paula Andrea Avendaño Madero\n",
      "Ivonne Cristina Briceño Alvarez\n",
      "Robinson Daniel Cruz Castro\n",
      "Marlon Alexander Contreras Sanchez\n",
      "Luz Mery Blanco Guerrero\n",
      "Luis Augusto Henriquez Henriquez\n",
      "Cristian Moreno Moreno\n",
      "Oscar David Mieles Torres\n",
      "Andrea Martinez Diaz\n",
      "Bryan Joseph Teran Teheran\n",
      "Julian Enrique Sastoque Rey\n",
      "Hernán David Olarte Bolívar\n",
      "David Alexander Guecha Ahumada\n",
      "Angie Catherin Oviedo Reyes\n",
      "Juan Carlos Herrera Gutierrez\n",
      "Annghiee Natalia Osorio Castillo\n",
      "Juan Diego Bravo Aguirre\n",
      "Brian Alexander Avila Hernandez\n",
      "Angélica Bustos García\n",
      "Mateo González Arias\n",
      "Jose Daniel Sanchez Sanchez\n",
      "Edwin Andres Ayala Ramirez\n",
      "Sebastian Gutierrez Pacheco\n",
      "Laura Andrea Sarmiento Rodriguez\n",
      "Alejandro Ocampo Rodriguez\n",
      "Alvaro Enrique Becerra Gomez\n",
      "Oscar Daniel Gonzalez Rodriguez\n",
      "Ivan Alexander Correa Hoyos\n",
      "David Esteban Diaz Taquez\n",
      "Sebastian Morales Bernal\n",
      "Luis Fernando Valderrama Vinchery\n",
      "Alejandro Gonzalez Moreno\n",
      "Andres Mauricio Vasquez Medrano\n",
      "Sergio Andrés Mendoza Velandia\n",
      "Gustavo Andres Galvis Cifuentes\n",
      "Diego Alejandro Romero Lombo\n",
      "Daniel Felipe Garzón Cuervo\n",
      "Luisa Fernanda Garzon Garzon\n",
      "Francisco Javier Castañeda Guerrero\n",
      "Erika Natalia Avellaneda Pinzon\n",
      "Diego Felipe Rodriguez Gomez\n",
      "Carolina Peña Morales\n",
      "David Mateo Ospina Diaz\n",
      "Juan Camilo Gallego Tovar\n",
      "Miguel Hugo Miranda Vergara\n",
      "Juan Daniel Garzon Henao\n",
      "Andres Fernando Marles Agudelo\n",
      "Marcos Andres Rodriguez Mendoza\n",
      "Javier Eduardo Calderon Correa\n",
      "David Leonardo Otalora Duran\n",
      "Agustin Arias Mahecha\n",
      "David Alejandro Daza Charry\n",
      "Laura Paola Pineda Hernández\n",
      "Pedro Joaquin Rodriguez Gomez\n",
      "Maria Paula Espitia Castiblanco\n",
      "David Eduardo Beltrán Cifuentes\n",
      "Cristian Camilo Zapata Pardo\n",
      "Sergio Leonardo Vera Erazo\n",
      "Edgar Felipe Rojas Cala\n",
      "Nercy Cristina Alvarez Alvarado\n",
      "Ivan Dario Gaviria Lopez\n",
      "Hernando Diaz Patiño\n",
      "Catalina Vasquez Martinez\n",
      "Santiago Martin Gomez\n",
      "Daniela Aguirre Salazar\n",
      "Juan Sebastián Castillo Garcia\n",
      "Diana Catalina Rico Alfonso\n",
      "Santiago Acero Zambrano\n",
      "Cristian Danilo Patarroyo Buitrago\n",
      "Sebastian Rosas Barahona\n",
      "Gabriel Felipe Martinez Espinosa\n",
      "Juan Camilo Suarez Chaparro\n",
      "Edgar Fernando Duarte Herrera\n",
      "Maria Alejandra Escobar Holguin\n",
      "Javier Alexander Bonilla Ortiz\n",
      "Kevin Giovanny Gómez Téllez\n",
      "Camilo Andres Galvis Lara\n",
      "Andres Felipe Peñuela Vega\n",
      "Andres Julian Meneses Avella\n",
      "Javier Hernando Hernández Hernández\n",
      "Carlos Enrique Gil Roa\n",
      "Carlos David Bonilla Bonilla\n",
      "Andres Felipe Escobar Fernandez\n",
      "Jorge Andres Prieto Castaño\n",
      "María Fernanda Guzmán Vega\n",
      "Andres Yesid Molina Bello\n",
      "Zaira Katherin Pabon Martinez\n",
      "Hugo Andrés Martínez Díaz\n",
      "Maria Daniela Acevedo Hernandez\n",
      "Ana Lizbeth Gómez Gómez\n",
      "Robert David Petrel Vargas\n",
      "Sarah Carrasco Ortiz\n",
      "Andres Felipe Ordoñez Guevara\n",
      "Andrés Felipe Herrera Cortés\n",
      "Alejandra Osorio Hernández\n",
      "Eduardo Francisco Riaño Eslava\n",
      "Oscar Alberto Martinez Rodriguez\n",
      "Jairo Andres Buitrago Franco\n",
      "Cristian Duvan Peña Beltran\n",
      "Hector Hugo Hernandez Gutierrez\n",
      "Sebastian Garcia Vasquez\n",
      "Tania Fernanda Matabajoy Salas\n",
      "Mauricio Alejandro Narvaez Guzman\n",
      "Julián Andrés Cañón Castillo\n",
      "Daniel Ricardo Ramirez Cervera\n",
      "Manuela Galvis Muñoz\n",
      "Manuel Felipe Cardenas Ramirez\n",
      "Monica Eliana Gonzalez Rivera\n",
      "Ruben Santiago Garcia Serrano\n",
      "David Alfredo Quilismal Prieto\n",
      "Diego Alejandro Velasco Galindo\n",
      "Laura Lorena Barreto Gutierrez\n",
      "Julian Camilo Montero Suarez\n",
      "Andrés Felipe Avendaño Gambasica\n",
      "Juan David Rodriguez Ortiz\n",
      "Cristhian Felipe Pedroza Garcia\n",
      "Ivan Jair Alvarez Soler\n",
      "José Daniel Suárez Jurado\n",
      "Camilo Andres Zorro Mendoza\n",
      "Mateo Rodriguez Munoz\n",
      "Brayan Leonardo Poveda Contreras\n",
      "Francisco Javier Moreno Mora\n",
      "Ivan Dario Guáqueta Poveda\n",
      "Andrea Margarita Beleño Hernandez\n",
      "Sebastian Rodriguez Carvajal\n",
      "Juan David Rodriguez Gomez\n",
      "Oscar Felipe Sanabria Orozco\n",
      "Andres Felipe Torres Chamorro\n",
      "John Alexander Pachon Morales\n",
      "Camilo Andres Garavito Ospina\n",
      "Juana Melisa Mejia Lopez\n",
      "Leonardo Castro Perez\n",
      "Diana Alejandra Contreras Contreras\n",
      "Jorge Andres Gil Hernandez\n",
      "Jairo Alonso Guevara Londoño\n",
      "Andres Felipe Jimenez Cardenas\n",
      "Diego Nicolas Lopez Ramirez\n",
      "Jorge Enrique Leon Carpio\n",
      "Michael Andres Salgado Salazar\n",
      "David Jose Garcia Garzon\n",
      "Ana Maria Morales Coronado\n",
      "Laura Catalina Cruz Avila\n",
      "Cristian David Bonilla Candela\n",
      "Diego Armando Gahona Sorza\n",
      "Christian Cruz Jimenez\n"
     ]
    }
   ],
   "source": [
    "for nombre in nombres:\n",
    "    print(nombre.split(\"\\n\")[0])"
   ]
  },
  {
   "cell_type": "code",
   "execution_count": 33,
   "metadata": {},
   "outputs": [
    {
     "name": "stdout",
     "output_type": "stream",
     "text": [
      "Iniciando busqueda perfiles linkedin\n"
     ]
    },
    {
     "data": {
      "text/plain": [
       "\"\\n\\n    cont +=1\\n\\n    if cont == 100:\\n\\n        cont = 0 \\n        if cont_2 % 3 == 0:\\n\\n            busqueda_obj = Busqueda()\\n            busqueda_obj.iniciar()\\n        \\n        cont_2 += 1\\n        \\n        # Get dir\\n\\n        dir = os.path.dirname(os.path.dirname(os.getcwd())) +'/documentacion/new_data'\\n        file_path = dir + '/egresados' + str(cont_2) + '.xlsx'\\n\\n        # Concat to df \\n        \\n        df = pd.DataFrame(dict_egresados)\\n        \\n        save_dataframe_to_excel(file_path, df)\\n\\n\""
      ]
     },
     "execution_count": 33,
     "metadata": {},
     "output_type": "execute_result"
    }
   ],
   "source": [
    "print(\"Iniciando busqueda perfiles linkedin\")\n",
    "\n",
    "\n",
    "busqueda_obj = Busqueda()\n",
    "busqueda_obj.iniciar()\n",
    "\n",
    "for nombre in nombres[152:]:\n",
    "    nombre = nombre.split(\"\\n\")[0]\n",
    "    print(\"buscando ..\", nombre)\n",
    "    time.sleep(random.uniform(1,5))\n",
    "    busqueda_obj.driver.get(\"https://www.google.com\")\n",
    "    busqueda_google = busqueda_obj.driver.find_element(By.NAME, \"q\")\n",
    "    \n",
    "    texto_busqueda = 'site:linkedin.com/in/ AND ' + nombre + ' AND Universidad Nacional De Colombia'\n",
    "    \n",
    "    busqueda_google.clear()\n",
    "    busqueda_google.send_keys(texto_busqueda)\n",
    "    busqueda_google.send_keys(Keys.RETURN)\n",
    "    \n",
    "    \n",
    "    # Esperar a que se carguen los resultados de la búsqueda\n",
    "    WebDriverWait(busqueda_obj.driver, 10).until(\n",
    "        EC.presence_of_element_located((By.ID, \"search\"))\n",
    "    )\n",
    "        \n",
    "    time.sleep(random.uniform(3,7))\n",
    "        # Hacer clic en el primer enlace\n",
    "    try:\n",
    "        # Esperar hasta 5 segundos para que se carguen los resultados de la búsqueda\n",
    "        WebDriverWait(busqueda_obj.driver, 5).until(\n",
    "            EC.presence_of_element_located((By.ID, \"search\"))\n",
    "        )\n",
    "        \n",
    "        elem1 = busqueda_obj.driver.find_elements(By.XPATH,'//*[@id=\"rso\"]/div[1]/div/div/div[1]/div/div/span/a/h3')\n",
    "        elem1[0].click()\n",
    "        time.sleep(random.uniform(5,10))\n",
    "        dict_egresados['Nombre'].append(nombre)\n",
    "        dict_egresados['URL'].append(busqueda_obj.driver.current_url)\n",
    "        \n",
    "        \n",
    "        \n",
    "        \n",
    "    except Exception as e:\n",
    "        print(f\"Error al abrir el primer enlace para la búsqueda '{nombre}': {e}\")\n",
    "    time.sleep(2)\n",
    "'''\n",
    "\n",
    "    cont +=1\n",
    "\n",
    "    if cont == 100:\n",
    "\n",
    "        cont = 0 \n",
    "        if cont_2 % 3 == 0:\n",
    "\n",
    "            busqueda_obj = Busqueda()\n",
    "            busqueda_obj.iniciar()\n",
    "        \n",
    "        cont_2 += 1\n",
    "        \n",
    "        # Get dir\n",
    "\n",
    "        dir = os.path.dirname(os.path.dirname(os.getcwd())) +'/documentacion/new_data'\n",
    "        file_path = dir + '/egresados' + str(cont_2) + '.xlsx'\n",
    "\n",
    "        # Concat to df \n",
    "        \n",
    "        df = pd.DataFrame(dict_egresados)\n",
    "        \n",
    "        save_dataframe_to_excel(file_path, df)\n",
    "\n",
    "'''"
   ]
  },
  {
   "cell_type": "code",
   "execution_count": 35,
   "metadata": {},
   "outputs": [],
   "source": [
    "test = pd.DataFrame(data = dict_egresados)"
   ]
  },
  {
   "cell_type": "code",
   "execution_count": 37,
   "metadata": {},
   "outputs": [],
   "source": [
    "test.to_excel('/home/user/Desktop/MateoCodes/WebScrapingLinkedin/Data/Links_Linkedin/BD_egresados/Data_Bot/finales.xlsx')"
   ]
  },
  {
   "cell_type": "code",
   "execution_count": 34,
   "metadata": {},
   "outputs": [
    {
     "name": "stdout",
     "output_type": "stream",
     "text": [
      "152\n"
     ]
    }
   ],
   "source": [
    "print(len(nombres))"
   ]
  },
  {
   "cell_type": "code",
   "execution_count": 32,
   "metadata": {},
   "outputs": [],
   "source": [
    "copia_dict = dict_egresados"
   ]
  },
  {
   "cell_type": "code",
   "execution_count": 31,
   "metadata": {},
   "outputs": [
    {
     "name": "stdout",
     "output_type": "stream",
     "text": [
      "d\n",
      "152\n"
     ]
    }
   ],
   "source": [
    "cont = 0\n",
    "for nombre in nombres:\n",
    "    if (nombre.split(\"\\n\")[0]) in \"Andres Felipe Ordoñez Guevara\":\n",
    "        print(\"d\")\n",
    "    cont += 1\n",
    "print(cont)\n"
   ]
  },
  {
   "cell_type": "code",
   "execution_count": null,
   "metadata": {},
   "outputs": [
    {
     "name": "stdout",
     "output_type": "stream",
     "text": [
      "{'Nombre': ['carlos', 'carlos'], 'URL': ['fa', 'fa']}\n"
     ]
    }
   ],
   "source": [
    "dict_egresados['Nombre'].append('carlos')\n",
    "dict_egresados['URL'].append('fa')\n",
    "\n",
    "print(dict_egresados)"
   ]
  },
  {
   "cell_type": "code",
   "execution_count": 57,
   "metadata": {},
   "outputs": [
    {
     "name": "stdout",
     "output_type": "stream",
     "text": [
      "    Nombre                              URL\n",
      "0    Alice      https://linkedin.com/in/bob\n",
      "1      Bob  https://linkedin.com/in/charlie\n",
      "2  Charlie    https://linkedin.com/in/alice\n"
     ]
    }
   ],
   "source": [
    "import pandas as pd\n",
    "\n",
    "# Create a dictionary with names and LinkedIn URLs\n",
    "linkedin_data = {\n",
    "    'Nombre': ['Alice', 'Bob', 'Charlie'],\n",
    "    'URL': [ 'https://linkedin.com/in/bob', 'https://linkedin.com/in/charlie','https://linkedin.com/in/alice']\n",
    "}\n",
    "\n",
    "# Convert the dictionary to a DataFrame\n",
    "df = pd.DataFrame(linkedin_data)\n",
    "\n",
    "# Display the DataFrame\n",
    "print(df)\n"
   ]
  },
  {
   "cell_type": "code",
   "execution_count": 76,
   "metadata": {},
   "outputs": [
    {
     "name": "stdout",
     "output_type": "stream",
     "text": [
      "Buscando a ... Mariana Moreano Gonzalez\n",
      "no c\n",
      "Buscando a ... Erasmo Andres Rey Cobos\n",
      "Solo hay persona\n",
      "no c\n",
      "Buscando a ... Juliana Erika Cristina Cardona Jaramillo\n",
      "Solo hay persona\n",
      "no c\n",
      "Buscando a ... Eliana Lozano Romero\n",
      "Solo hay persona\n",
      "no c\n",
      "Buscando a ... Oscar Daniel Sanchez Plazas\n",
      "Solo hay persona\n",
      "no c\n"
     ]
    }
   ],
   "source": [
    "# Empezar busqueda\n",
    "search_boton = driver.find_element(By.XPATH,'//*[@id=\"global-nav-typeahead\"]/input')\n",
    "\n",
    "for nombre in nombres[:5] :\n",
    "\n",
    "    print(\"Buscando a ...\",nombre)\n",
    "    search_boton.clear()    \n",
    "    search_boton.send_keys(nombre)\n",
    "    search_boton.send_keys(Keys.RETURN)\n",
    "    try:\n",
    "        boton_persona = driver.find_element(By.XPATH,'//*[@id=\"search-reusables__filters-bar\"]/ul/li[2]/button').click()\n",
    "    except:\n",
    "        print(\"Solo hay persona\")\n",
    "    try:\n",
    "\n",
    "        personas = driver.find_element(By.XPATH,'//*[@id=\"xuj3rB9VSOeWyTk+VlAbCw==\"]/div/ul/li/div/div/div[2]/div/div[1]/div/span[1]/span/a/span/span[1]')\n",
    "        print(personas)\n",
    "    except :\n",
    "        print(\"no c\")\n",
    "    #seccion_personas = driver.find_element(By.XPATH,'//*[@id=\"gDoEGMpPQ86ZC8lh+RccKA==\"]/div')\n",
    "\n",
    "    #print(seccion_personas)\n",
    "\n",
    "    '''\n",
    "    # Esperar a que se carguen los resultados\n",
    "    WebDriverWait(driver, 10).until(\n",
    "        EC.presence_of_element_located((By.XPATH, '//ul[@class=\"search-results__list list-style-none \"]/li'))\n",
    "    )\n",
    "        \n",
    "    # Obtener la lista de perfiles\n",
    "    profiles = driver.find_elements(By.XPATH, '//ul[@class=\"search-results__list list-style-none \"]/li')\n",
    "    '''\n",
    "    \n",
    "    #print(profiles)    \n",
    "    time.sleep(5)"
   ]
  },
  {
   "cell_type": "code",
   "execution_count": null,
   "metadata": {},
   "outputs": [],
   "source": [
    "# Cerrar navegador\n",
    "\n",
    "driver.close()"
   ]
  }
 ],
 "metadata": {
  "kernelspec": {
   "display_name": "env",
   "language": "python",
   "name": "python3"
  },
  "language_info": {
   "codemirror_mode": {
    "name": "ipython",
    "version": 3
   },
   "file_extension": ".py",
   "mimetype": "text/x-python",
   "name": "python",
   "nbconvert_exporter": "python",
   "pygments_lexer": "ipython3",
   "version": "3.10.12"
  },
  "orig_nbformat": 4
 },
 "nbformat": 4,
 "nbformat_minor": 2
}
