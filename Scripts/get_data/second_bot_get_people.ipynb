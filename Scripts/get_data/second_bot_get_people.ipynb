{
 "cells": [
  {
   "cell_type": "code",
   "execution_count": 1,
   "metadata": {},
   "outputs": [],
   "source": [
    "from selenium import webdriver\n",
    "from selenium.webdriver.chrome.options import Options\n",
    "from selenium.webdriver.chrome.service import Service\n",
    "from selenium.webdriver.common.by import By\n",
    "from selenium.webdriver.common.keys import Keys\n",
    "from webdriver_manager.chrome import ChromeDriverManager\n",
    "from webdriver_manager.firefox import GeckoDriverManager\n",
    "from selenium.webdriver.common.by import By\n",
    "from selenium.webdriver.support.ui import WebDriverWait\n",
    "from selenium.webdriver.support import expected_conditions as EC\n",
    "import time\n",
    "import csv\n",
    "from dotenv import load_dotenv\n",
    "import pandas as pd\n",
    "import os\n",
    "import random"
   ]
  },
  {
   "cell_type": "code",
   "execution_count": 6,
   "metadata": {},
   "outputs": [],
   "source": [
    "class Busqueda:\n",
    "\n",
    "    def __init__(self,email,password) -> None:\n",
    "        load_dotenv()\n",
    "        options = Options()\n",
    "        options.add_argument('--disable-dev-shm-usage')\n",
    "        options.add_argument('--incognito')\n",
    "        self.email = email\n",
    "        self.dict_egresados = {'Nombre': [],'URL': []}\n",
    "        self.password = password\n",
    "        self.driver = webdriver.Chrome(service=Service(ChromeDriverManager().install()), options=options)\n",
    "\n",
    "    def login_with_email(self):\n",
    "        driver = self.driver\n",
    "        email = driver.find_element(By.XPATH,'//*[@id=\"username\"]')\n",
    "        email.send_keys(os.environ.get(self.email))\n",
    "        password = driver.find_element(By.XPATH,'//*[@id=\"password\"]')\n",
    "        password.send_keys(os.environ.get(self.password))\n",
    "        self.sesion = driver.find_element(By.XPATH,'//*[@id=\"organic-div\"]/form/div[3]/button').click()\n",
    "\n",
    "    def abrir_navegador(self):\n",
    "        self.url = \"https://linkedin.com/uas/login\"\n",
    "        self.driver.get(self.url)\n",
    "        self.login_with_email()\n",
    "        time.sleep(random.uniform( 3,8))\n",
    "\n",
    "\n",
    "\n",
    "    def buscador_linkedin(self, name):\n",
    "        print(\"buscando ..\",name)\n",
    "        self.driver.get(\"https://www.google.com\")\n",
    "        buscador = self.driver.find_element(By.NAME, \"q\")\n",
    "\n",
    "        time.sleep(random.uniform(1,5))\n",
    "        texto_busqueda = 'site:linkedin.com/in/ AND ' + name + ' AND Universidad Nacional De Colombia'\n",
    "        print(texto_busqueda)\n",
    "        buscador.send_keys(texto_busqueda)\n",
    "        buscador.send_keys(Keys.RETURN)\n",
    "        \n",
    "\n",
    "        # Esperar hasta 5 segundos para que se carguen los resultados de la búsqueda\n",
    "        WebDriverWait(self.driver, 10).until(\n",
    "            EC.presence_of_element_located((By.ID, \"search\"))\n",
    "        )\n",
    "        time.sleep(random.uniform(3, 7))\n",
    "\n",
    "        try:\n",
    "            # Esperar hasta 5 segundos para que se carguen los resultados de la búsqueda\n",
    "            WebDriverWait(self.driver, 8).until(\n",
    "                EC.presence_of_element_located((By.ID, \"search\"))\n",
    "            )\n",
    "            \n",
    "            elem1 = self.driver.find_elements(By.XPATH,'//*[@id=\"rso\"]/div[1]/div/div/div[1]/div/div/span/a/h3')\n",
    "            elem1[0].click()\n",
    "            time.sleep(random.uniform(3, 7))            \n",
    "            self.dict_egresados['Nombre'].append(name)\n",
    "            self.dict_egresados['URL'].append(self.driver.current_url)\n",
    "            \n",
    "            print(self.dict_egresados['Nombre'],self.dict_egresados['URL'])\n",
    "\n",
    "        except Exception as e:\n",
    "            \n",
    "            print(f\"Error al buscar a\", name)\n",
    "            time.sleep(30)\n",
    "    def iniciar(self):\n",
    "        self.abrir_navegador()\n",
    "    \n",
    "    \n",
    "    def captcha(self):\n",
    "        self.driver.get('https://google.com/recaptcha/api2/demo')\n",
    "\n",
    "\n",
    "\n",
    "    def return_dict(self):\n",
    "        return self.dict_egresados"
   ]
  },
  {
   "cell_type": "code",
   "execution_count": 3,
   "metadata": {},
   "outputs": [],
   "source": [
    "# Open the file for the people who don't have linkedin url\n",
    "\n",
    "path_data = os.path.abspath(os.path.join(os.getcwd(), \"..\", \"..\"))\n",
    "path_data_bot = os.path.abspath(os.path.join(path_data,\"Data\",\"Links_Linkedin\",\"BD_egresados\",\"Data_Bot\",\"search_people_linkedin.txt\"))\n",
    "\n",
    "\n",
    "with open(path_data_bot,\"r\") as f:\n",
    "    names = f.readlines()"
   ]
  },
  {
   "cell_type": "code",
   "execution_count": 13,
   "metadata": {},
   "outputs": [
    {
     "name": "stdout",
     "output_type": "stream",
     "text": [
      "['Luis Guillermo Villalobos Espitia\\n', 'Diana Milena Barrero Gomez\\n', 'Juan Fernando Lopez Prieto\\n', 'Edwin Andres Rodriguez Gil\\n', 'Diego Alejandro Vanegas Prada\\n', 'Oscar David Beltran Martinez\\n', 'Rafael Fernando Valbuena Reina\\n', 'Paula Andrea Avendaño Madero\\n', 'Ivonne Cristina Briceño Alvarez\\n', 'Robinson Daniel Cruz Castro\\n', 'Marlon Alexander Contreras Sanchez\\n', 'Luz Mery Blanco Guerrero\\n', 'Luis Augusto Henriquez Henriquez\\n', 'Cristian Moreno Moreno\\n', 'Oscar David Mieles Torres\\n', 'Andrea Martinez Diaz\\n', 'Bryan Joseph Teran Teheran\\n', 'Julian Enrique Sastoque Rey\\n', 'Hernán David Olarte Bolívar\\n', 'David Alexander Guecha Ahumada\\n', 'Angie Catherin Oviedo Reyes\\n', 'Juan Carlos Herrera Gutierrez\\n', 'Annghiee Natalia Osorio Castillo\\n', 'Juan Diego Bravo Aguirre\\n', 'Brian Alexander Avila Hernandez\\n', 'Angélica Bustos García\\n', 'Mateo González Arias\\n', 'Jose Daniel Sanchez Sanchez\\n', 'Edwin Andres Ayala Ramirez\\n', 'Sebastian Gutierrez Pacheco\\n', 'Laura Andrea Sarmiento Rodriguez\\n', 'Alejandro Ocampo Rodriguez\\n', 'Alvaro Enrique Becerra Gomez\\n', 'Oscar Daniel Gonzalez Rodriguez\\n', 'Ivan Alexander Correa Hoyos\\n', 'David Esteban Diaz Taquez\\n', 'Sebastian Morales Bernal\\n', 'Luis Fernando Valderrama Vinchery\\n', 'Alejandro Gonzalez Moreno\\n', 'Andres Mauricio Vasquez Medrano\\n', 'Sergio Andrés Mendoza Velandia\\n', 'Gustavo Andres Galvis Cifuentes\\n', 'Diego Alejandro Romero Lombo\\n', 'Daniel Felipe Garzón Cuervo\\n', 'Luisa Fernanda Garzon Garzon\\n', 'Francisco Javier Castañeda Guerrero\\n', 'Erika Natalia Avellaneda Pinzon\\n', 'Diego Felipe Rodriguez Gomez\\n', 'Carolina Peña Morales\\n', 'David Mateo Ospina Diaz\\n', 'Juan Camilo Gallego Tovar\\n', 'Miguel Hugo Miranda Vergara\\n', 'Juan Daniel Garzon Henao\\n', 'Andres Fernando Marles Agudelo\\n', 'Marcos Andres Rodriguez Mendoza\\n', 'Javier Eduardo Calderon Correa\\n', 'David Leonardo Otalora Duran\\n', 'Agustin Arias Mahecha\\n', 'David Alejandro Daza Charry\\n', 'Laura Paola Pineda Hernández\\n', 'Pedro Joaquin Rodriguez Gomez\\n', 'Maria Paula Espitia Castiblanco\\n', 'David Eduardo Beltrán Cifuentes\\n', 'Cristian Camilo Zapata Pardo\\n', 'Sergio Leonardo Vera Erazo\\n', 'Edgar Felipe Rojas Cala\\n', 'Nercy Cristina Alvarez Alvarado\\n', 'Ivan Dario Gaviria Lopez\\n', 'Hernando Diaz Patiño\\n', 'Catalina Vasquez Martinez\\n', 'Santiago Martin Gomez\\n', 'Daniela Aguirre Salazar\\n', 'Juan Sebastián Castillo Garcia\\n', 'Diana Catalina Rico Alfonso\\n', 'Santiago Acero Zambrano\\n', 'Cristian Danilo Patarroyo Buitrago\\n', 'Sebastian Rosas Barahona\\n', 'Gabriel Felipe Martinez Espinosa\\n', 'Juan Camilo Suarez Chaparro\\n', 'Edgar Fernando Duarte Herrera\\n', 'Maria Alejandra Escobar Holguin\\n', 'Javier Alexander Bonilla Ortiz\\n', 'Kevin Giovanny Gómez Téllez\\n', 'Camilo Andres Galvis Lara\\n', 'Andres Felipe Peñuela Vega\\n', 'Andres Julian Meneses Avella\\n', 'Javier Hernando Hernández Hernández\\n', 'Carlos Enrique Gil Roa\\n', 'Carlos David Bonilla Bonilla\\n', 'Andres Felipe Escobar Fernandez\\n', 'Jorge Andres Prieto Castaño\\n', 'María Fernanda Guzmán Vega\\n', 'Andres Yesid Molina Bello\\n', 'Zaira Katherin Pabon Martinez\\n', 'Hugo Andrés Martínez Díaz\\n', 'Maria Daniela Acevedo Hernandez\\n', 'Ana Lizbeth Gómez Gómez\\n', 'Robert David Petrel Vargas\\n', 'Sarah Carrasco Ortiz\\n', 'Andres Felipe Ordoñez Guevara\\n', 'Andrés Felipe Herrera Cortés\\n', 'Alejandra Osorio Hernández\\n', 'Eduardo Francisco Riaño Eslava\\n', 'Oscar Alberto Martinez Rodriguez\\n', 'Jairo Andres Buitrago Franco\\n', 'Cristian Duvan Peña Beltran\\n', 'Hector Hugo Hernandez Gutierrez\\n', 'Sebastian Garcia Vasquez\\n', 'Tania Fernanda Matabajoy Salas\\n', 'Mauricio Alejandro Narvaez Guzman\\n', 'Julián Andrés Cañón Castillo\\n', 'Daniel Ricardo Ramirez Cervera\\n', 'Manuela Galvis Muñoz\\n', 'Manuel Felipe Cardenas Ramirez\\n', 'Monica Eliana Gonzalez Rivera\\n', 'Ruben Santiago Garcia Serrano\\n', 'David Alfredo Quilismal Prieto\\n', 'Diego Alejandro Velasco Galindo\\n', 'Laura Lorena Barreto Gutierrez\\n', 'Julian Camilo Montero Suarez\\n', 'Andrés Felipe Avendaño Gambasica\\n', 'Juan David Rodriguez Ortiz\\n', 'Cristhian Felipe Pedroza Garcia\\n', 'Ivan Jair Alvarez Soler\\n', 'José Daniel Suárez Jurado\\n', 'Camilo Andres Zorro Mendoza\\n', 'Mateo Rodriguez Munoz\\n', 'Brayan Leonardo Poveda Contreras\\n', 'Francisco Javier Moreno Mora\\n', 'Ivan Dario Guáqueta Poveda\\n', 'Andrea Margarita Beleño Hernandez\\n', 'Sebastian Rodriguez Carvajal\\n', 'Juan David Rodriguez Gomez\\n', 'Oscar Felipe Sanabria Orozco\\n', 'Andres Felipe Torres Chamorro\\n', 'John Alexander Pachon Morales\\n', 'Camilo Andres Garavito Ospina\\n', 'Juana Melisa Mejia Lopez\\n', 'Leonardo Castro Perez\\n', 'Diana Alejandra Contreras Contreras\\n', 'Jorge Andres Gil Hernandez\\n', 'Jairo Alonso Guevara Londoño\\n', 'Andres Felipe Jimenez Cardenas\\n', 'Diego Nicolas Lopez Ramirez\\n', 'Jorge Enrique Leon Carpio\\n', 'Michael Andres Salgado Salazar\\n', 'David Jose Garcia Garzon\\n', 'Ana Maria Morales Coronado\\n', 'Laura Catalina Cruz Avila\\n', 'Cristian David Bonilla Candela\\n', 'Diego Armando Gahona Sorza\\n', 'Christian Cruz Jimenez\\n']\n"
     ]
    }
   ],
   "source": [
    "print(names)"
   ]
  },
  {
   "cell_type": "code",
   "execution_count": 7,
   "metadata": {},
   "outputs": [
    {
     "name": "stdout",
     "output_type": "stream",
     "text": [
      "buscando .. Juan Fernando Lopez Prieto\n",
      "site:linkedin.com/in/ AND Juan Fernando Lopez Prieto AND Universidad Nacional De Colombia\n"
     ]
    },
    {
     "ename": "TimeoutException",
     "evalue": "Message: \nStacktrace:\n#0 0x562f5ff48933 <unknown>\n#1 0x562f5fc226f7 <unknown>\n#2 0x562f5fc69aa6 <unknown>\n#3 0x562f5fc69b91 <unknown>\n#4 0x562f5fca6fc4 <unknown>\n#5 0x562f5fc8b62d <unknown>\n#6 0x562f5fca4857 <unknown>\n#7 0x562f5fc8b3d3 <unknown>\n#8 0x562f5fc5de64 <unknown>\n#9 0x562f5fc5ec4e <unknown>\n#10 0x562f5ff0e558 <unknown>\n#11 0x562f5ff124a0 <unknown>\n#12 0x562f5ff1c97c <unknown>\n#13 0x562f5ff130b8 <unknown>\n#14 0x562f5fedecdf <unknown>\n#15 0x562f5ff37048 <unknown>\n#16 0x562f5ff37219 <unknown>\n#17 0x562f5ff47ac3 <unknown>\n#18 0x7f78fe094ac3 <unknown>\n",
     "output_type": "error",
     "traceback": [
      "\u001b[0;31m---------------------------------------------------------------------------\u001b[0m",
      "\u001b[0;31mTimeoutException\u001b[0m                          Traceback (most recent call last)",
      "\u001b[1;32m/home/user/Desktop/MateoCodes/WebScrapingLinkedin/Scripts/get_data/second_bot_get_people.ipynb Cell 4\u001b[0m line \u001b[0;36m1\n\u001b[1;32m      <a href='vscode-notebook-cell:/home/user/Desktop/MateoCodes/WebScrapingLinkedin/Scripts/get_data/second_bot_get_people.ipynb#W3sZmlsZQ%3D%3D?line=6'>7</a>\u001b[0m \u001b[39mfor\u001b[39;00m name \u001b[39min\u001b[39;00m names[\u001b[39m2\u001b[39m:\u001b[39m5\u001b[39m] :\n\u001b[1;32m      <a href='vscode-notebook-cell:/home/user/Desktop/MateoCodes/WebScrapingLinkedin/Scripts/get_data/second_bot_get_people.ipynb#W3sZmlsZQ%3D%3D?line=7'>8</a>\u001b[0m     lis \u001b[39m=\u001b[39m name\u001b[39m.\u001b[39msplit(\u001b[39m\"\u001b[39m\u001b[39m\\n\u001b[39;00m\u001b[39m\"\u001b[39m)\n\u001b[0;32m---> <a href='vscode-notebook-cell:/home/user/Desktop/MateoCodes/WebScrapingLinkedin/Scripts/get_data/second_bot_get_people.ipynb#W3sZmlsZQ%3D%3D?line=9'>10</a>\u001b[0m     busqueda_obj\u001b[39m.\u001b[39;49mbuscador_linkedin(lis[\u001b[39m0\u001b[39;49m])\n",
      "\u001b[1;32m/home/user/Desktop/MateoCodes/WebScrapingLinkedin/Scripts/get_data/second_bot_get_people.ipynb Cell 4\u001b[0m line \u001b[0;36m4\n\u001b[1;32m     <a href='vscode-notebook-cell:/home/user/Desktop/MateoCodes/WebScrapingLinkedin/Scripts/get_data/second_bot_get_people.ipynb#W3sZmlsZQ%3D%3D?line=37'>38</a>\u001b[0m buscador\u001b[39m.\u001b[39msend_keys(Keys\u001b[39m.\u001b[39mRETURN)\n\u001b[1;32m     <a href='vscode-notebook-cell:/home/user/Desktop/MateoCodes/WebScrapingLinkedin/Scripts/get_data/second_bot_get_people.ipynb#W3sZmlsZQ%3D%3D?line=40'>41</a>\u001b[0m \u001b[39m# Esperar hasta 5 segundos para que se carguen los resultados de la búsqueda\u001b[39;00m\n\u001b[0;32m---> <a href='vscode-notebook-cell:/home/user/Desktop/MateoCodes/WebScrapingLinkedin/Scripts/get_data/second_bot_get_people.ipynb#W3sZmlsZQ%3D%3D?line=41'>42</a>\u001b[0m WebDriverWait(\u001b[39mself\u001b[39;49m\u001b[39m.\u001b[39;49mdriver, \u001b[39m10\u001b[39;49m)\u001b[39m.\u001b[39;49muntil(\n\u001b[1;32m     <a href='vscode-notebook-cell:/home/user/Desktop/MateoCodes/WebScrapingLinkedin/Scripts/get_data/second_bot_get_people.ipynb#W3sZmlsZQ%3D%3D?line=42'>43</a>\u001b[0m     EC\u001b[39m.\u001b[39;49mpresence_of_element_located((By\u001b[39m.\u001b[39;49mID, \u001b[39m\"\u001b[39;49m\u001b[39msearch\u001b[39;49m\u001b[39m\"\u001b[39;49m))\n\u001b[1;32m     <a href='vscode-notebook-cell:/home/user/Desktop/MateoCodes/WebScrapingLinkedin/Scripts/get_data/second_bot_get_people.ipynb#W3sZmlsZQ%3D%3D?line=43'>44</a>\u001b[0m )\n\u001b[1;32m     <a href='vscode-notebook-cell:/home/user/Desktop/MateoCodes/WebScrapingLinkedin/Scripts/get_data/second_bot_get_people.ipynb#W3sZmlsZQ%3D%3D?line=44'>45</a>\u001b[0m time\u001b[39m.\u001b[39msleep(random\u001b[39m.\u001b[39muniform(\u001b[39m3\u001b[39m, \u001b[39m7\u001b[39m))\n\u001b[1;32m     <a href='vscode-notebook-cell:/home/user/Desktop/MateoCodes/WebScrapingLinkedin/Scripts/get_data/second_bot_get_people.ipynb#W3sZmlsZQ%3D%3D?line=46'>47</a>\u001b[0m \u001b[39mtry\u001b[39;00m:\n\u001b[1;32m     <a href='vscode-notebook-cell:/home/user/Desktop/MateoCodes/WebScrapingLinkedin/Scripts/get_data/second_bot_get_people.ipynb#W3sZmlsZQ%3D%3D?line=47'>48</a>\u001b[0m     \u001b[39m# Esperar hasta 5 segundos para que se carguen los resultados de la búsqueda\u001b[39;00m\n",
      "File \u001b[0;32m~/Desktop/MateoCodes/WebScrapingLinkedin/env/lib/python3.10/site-packages/selenium/webdriver/support/wait.py:95\u001b[0m, in \u001b[0;36mWebDriverWait.until\u001b[0;34m(self, method, message)\u001b[0m\n\u001b[1;32m     93\u001b[0m     \u001b[39mif\u001b[39;00m time\u001b[39m.\u001b[39mmonotonic() \u001b[39m>\u001b[39m end_time:\n\u001b[1;32m     94\u001b[0m         \u001b[39mbreak\u001b[39;00m\n\u001b[0;32m---> 95\u001b[0m \u001b[39mraise\u001b[39;00m TimeoutException(message, screen, stacktrace)\n",
      "\u001b[0;31mTimeoutException\u001b[0m: Message: \nStacktrace:\n#0 0x562f5ff48933 <unknown>\n#1 0x562f5fc226f7 <unknown>\n#2 0x562f5fc69aa6 <unknown>\n#3 0x562f5fc69b91 <unknown>\n#4 0x562f5fca6fc4 <unknown>\n#5 0x562f5fc8b62d <unknown>\n#6 0x562f5fca4857 <unknown>\n#7 0x562f5fc8b3d3 <unknown>\n#8 0x562f5fc5de64 <unknown>\n#9 0x562f5fc5ec4e <unknown>\n#10 0x562f5ff0e558 <unknown>\n#11 0x562f5ff124a0 <unknown>\n#12 0x562f5ff1c97c <unknown>\n#13 0x562f5ff130b8 <unknown>\n#14 0x562f5fedecdf <unknown>\n#15 0x562f5ff37048 <unknown>\n#16 0x562f5ff37219 <unknown>\n#17 0x562f5ff47ac3 <unknown>\n#18 0x7f78fe094ac3 <unknown>\n"
     ]
    }
   ],
   "source": [
    "# Creation of object from the Class Busqueda\n",
    "busqueda_obj = Busqueda('EMAIL3','PASSWORD2')\n",
    "\n",
    "# Start the search for the people who dont have profile correctly\n",
    "busqueda_obj.iniciar()\n",
    "cont = 0\n",
    "for name in names[2:5] :\n",
    "    lis = name.split(\"\\n\")\n",
    "    \n",
    "    busqueda_obj.buscador_linkedin(lis[0])\n"
   ]
  },
  {
   "cell_type": "code",
   "execution_count": 139,
   "metadata": {},
   "outputs": [],
   "source": [
    "copia_dict = busqueda_obj.dict_egresados"
   ]
  },
  {
   "cell_type": "code",
   "execution_count": 143,
   "metadata": {},
   "outputs": [
    {
     "data": {
      "text/plain": [
       "37"
      ]
     },
     "execution_count": 143,
     "metadata": {},
     "output_type": "execute_result"
    }
   ],
   "source": [
    "len(copia_dict['Nombre'])"
   ]
  },
  {
   "cell_type": "code",
   "execution_count": 144,
   "metadata": {},
   "outputs": [
    {
     "name": "stdout",
     "output_type": "stream",
     "text": [
      "[]\n"
     ]
    }
   ],
   "source": [
    "print((busqueda_obj.dict_egresados['URL']))\n"
   ]
  },
  {
   "cell_type": "code",
   "execution_count": 12,
   "metadata": {},
   "outputs": [
    {
     "name": "stdout",
     "output_type": "stream",
     "text": [
      "8.219.64.236\n"
     ]
    }
   ],
   "source": [
    "import requests \n",
    " \n",
    "proxies = {'http': 'http://8.219.97.248:80'} \n",
    "response = requests.get('http://httpbin.org/ip', proxies=proxies) \n",
    "print(response.json()['origin']) # 190.64.18.162\n"
   ]
  }
 ],
 "metadata": {
  "kernelspec": {
   "display_name": "env",
   "language": "python",
   "name": "python3"
  },
  "language_info": {
   "codemirror_mode": {
    "name": "ipython",
    "version": 3
   },
   "file_extension": ".py",
   "mimetype": "text/x-python",
   "name": "python",
   "nbconvert_exporter": "python",
   "pygments_lexer": "ipython3",
   "version": "3.10.12"
  }
 },
 "nbformat": 4,
 "nbformat_minor": 2
}
