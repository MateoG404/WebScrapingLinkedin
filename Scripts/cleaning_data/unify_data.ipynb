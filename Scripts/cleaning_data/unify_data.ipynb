{
 "cells": [
  {
   "cell_type": "code",
   "execution_count": 2,
   "metadata": {},
   "outputs": [],
   "source": [
    "import pandas as pd\n",
    "import os\n"
   ]
  },
  {
   "cell_type": "code",
   "execution_count": 3,
   "metadata": {},
   "outputs": [],
   "source": [
    "#Global Variables\n",
    "'''\n",
    "# This code make the next things:\n",
    "    1. Unify all the docs to create a final doc with the final links to make the scrapping\n",
    "'''\n",
    "path_data = os.path.abspath(os.path.join(os.getcwd(), \"..\", \"..\"))\n",
    "all_data = pd.DataFrame()"
   ]
  },
  {
   "cell_type": "code",
   "execution_count": 4,
   "metadata": {},
   "outputs": [
    {
     "name": "stdout",
     "output_type": "stream",
     "text": [
      "finales.xlsx\n",
      "finales2.xlsx\n",
      "finales3.xlsx\n"
     ]
    }
   ],
   "source": [
    "dir_files_second_bot = os.path.abspath(os.path.join(path_data,\"Data\",\"Links_Linkedin\",\"BD_egresados\",\"Data_Bot\"))\n",
    "data_second_bot = os.listdir(dir_files_second_bot)\n",
    "\n",
    "for files in data_second_bot:\n",
    "    \n",
    "    if '.xlsx' in files and 'Data_Bot' not in files:\n",
    "        df_temp_second_bot = pd.read_excel(os.path.join(dir_files_second_bot,files))\n",
    "        all_data = pd.concat([all_data,df_temp_second_bot])\n",
    "        print(files)    "
   ]
  },
  {
   "cell_type": "code",
   "execution_count": 5,
   "metadata": {},
   "outputs": [
    {
     "name": "stdout",
     "output_type": "stream",
     "text": [
      "<class 'pandas.core.frame.DataFrame'>\n",
      "Index: 467 entries, 0 to 148\n",
      "Data columns (total 3 columns):\n",
      " #   Column      Non-Null Count  Dtype \n",
      "---  ------      --------------  ----- \n",
      " 0   Unnamed: 0  467 non-null    int64 \n",
      " 1   Nombre      467 non-null    object\n",
      " 2   URL         467 non-null    object\n",
      "dtypes: int64(1), object(2)\n",
      "memory usage: 14.6+ KB\n"
     ]
    }
   ],
   "source": [
    "# Unify with the other file cleaned\n",
    "all_data.info()"
   ]
  },
  {
   "cell_type": "code",
   "execution_count": 30,
   "metadata": {},
   "outputs": [],
   "source": [
    "all_data[['Nombre','URL']].to_excel('/home/user/Desktop/MateoCodes/WebScrapingLinkedin/Data/Links_Linkedin/BD_egresados/Data_Bot/Data_BotUnificacion_total.xlsx')"
   ]
  },
  {
   "cell_type": "code",
   "execution_count": 7,
   "metadata": {},
   "outputs": [],
   "source": [
    "import re\n",
    "\n",
    "# Abrir el archivo en modo de escritura\n",
    "with open(\"/home/user/Desktop/MateoCodes/WebScrapingLinkedin/Data/Links_Linkedin/Unificacion_Datos_Extracion_Bot_Google/Datos_pre_llenado/urls_linkedin_FASE1.txt\", \"w\") as file:\n",
    "    cont = 1\n",
    "    for row, column in all_data.iterrows():\n",
    "        if cont > 0:\n",
    "            # Escribir la URL en el archivo de texto\n",
    "            file.write(column['URL'] + '\\n')\n",
    "        cont += 1\n"
   ]
  },
  {
   "cell_type": "code",
   "execution_count": null,
   "metadata": {},
   "outputs": [],
   "source": [
    "# Function to display URLs\n",
    "def display_urls(urls):\n",
    "    print(urls)\n",
    "\n",
    "# Initialize an empty list to store LinkedIn URLs\n",
    "linkedin_urls = [\"\"]\n",
    "\n",
    "# Loop to continuously receive user input\n",
    "try:\n",
    "    while True:\n",
    "        inp = input()\n",
    "        linkedin_urls.append(inp)\n",
    "except EOFError:\n",
    "    pass  # Exit the loop upon receiving EOF signal\n",
    "\n",
    "#\n",
    "\n",
    "display_urls(linkedin_urls)\n",
    "\n",
    "print(len(linkedin_urls))"
   ]
  }
 ],
 "metadata": {
  "kernelspec": {
   "display_name": "env",
   "language": "python",
   "name": "python3"
  },
  "language_info": {
   "codemirror_mode": {
    "name": "ipython",
    "version": 3
   },
   "file_extension": ".py",
   "mimetype": "text/x-python",
   "name": "python",
   "nbconvert_exporter": "python",
   "pygments_lexer": "ipython3",
   "version": "3.10.12"
  }
 },
 "nbformat": 4,
 "nbformat_minor": 2
}
