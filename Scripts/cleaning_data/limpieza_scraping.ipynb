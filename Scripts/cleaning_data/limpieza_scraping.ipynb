{
 "cells": [
  {
   "cell_type": "code",
   "execution_count": 2,
   "metadata": {},
   "outputs": [],
   "source": [
    "import pandas as pd\n",
    "import numpy as np\n",
    "import os"
   ]
  },
  {
   "cell_type": "code",
   "execution_count": 3,
   "metadata": {},
   "outputs": [
    {
     "name": "stdout",
     "output_type": "stream",
     "text": [
      "egresados84.xlsx\n",
      "egresados31.xlsx\n",
      "egresados21.xlsx\n",
      "egresados896.xlsx\n",
      "egresados83.xlsx\n",
      "egresados7.xlsx\n",
      "egresados85.xlsx\n",
      "egresados13.xlsx\n",
      "egresados59.xlsx\n",
      "egresados8.xlsx\n",
      "egresados41.xlsx\n",
      "egresados75.xlsx\n",
      "egresados73.xlsx\n",
      "egresados955.xlsx\n",
      "egresados76.xlsx\n",
      "egresados79.xlsx\n",
      "egresados90.xlsx\n",
      "egresados37.xlsx\n",
      "egresados67.xlsx\n",
      "egresados49.xlsx\n",
      "egresados63.xlsx\n",
      "egresados58.xlsx\n",
      "egresados29.xlsx\n",
      "egresados784.xlsx\n",
      "egresados14.xlsx\n",
      "egresados43.xlsx\n",
      "egresados12.xlsx\n",
      "egresados9.xlsx\n",
      "egresados72.xlsx\n",
      "egresados47.xlsx\n",
      "egresados65.xlsx\n",
      "egresados45.xlsx\n",
      "egresados26.xlsx\n",
      "egresados22.xlsx\n",
      "egresados51.xlsx\n",
      "egresados36.xlsx\n",
      "egresados64.xlsx\n",
      "egresados48.xlsx\n",
      "egresados24.xlsx\n",
      "egresados34.xlsx\n",
      "egresados91.xlsx\n",
      "egresados38.xlsx\n",
      "egresados50.xlsx\n",
      "egresados16.xlsx\n",
      "egresados35.xlsx\n",
      "egresados17.xlsx\n",
      "egresados54.xlsx\n",
      "egresados53.xlsx\n",
      "egresados32.xlsx\n",
      "egresados10.xlsx\n",
      "egresados57.xlsx\n",
      "egresados5.xlsx\n",
      "egresadosss3.xlsx\n",
      "egresados60.xlsx\n",
      "egresados25.xlsx\n",
      "egresados19.xlsx\n",
      "egresados56.xlsx\n",
      "egresados101.xlsx\n",
      "egresados46.xlsx\n",
      "egresados52.xlsx\n",
      "egresados62.xlsx\n",
      "egresados20.xlsx\n",
      "egresados88.xlsx\n",
      "egresados44.xlsx\n",
      "egresados89.xlsx\n",
      "egresados131.xlsx\n",
      "egresados6.xlsx\n",
      "egresados39.xlsx\n",
      "egresados74.xlsx\n",
      "egresados27.xlsx\n",
      "egresados55.xlsx\n",
      "egresadosss1.xlsx\n",
      "egresados77.xlsx\n",
      "egresados121.xlsx\n",
      "egresados33.xlsx\n",
      "egresados11.xlsx\n",
      "egresados28.xlsx\n",
      "egresados15.xlsx\n",
      "egresados2.xlsx\n",
      "egresados70.xlsx\n",
      "egresados23.xlsx\n",
      "egresados18.xlsx\n",
      "egresados95.xlsx\n",
      "egresados68.xlsx\n",
      "egresados40.xlsx\n",
      "egresados30.xlsx\n",
      "egresados80.xlsx\n",
      "egresados4.xlsx\n",
      "egresados114.xlsx\n",
      "egresados66.xlsx\n",
      "egresados69.xlsx\n",
      "egresados82.xlsx\n",
      "egresados42.xlsx\n",
      "egresados81.xlsx\n",
      "egresados78.xlsx\n",
      "egresados61.xlsx\n",
      "egresados71.xlsx\n"
     ]
    }
   ],
   "source": [
    " # Create two files (linkedin urls) & (not linkeding urls)\n",
    "\n",
    "# Step 1: Identify relevant files\n",
    "folder_path = '/home/user/Desktop/MateoCodes/WebScrapingLinkedin/documentacion/copy'\n",
    "files = [f for f in os.listdir(folder_path) if 'egresados' in f]\n",
    "\n",
    "# Step 2: Aggregate data\n",
    "all_data = pd.DataFrame()\n",
    "for file in files:\n",
    "    print(file)\n",
    "    file_path = os.path.join(folder_path, file)\n",
    "    df = pd.read_excel(file_path)\n",
    "    all_data = pd.concat([all_data, df])\n",
    "\n",
    "# Step 3: Segregate data\n",
    "linkedin_data = all_data[all_data['URL'].str.contains('linkedin', na=False)]\n",
    "non_linkedin_data = all_data[~all_data['URL'].str.contains('linkedin', na=False)]\n",
    "\n",
    "# Step 4: Export to Excel\n",
    "linkedin_data.to_excel(folder_path + 'linkedin_egresados_clean.xlsx', index=False)\n",
    "non_linkedin_data.to_excel(folder_path + 'non_linkedin_egresados.xlsx', index=False)\n"
   ]
  },
  {
   "cell_type": "code",
   "execution_count": 22,
   "metadata": {},
   "outputs": [],
   "source": [
    "df1 = pd.read_excel('/home/user/Desktop/MateoCodes/WebScrapingLinkedin/documentacion/new_data/copylinkedin_egresados_clean.xlsx')\n",
    "# Check for leading or trailing whitespaces\n",
    "df1['Nombre'] = df1['Nombre'].str.strip()\n",
    "df_cleaned_df1 = df1.drop_duplicates(subset=['Nombre'], keep='first')\n"
   ]
  },
  {
   "cell_type": "code",
   "execution_count": 24,
   "metadata": {},
   "outputs": [],
   "source": [
    "df_cleaned_df1.to_excel('/home/user/Desktop/MateoCodes/WebScrapingLinkedin/documentacion/NEW_DATA/clean_people_get_link.xlsx')"
   ]
  },
  {
   "cell_type": "code",
   "execution_count": 6,
   "metadata": {},
   "outputs": [],
   "source": [
    "df2 = pd.read_excel('/home/user/Desktop/MateoCodes/WebScrapingLinkedin/documentacion/new_data/copynon_linkedin_egresados.xlsx')\n",
    "\n",
    "# Check for leading or trailing whitespaces\n",
    "df2['Nombre'] = df2['Nombre'].str.strip()\n",
    "df_cleaned_df2 = df2.drop_duplicates(subset=['Nombre'], keep='first')\n"
   ]
  },
  {
   "cell_type": "code",
   "execution_count": 7,
   "metadata": {},
   "outputs": [
    {
     "data": {
      "text/html": [
       "<div>\n",
       "<style scoped>\n",
       "    .dataframe tbody tr th:only-of-type {\n",
       "        vertical-align: middle;\n",
       "    }\n",
       "\n",
       "    .dataframe tbody tr th {\n",
       "        vertical-align: top;\n",
       "    }\n",
       "\n",
       "    .dataframe thead th {\n",
       "        text-align: right;\n",
       "    }\n",
       "</style>\n",
       "<table border=\"1\" class=\"dataframe\">\n",
       "  <thead>\n",
       "    <tr style=\"text-align: right;\">\n",
       "      <th></th>\n",
       "      <th>Nombre</th>\n",
       "      <th>URL</th>\n",
       "    </tr>\n",
       "  </thead>\n",
       "  <tbody>\n",
       "    <tr>\n",
       "      <th>0</th>\n",
       "      <td>Carlos Leonardo Sarmiento Alcala</td>\n",
       "      <td>https://peaku.co/es/cv/68236-carlos-leonardo-s...</td>\n",
       "    </tr>\n",
       "    <tr>\n",
       "      <th>1</th>\n",
       "      <td>Juan Esteban Ramirez Gonzalez</td>\n",
       "      <td>https://www.researchgate.net/profile/Juan-Este...</td>\n",
       "    </tr>\n",
       "    <tr>\n",
       "      <th>2</th>\n",
       "      <td>Saul Oswaldo Umaña Tapiero</td>\n",
       "      <td>https://restaurantguru.com/I-picciotti-pizzeri...</td>\n",
       "    </tr>\n",
       "    <tr>\n",
       "      <th>3</th>\n",
       "      <td>Saúl Gregory Mendieta Galindo</td>\n",
       "      <td>https://www.facebook.com/saulgregory.mendietag...</td>\n",
       "    </tr>\n",
       "    <tr>\n",
       "      <th>4</th>\n",
       "      <td>Fabian Andres Rodriguez Becerra</td>\n",
       "      <td>https://www.worldcubeassociation.org/persons/2...</td>\n",
       "    </tr>\n",
       "    <tr>\n",
       "      <th>...</th>\n",
       "      <td>...</td>\n",
       "      <td>...</td>\n",
       "    </tr>\n",
       "    <tr>\n",
       "      <th>34686</th>\n",
       "      <td>Romulo Andres Guerrero Cuervo</td>\n",
       "      <td>https://losestudiantes.com/universidad-naciona...</td>\n",
       "    </tr>\n",
       "    <tr>\n",
       "      <th>34688</th>\n",
       "      <td>David Felipe Tosse Muñoz</td>\n",
       "      <td>https://prezi.com/p/22oi9cafckkn/crear_empresa...</td>\n",
       "    </tr>\n",
       "    <tr>\n",
       "      <th>34693</th>\n",
       "      <td>Cristhian Guillermo Lizarazo Jimenez</td>\n",
       "      <td>https://www.facebook.com/cervantesnorte/photos...</td>\n",
       "    </tr>\n",
       "    <tr>\n",
       "      <th>34696</th>\n",
       "      <td>Felipe Montaño Socarras</td>\n",
       "      <td>https://www.tusclasesparticulares.cl/profesore...</td>\n",
       "    </tr>\n",
       "    <tr>\n",
       "      <th>34698</th>\n",
       "      <td>Pablo Elver Mosquera Duarte</td>\n",
       "      <td>https://www.fiscalia.gov.co/colombia/wp-conten...</td>\n",
       "    </tr>\n",
       "  </tbody>\n",
       "</table>\n",
       "<p>1502 rows × 2 columns</p>\n",
       "</div>"
      ],
      "text/plain": [
       "                                     Nombre  \\\n",
       "0          Carlos Leonardo Sarmiento Alcala   \n",
       "1             Juan Esteban Ramirez Gonzalez   \n",
       "2                Saul Oswaldo Umaña Tapiero   \n",
       "3             Saúl Gregory Mendieta Galindo   \n",
       "4           Fabian Andres Rodriguez Becerra   \n",
       "...                                     ...   \n",
       "34686         Romulo Andres Guerrero Cuervo   \n",
       "34688              David Felipe Tosse Muñoz   \n",
       "34693  Cristhian Guillermo Lizarazo Jimenez   \n",
       "34696               Felipe Montaño Socarras   \n",
       "34698           Pablo Elver Mosquera Duarte   \n",
       "\n",
       "                                                     URL  \n",
       "0      https://peaku.co/es/cv/68236-carlos-leonardo-s...  \n",
       "1      https://www.researchgate.net/profile/Juan-Este...  \n",
       "2      https://restaurantguru.com/I-picciotti-pizzeri...  \n",
       "3      https://www.facebook.com/saulgregory.mendietag...  \n",
       "4      https://www.worldcubeassociation.org/persons/2...  \n",
       "...                                                  ...  \n",
       "34686  https://losestudiantes.com/universidad-naciona...  \n",
       "34688  https://prezi.com/p/22oi9cafckkn/crear_empresa...  \n",
       "34693  https://www.facebook.com/cervantesnorte/photos...  \n",
       "34696  https://www.tusclasesparticulares.cl/profesore...  \n",
       "34698  https://www.fiscalia.gov.co/colombia/wp-conten...  \n",
       "\n",
       "[1502 rows x 2 columns]"
      ]
     },
     "execution_count": 7,
     "metadata": {},
     "output_type": "execute_result"
    }
   ],
   "source": [
    "df_cleaned_df2"
   ]
  },
  {
   "cell_type": "code",
   "execution_count": 14,
   "metadata": {},
   "outputs": [],
   "source": [
    "# Exportar datos de persona con no link\n",
    "df_cleaned_df2.to_excel('/home/user/Desktop/MateoCodes/WebScrapingLinkedin/documentacion/NEW_DATA/clean_people_not_link.xlsx', index=False)\n"
   ]
  },
  {
   "cell_type": "code",
   "execution_count": 25,
   "metadata": {},
   "outputs": [],
   "source": [
    "# Eliminar checkout y obtener enlace nuevo\n",
    "df_checkout = pd.read_excel('/home/user/Desktop/MateoCodes/WebScrapingLinkedin/documentacion/NEW_DATA/clean_people_get_link.xlsx')"
   ]
  },
  {
   "cell_type": "code",
   "execution_count": 46,
   "metadata": {},
   "outputs": [],
   "source": [
    "dict_nuevo_scrap = {}\n",
    "dict_sin_checkpoint = {}\n",
    "\n",
    "for index, row in df_checkout.iterrows():\n",
    "    url = row['URL'].strip()\n",
    "    \n",
    "    if 'checkpoint' in url:\n",
    "        dict_nuevo_scrap[row['Nombre']] = row['URL']\n",
    "    else :\n",
    "        dict_sin_checkpoint[row['Nombre']] = row['URL']"
   ]
  },
  {
   "cell_type": "code",
   "execution_count": 43,
   "metadata": {},
   "outputs": [],
   "source": [
    "df_nuevo_scrap = pd.DataFrame.from_dict([dict_nuevo_scrap]).T"
   ]
  },
  {
   "cell_type": "code",
   "execution_count": 45,
   "metadata": {},
   "outputs": [],
   "source": [
    "df_nuevo_scrap.to_excel(\"/home/user/Desktop/MateoCodes/WebScrapingLinkedin/documentacion/NEW_DATA/people_checkpoint.xlsx\")"
   ]
  },
  {
   "cell_type": "code",
   "execution_count": 53,
   "metadata": {},
   "outputs": [
    {
     "data": {
      "text/plain": [
       "4064"
      ]
     },
     "execution_count": 53,
     "metadata": {},
     "output_type": "execute_result"
    }
   ],
   "source": [
    "# Get profiles without checkpoint\n",
    "list(dict_sin_checkpoint.values())\n"
   ]
  }
 ],
 "metadata": {
  "kernelspec": {
   "display_name": "env",
   "language": "python",
   "name": "python3"
  },
  "language_info": {
   "codemirror_mode": {
    "name": "ipython",
    "version": 3
   },
   "file_extension": ".py",
   "mimetype": "text/x-python",
   "name": "python",
   "nbconvert_exporter": "python",
   "pygments_lexer": "ipython3",
   "version": "3.10.12"
  }
 },
 "nbformat": 4,
 "nbformat_minor": 2
}
