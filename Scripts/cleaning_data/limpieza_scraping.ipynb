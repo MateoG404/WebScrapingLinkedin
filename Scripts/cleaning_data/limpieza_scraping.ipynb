{
 "cells": [
  {
   "cell_type": "code",
   "execution_count": 1,
   "metadata": {},
   "outputs": [],
   "source": [
    "import pandas as pd\n",
    "import numpy as np\n",
    "import re\n",
    "import os"
   ]
  },
  {
   "cell_type": "code",
   "execution_count": 4,
   "metadata": {},
   "outputs": [],
   "source": [
    "#Global Variables\n",
    "'''\n",
    "# This code make the next things:\n",
    "    1. Unify all the docs created using the bot to get the URL's linkedin for the people in two different files; People with Linkedin Url and people without Linkedin URL\n",
    "    2. Clean the data from the both mentioned files above\n",
    "    3. \n",
    "'''\n",
    "path_data = os.path.abspath(os.path.join(os.getcwd(), \"..\", \"..\"))\n"
   ]
  },
  {
   "cell_type": "code",
   "execution_count": 6,
   "metadata": {},
   "outputs": [
    {
     "name": "stdout",
     "output_type": "stream",
     "text": [
      "Inicio de agrupación de archivos... \n",
      "\n",
      "Agrupacion de archivos finalizado\n"
     ]
    }
   ],
   "source": [
    "# 1. Unify all the docs created using the bot to get the URL's linkedin for the people in two different files; People with Linkedin Url and people without Linkedin URL\n",
    "\n",
    "\n",
    "# Get the list of all the files that have the word \"egresados\" that are the files with the URL's linkedin for the people\n",
    "\n",
    "path_graduates = os.path.abspath(os.path.join(path_data,\"Data\",\"Links_Linkedin\",\"Bot_Google_Buscador_Perfiles\"))\n",
    "\n",
    "files_graduates = [f for f in os.listdir(path_graduates) if 'egresados' in f]\n",
    "\n",
    "# Open the files and Aggregate the information\n",
    "\n",
    "# New DataFrame with all the information about the links of the people\n",
    "all_data = pd.DataFrame()\n",
    "\n",
    "print(\"Inicio de agrupación de archivos... \\n\")\n",
    "\n",
    "for file in files_graduates:\n",
    "    path_file_graduated_temp = os.path.join(path_graduates,file)\n",
    "    \n",
    "    # Read the excel and get the information\n",
    "\n",
    "    df_temp_file = pd.read_excel(path_file_graduated_temp)\n",
    "\n",
    "    # Concat the last excel with the big DataFrame\n",
    "    all_data = pd.concat([all_data,df_temp_file])\n",
    "\n",
    "print(\"Agrupacion de archivos finalizado\")\n"
   ]
  },
  {
   "cell_type": "code",
   "execution_count": 7,
   "metadata": {},
   "outputs": [],
   "source": [
    "# Creation of two DataFrames with the people who has linkedin url and who didn't have\n",
    "\n",
    "linkedin_people = all_data[all_data['URL'].str.contains('linkedin',na = False)]\n",
    "non_linkedin_people = all_data[~all_data['URL'].str.contains('linkedin', na=False)]\n"
   ]
  },
  {
   "cell_type": "code",
   "execution_count": 8,
   "metadata": {},
   "outputs": [],
   "source": [
    "# Data cleaning for linkedin people & not linkedin people\n",
    "df_clean_linkedin_people = linkedin_people.drop_duplicates().drop_duplicates(subset=['Nombre'], keep='first')\n",
    "df_clean_not_linkedin_people = non_linkedin_people.drop_duplicates().drop_duplicates(subset=['Nombre'], keep='first')"
   ]
  },
  {
   "cell_type": "code",
   "execution_count": 9,
   "metadata": {},
   "outputs": [],
   "source": [
    "# Export the cleaned data \n",
    "path_export_data = os.path.abspath(os.path.join(path_data,\"Data\",\"Links_Linkedin\",\"Datos_Finales_Perfiles_Linkedin\"))\n",
    "\n",
    "df_clean_linkedin_people.to_excel(path_export_data + \"/CleanDataLinkedinProfiles.xlsx\")\n",
    "df_clean_not_linkedin_people.to_excel(path_export_data + \"/CleanDataNotLinkedinProfiles.xlsx\")"
   ]
  },
  {
   "cell_type": "code",
   "execution_count": 13,
   "metadata": {},
   "outputs": [
    {
     "name": "stdout",
     "output_type": "stream",
     "text": [
      "152 218\n"
     ]
    }
   ],
   "source": [
    "'''\n",
    "Important code for get all the information in the same format\n",
    "    1. Create a regular expression for all the links \n",
    "    2. Get the links for the people who the first bot don't get a specific url because it finds a link for search the people\n",
    "    3. Export the links people search (mentionead above) for use in the second bot and find the information\n",
    "'''\n",
    "\n",
    "pattern = r\"linkedin\\.com\\/(in\\/[a-zA-Z0-9\\-_%]+)\"\n",
    "cont = 0\n",
    "cont_checkpoint = 0\n",
    "search_people_link = []\n",
    "search_people_link_checkpoint = []\n",
    "\n",
    "for row,columns in df_clean_linkedin_people.iterrows():\n",
    "    \n",
    "    data = columns['URL']\n",
    "    match = re.search(pattern, data)\n",
    "    try:\n",
    "        a = (f\"https://www.linkedin.com/{match.group(1)}\")\n",
    "    except:\n",
    "        if 'pub' in data:\n",
    "            search_people_link.append(columns['Nombre'])\n",
    "            cont += 1\n",
    "        elif 'checkpoint' in data:\n",
    "            search_people_link_checkpoint.append(columns['Nombre'])\n",
    "            cont_checkpoint += 1\n",
    "print(cont,cont_checkpoint)\n",
    "\n",
    "with open(os.path.abspath(os.path.join(path_data,\"Data\",\"Links_Linkedin\",\"BD_egresados\",\"Data_Bot/search_people_linkedin.txt\")),\"w+\") as f:\n",
    "    for people in search_people_link:\n",
    "        f.write(people)\n",
    "        f.write(\"\\n\")\n",
    "    \n",
    "\n",
    "with open(os.path.abspath(os.path.join(path_data,\"Data\",\"Links_Linkedin\",\"BD_egresados\",\"Data_Bot/search_people_checkpoint_linkedin.txt\")),\"w+\") as f:\n",
    "    for people in search_people_link:\n",
    "        f.write(people)\n",
    "        f.write(\"\\n\")"
   ]
  },
  {
   "cell_type": "code",
   "execution_count": 3,
   "metadata": {},
   "outputs": [],
   "source": [
    "# Important !!!\n",
    "\n",
    "# For the next steps you must to run the second bot located in the folder Scripts/get_data/Second_bot"
   ]
  },
  {
   "cell_type": "code",
   "execution_count": 2,
   "metadata": {},
   "outputs": [],
   "source": [
    "# After run the Second Bot to find the users with the word \"pub\" in the link the code will unify all the links \n"
   ]
  },
  {
   "cell_type": "code",
   "execution_count": 15,
   "metadata": {},
   "outputs": [
    {
     "name": "stdout",
     "output_type": "stream",
     "text": [
      "['Raúl Fernando Martínez Oviedo', 'Jhair Fabian Pinzon Rodriguez', 'Cristian Leonardo Toro Sarmiento', 'Juan Guillermo Rute Sanabria', 'Andres Leonardo Torres Gonzalez', 'Juan Sebastian Martinez Beltran', 'Cristhian Camilo Gonzalez Garzon', 'Javier Steven Solano Calcetero', 'Efrain Galvis Duran', 'Stefano Rojas Bloise', 'Jhon Christian Rodriguez Ardila', 'Santiago Medina Morales', 'David Leonardo López González', 'Cielo María Ortiz Pérez', 'Sergio Jair Perez Sichaca', 'Leonel Garcia Vasquez', 'Manuela Sucerquia Ospina', 'Luis Carlos Rodriguez Barrios', 'Ian Sarasty Medina', 'Ernesto Garzon Rojas', 'Ricardo Martinez Mayorga', 'Diego Ferney Mayorga Rodriguez', 'Alexandra Osorio Zuluaga', 'Laura Maria Guativa Brochero', 'Luis Fernando Garcia Quiroga', 'Carol Daniela Sanchez Paez', 'Jorge Alonso Arevalo Rojas', 'Carlos Eduardo Moreno Calderon', 'Ciro Andres Cobos Sanchez', 'Fabian Humberto Fonseca Aponte', 'Nicolas Castro Correa', 'Rafael Alberto Moreno Ome', 'Carlos Alberto Riveros Varela', 'Jose Luis Gonzalez Pisa', 'Kevin Giorgio Toledo De La Cruz', 'Juan Camilo Achury Bueno', 'Juan Camilo Becerra Restrepo', 'Camilo Andres Gutierrez Osorio', 'Miguel Angel Ballen Galindo', 'Julian David Toro Medina', 'Diana Sofia Melendez Gonzalez', 'Fredy Alejandro Guevara Luna', 'Andres Felipe Leon Cruz', 'Jonathan Martinez Chingate', 'Oscar Fernando Aya Fuentes', 'Daniel Alejandro Numpaque Cano', 'Juan David Zapata Perez', 'Fernando Muñoz Sanchez', 'Diego Alejandro Rodríguez Morales', 'Oscar Ivan Justinico Castro', 'Diego Alejandro Rodriguez Herrera', 'Cristian Camilo Sanchez Garcia', 'Oscar Miguel Diaz Cruz', 'Nelson Ariel Sierra Sierra', 'Camilo Andres Gonzalez Gonzalez', 'Juan Sebastian Vivero Jauregui', 'Manuel Joann Nuñez Torres', 'Julian David Yepes Rojas', 'Oscar David Garcia Medina', 'Francisco Andres Aranguren Torres', 'Camila Rodriguez Ramirez', 'Christian Fabian Jimenez Garzón', 'Cristhian David Moreno Peña', 'Christian David Ramos Gaitán', 'Andres Alfonso Rincon Guerrero', 'Carmen Lucia Barrios Benavides', 'Carlos Andres Epia Realpe', 'Juan Pablo Salamanca Ramírez', 'Diego Andres Agudelo Cruz', 'Sergio Morales Herrera', 'Luis Alejandro Higuaran Serrano', 'Jorge Humberto Nemoga Pinzon', 'Nicolás Saiz Arismendi', 'Manuel Felipe Jimenez Cortes', 'Sergio Andrés Mancera Nomesque', 'Omar Sneyder Eraso Acero', 'Luis Fernando Gartner Mc Bain', 'Diego Fernando Romero Romero', 'Juan Felipe Sánchez Sáenz', 'Sergio Andrés Cortés Hernández', 'Jarvy Andrés Sánchez Buitrago', 'Juan Pablo Bonilla Gonzalez', 'Nicolás Guerrero Arévalo', 'Jacob Camacho Espinosa', 'Christian Arturo Bohórquez García', 'Marianella Monroy Ortiz', 'Santiago Orloff Orloff Rodríguez', 'Miguel Andres Parra Alarcon', 'Maria Camila Gomez Chavez', 'Diego Leonardo Chapeton Moreno', 'Iván Danilo Suárez López', 'Julian Alexander Malaver Moreno', 'Nicolás Gómez Gutiérrez', 'Diego Alejandro Clavijo Leal', 'Sergio Daniel Fierro Losada', 'Juan Sebastian Gomez Poblador', 'Camilo Piñeros Pineda', 'Tania Gineth Gomez Carrillo', 'Daniel Ricardo Camelo Alfonso', 'Juan Fernando Rosero Martinez', 'Juan Felipe Vargas Colorado', 'Fabian Leonardo Ramirez Sandino', 'Jeisson David Rozo Bautista', 'Andrés Felipe De Orcajo Vélez', 'Diana Marcela Diaz Castro', 'Miguel Angel Gamboa Gamboa', 'German Felipe Hernandez Cardenas', 'Roberto Felipe Salamanca Girón', 'Diego Said Niquefa Velasquez', 'Cristian David Lopez Hernandez', 'Diego Fabricio Rincon Piza', 'David Camilo Parra Gomez', 'Sergio Leonardo González Fonseca', 'Harvey Mauricio Tello Gelpud', 'David Felipe Medina Mayorga', 'Daniel Alfonso Pinzon Chavarria', 'Camilo Andrés Chaparro Venegas', 'Laura Valentina Garzon Guiza', 'Arbey Fonseca Vargas', 'Raul Giordano Soto Acero', 'Nestor Alejandro Florian Gomez', 'Cesar Quintero Arias', 'Miguel Angel Sanchez Rojas', 'Alejandro Garcia Castro', 'Daniel Ortiz Betancur', 'Gabriel Torres Peña', 'Damian Diaz Devivero', 'Jorge Alejandro Recamán Guzmán', 'Andres Felipe Naranjo Zuñiga', 'Luis Miguel Gutierrez Ramirez', 'Adriana Lisseth Lozano Torres', 'Daniel Fernando Gonzalez Celis', 'Cindy Johanna Rodriguez Avila', 'Jorge Luis Facundo Herrera', 'José Luis Moreno Calderón', 'Carolina Del Mar Saavedra Rios', 'Daniel David Vega Florez', 'Luis Alejandro Arguelles Salazar', 'David Santiago Fajardo Barrera', 'Juan David Uchuvo Gonzalez', 'Raúl Felipe Coral Jiménez', 'Camilo Andres Cortes Ibañez', 'Jorge Enrique Rojas Olaya', 'Juan Sebastian Rodriguez Casas', 'Angela Dubois Camacho', 'Jose David Salazar Moreno', 'Jonathan Leonard Crespo Eslava', 'Andres Felipe Forero Correa', 'Sebastián Alvarez Luque', 'Laura Angélica Cárdenas Vargas', 'Yessica Katherine Chauta Insuasty', 'Juan Carlos Trujillo Quintero', 'Santiago Echeverri Gonzalez', 'Gina Lorena Galvan Gomez', 'Gian Carlo Cuesta Nova', 'Nestor Camilo Leguizamon Guerra', 'Julian David Gongora Forero', 'Andres Felipe Leal Forero', 'Andrés Felipe Moreno Solano', 'Diego Alexander Salgado Castellanos', 'Juan Daniel Olaya Velasquez', 'Sebastian Camilo Moreno Arango', 'Juan Camilo Chavarro Macareno', 'Camilo Jose Sepulveda Zuñiga', 'Mateo Mancera Rodriguez', 'Harold Nicolas Riascos Molina', 'Jonathan David Salamanca Mora', 'Luis Fernando Rico Ortiz', 'Néstor Andrés Donato Ariza', 'Daniel Camacho Duque', 'David Arturo Míguez Baracaldo', 'Daniel Felipe Sabogal Fajardo', 'Esteban Jaramillo Sarmiento', 'Jonnathan Alejandro Sanchez Alarcon', 'Diego Clemente Rojas Chingate', 'Andrew Rincon Gonzalez', 'David Alejandro Martinez Pinto', 'Juan Camilo Liberato Luna', 'Fabian Andres Acuña Villamil', 'Rafael Antonio Salgado Lopez', 'Johan Sebastián Gómez Luna', 'Alejandro Marin Cardona', 'Daniel Alejandro Mora Garzón', 'Johnattan Fernando Devia Rojas', 'Christopher Andres Rodriguez Fonseca', 'Maikol Bonilla Gil', 'Andres Mauricio Rondon Patiño', 'Steve Eduardo Moscoso Urdaneta', 'Jhon Jairo Camargo Bernal', 'Alexander Gonzalez Castañeda', 'Cristian Camilo López Melo', 'Fernando Alberto Rodriguez Lozano', 'Juan Sebastian Gaona Chaparro', 'Nícolas Miranda Hernández', 'Felipe Castañeda Prieto', 'Ciro Iván García López', 'Andres Fernando Martinez Mendieta', 'David Andres Moreno Martinez', 'Miguel Angel Oyola Ayala', 'Andrés Felipe Cárdenas Hurtado', 'Daniela Idarraga Gomez', 'Oscar Antonio Acelas Upegui', 'Omar Alexander Muñoz Rodriguez', 'Samy Fiorella Cruz Bolivar', 'Juan David Gaitán Forero', 'Byron Martinez Martinez', 'Adriana Lucía Sánchez Ospina', 'Sergio Alejandro Diaz Pinilla', 'Andrea Romero Millan', 'Nelson David Navarro Diaz', 'Federico Julian Acosta Gonzalez', 'Cindy Lorena Ramirez Restrepo', 'Luis Felipe Epia Realpe', 'Maria Elvira Gaviria Forero', 'Paula Lorena Solano Gil', 'Jeison Julian Lozano Jojoa', 'Daniel Santiago Rincon Parra', 'Fredy Alexander Macias Rincon']\n"
     ]
    }
   ],
   "source": [
    "print(search_people_link_checkpoint)"
   ]
  }
 ],
 "metadata": {
  "kernelspec": {
   "display_name": "env",
   "language": "python",
   "name": "python3"
  },
  "language_info": {
   "codemirror_mode": {
    "name": "ipython",
    "version": 3
   },
   "file_extension": ".py",
   "mimetype": "text/x-python",
   "name": "python",
   "nbconvert_exporter": "python",
   "pygments_lexer": "ipython3",
   "version": "3.10.12"
  }
 },
 "nbformat": 4,
 "nbformat_minor": 2
}
