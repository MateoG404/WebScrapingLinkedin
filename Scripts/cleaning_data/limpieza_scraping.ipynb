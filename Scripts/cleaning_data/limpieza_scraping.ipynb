{
 "cells": [
  {
   "cell_type": "code",
   "execution_count": 1,
   "metadata": {},
   "outputs": [],
   "source": [
    "import pandas as pd\n",
    "import numpy as np\n",
    "import re\n",
    "import os"
   ]
  },
  {
   "cell_type": "code",
   "execution_count": 2,
   "metadata": {},
   "outputs": [],
   "source": [
    "#Global Variables\n",
    "'''\n",
    "# This code make the next things:\n",
    "    1. Unify all the docs created using the bot to get the URL's linkedin for the people in two different files; People with Linkedin Url and people without Linkedin URL\n",
    "    2. Clean the data from the both mentioned files above\n",
    "    3. \n",
    "'''\n",
    "path_data = os.path.abspath(os.path.join(os.getcwd(), \"..\", \"..\"))\n",
    "final_df_to_scraper = pd.DataFrame()"
   ]
  },
  {
   "cell_type": "code",
   "execution_count": 3,
   "metadata": {},
   "outputs": [
    {
     "name": "stdout",
     "output_type": "stream",
     "text": [
      "Inicio de agrupación de archivos... \n",
      "\n",
      "Agrupacion de archivos finalizado\n"
     ]
    }
   ],
   "source": [
    "# 1. Unify all the docs created using the bot to get the URL's linkedin for the people in two different files; People with Linkedin Url and people without Linkedin URL\n",
    "\n",
    "\n",
    "# Get the list of all the files that have the word \"egresados\" that are the files with the URL's linkedin for the people\n",
    "\n",
    "path_graduates = os.path.abspath(os.path.join(path_data,\"Data\",\"Links_Linkedin\",\"Bot_Google_Buscador_Perfiles\"))\n",
    "\n",
    "files_graduates = [f for f in os.listdir(path_graduates) if 'egresados' in f]\n",
    "\n",
    "# Open the files and Aggregate the information\n",
    "\n",
    "# New DataFrame with all the information about the links of the people\n",
    "all_data = pd.DataFrame()\n",
    "\n",
    "print(\"Inicio de agrupación de archivos... \\n\")\n",
    "\n",
    "for file in files_graduates:\n",
    "    path_file_graduated_temp = os.path.join(path_graduates,file)\n",
    "    \n",
    "    # Read the excel and get the information\n",
    "\n",
    "    df_temp_file = pd.read_excel(path_file_graduated_temp)\n",
    "\n",
    "    # Concat the last excel with the big DataFrame\n",
    "    all_data = pd.concat([all_data,df_temp_file])\n",
    "\n",
    "print(\"Agrupacion de archivos finalizado\")\n"
   ]
  },
  {
   "cell_type": "code",
   "execution_count": 4,
   "metadata": {},
   "outputs": [],
   "source": [
    "# Creation of two DataFrames with the people who has linkedin url and who didn't have\n",
    "\n",
    "linkedin_people = all_data[all_data['URL'].str.contains('linkedin',na = False)]\n",
    "non_linkedin_people = all_data[~all_data['URL'].str.contains('linkedin', na=False)]\n"
   ]
  },
  {
   "cell_type": "code",
   "execution_count": 5,
   "metadata": {},
   "outputs": [],
   "source": [
    "# Data cleaning for linkedin people & not linkedin people\n",
    "df_clean_linkedin_people = linkedin_people.drop_duplicates().drop_duplicates(subset=['Nombre'], keep='first')\n",
    "df_clean_not_linkedin_people = non_linkedin_people.drop_duplicates().drop_duplicates(subset=['Nombre'], keep='first')"
   ]
  },
  {
   "cell_type": "code",
   "execution_count": 6,
   "metadata": {},
   "outputs": [],
   "source": [
    "# Export the cleaned data \n",
    "path_export_data = os.path.abspath(os.path.join(path_data,\"Data\",\"Links_Linkedin\",\"Datos_Finales_Perfiles_Linkedin\"))\n",
    "\n",
    "df_clean_linkedin_people.to_excel(path_export_data + \"/CleanDataLinkedinProfiles.xlsx\")\n",
    "df_clean_not_linkedin_people.to_excel(path_export_data + \"/CleanDataNotLinkedinProfiles.xlsx\")"
   ]
  },
  {
   "cell_type": "code",
   "execution_count": 15,
   "metadata": {},
   "outputs": [
    {
     "name": "stdout",
     "output_type": "stream",
     "text": [
      "152 218 3611 0\n"
     ]
    }
   ],
   "source": [
    "'''\n",
    "Important code for get all the information in the same format\n",
    "    1. Create a regular expression for all the links \n",
    "    2. Get the links for the people who the first bot don't get a specific url because it finds a link for search the people\n",
    "    3. Export the links people search (mentionead above) for use in the second bot and find the information\n",
    "'''\n",
    "\n",
    "pattern = r\"linkedin\\.com\\/(in\\/[a-zA-Z0-9\\-_%]+)\"\n",
    "cont = 0\n",
    "cont_checkpoint = 0\n",
    "final_search_people_correct_link = pd.DataFrame(columns=['Nombre','URL'])\n",
    "search_people_link = []\n",
    "search_people_link_checkpoint = []\n",
    "search_people_link_autwall = []\n",
    "cont3 = 0 \n",
    "cont4 = 0 \n",
    "for row,columns in df_clean_linkedin_people.iterrows():\n",
    "    \n",
    "    data = columns['URL']\n",
    "    match = re.search(pattern, data)\n",
    "    try:\n",
    "        a = (f\"https://www.linkedin.com/{match.group(1)}\")\n",
    "        cont3 += 1\n",
    "    except:\n",
    "        if 'pub' in data:\n",
    "            search_people_link.append(columns['Nombre'])\n",
    "            cont += 1\n",
    "        elif 'checkpoint' in data:\n",
    "            search_people_link_checkpoint.append(columns['Nombre'])\n",
    "            cont_checkpoint += 1\n",
    "        else :\n",
    "            search_people_link_autwall.append(columns['Nombre'])\n",
    "\n",
    "\n",
    "print(cont,cont_checkpoint,cont3,cont4)\n",
    "\n",
    "with open(os.path.abspath(os.path.join(path_data,\"Data\",\"Links_Linkedin\",\"BD_egresados\",\"Data_Bot/search_people_linkedin.txt\")),\"w+\") as f:\n",
    "    for people in search_people_link:\n",
    "        f.write(people)\n",
    "        f.write(\"\\n\")\n",
    "    \n",
    "\n",
    "with open(os.path.abspath(os.path.join(path_data,\"Data\",\"Links_Linkedin\",\"BD_egresados\",\"Data_Bot/search_people_checkpoint_linkedin.txt\")),\"w+\") as f:\n",
    "    for people in search_people_link_checkpoint:\n",
    "        f.write(people)\n",
    "        f.write(\"\\n\")\n",
    "\n",
    "with open(os.path.abspath(os.path.join(path_data,\"Data\",\"Links_Linkedin\",\"BD_egresados\",\"Data_Bot/search_people_autwall_linkedin.txt\")),\"w+\") as f:\n",
    "    for people in search_people_link_autwall:\n",
    "        f.write(people)\n",
    "        f.write(\"\\n\")"
   ]
  },
  {
   "cell_type": "code",
   "execution_count": 17,
   "metadata": {},
   "outputs": [
    {
     "name": "stdout",
     "output_type": "stream",
     "text": [
      "['Ivan Dario Chinome Vanegas', 'Carlos Fernando Barón Burgos', 'David Barrera Vigoya', 'Laura Vanessa Palacios Arguello', 'Lina Tatiana Castro Castro', 'Camilo Andrés Martínez Martínez', 'Manuel Ivan Cardozo Naranjo', 'Edisson Andres Aguirre Fuerte', 'Maria Paula Garcia Ospina', 'Leonardo Alfredo Triana Cuesta', 'Mairon Danilo Rojas Rodriguez', 'Nicolás Garzón López', 'Hawer Nicolás Rodríguez Villamil', 'Gustavo Adolfo Jimenez Aguilar', 'Sergio Ivan Morales Gonzalez', 'Diego Alejandro Davila Alarcon', 'Wilson Nicolas Laguna Delgado', 'Silvia Maria Parra Oviedo', 'Diego Felipe Rivas Tabares', 'Santiago Mejia Ortiz', 'Diana Alejandra Narvaez Bernal', 'Gerardo Andres Hernandez Arguijo', 'Natalia Cuervo Jimenez', 'Andres Felipe Cruz Vasquez', 'Nicolas Fontecha Olarte', 'David Santiago Martinez Otalora', 'Lina Marcela González Cardozo', 'Juan Pablo Mancera Oyaga', 'Nicolas Larrañaga Cifuentes', 'Sergio Enrique Fuquene Prieto', 'María José Soto Perea', 'Juan Camilo Villarreal Hernandez', 'Marisol Rodríguez Cuevas', 'Marcela Garzon Bolivar', 'Gustavo Adolfo Vargas Castañeda', 'Paulo Jocirei Dias Salcedo', 'Santiago Aguilar Perez', 'David Felipe Jaime Vasquez', 'Javier Fernando Garnica Molina', 'Andres Felipe Romero Torres', 'María Alejandra Rodríguez Tibaná', 'Johan Ricardo Vega Ramirez', 'Liliana Constanza Carmona Suarez', 'Julian Andrei Diaz Correa', 'Nelson Felipe Rincón Soto', 'Christian David Rodriguez Ospina', 'Erick Giovanni Mora Martinez', 'Diego Fernando Herrera Casallas', 'Jonathan Leonardo Begambre Rodriguez', 'Leidy Katherine Montenegro Pabon', 'Damaris Alejandra Mora Arevalo', 'Juan Jose Arenas Rodriguez', 'Jairo Leonardo Matallana Pineda', 'Catalina Garcia Marroquin', 'Alejandro Robayo Zapata', 'David Santiago León Bustamante', 'Juan Andres Ipuz Chacon', 'Cristian Eduardo Parada Criales', 'Sebastian Alarcon Ramos', 'Horacio Guzman Parra', 'Cristian Daniel Moncada Gil', 'Jairo Andres Sanchez Perez', 'Leidy Milena Quiroga Avila', 'Santiago Arguello Medina', 'Angélica Marcela Orjuela Garzón', 'Nayher Andres Clavijo Vallejo', 'Pedro Julio Bareño Moreno', 'Sergio Alfonso Zambrano Vargas', 'Laura Camila Aponte Gutiérrez', 'Daniela Andrea Acosta Forero', 'Juan Carlos Barbosa Segura', 'Oscar Dario Rojas Valencia', 'Steeven Dávila Bernal', 'Hugo Fernando Giraldo Otalora', 'Sergio Alejandro Naranjo Casallas', 'Angie Marcela Diaz Largo', 'Oscar Fernando Alvarez Alvarez', 'Sergio Andres Mendivelso Fernandez', 'Andres Felipe Aranda Balaguera', 'Santiago Martínez Torres', 'Mauricio Ricardo Cuellar Martinez', 'Tatiana Andrea Gracia Prada', 'Paola Fernanda Flórez Galindo', 'David Leonardo Hernández Rincón', 'Julio Alejandro Gomez Orduz', 'Maria Angelica Duque Salazar', 'Sebastián Dávila Huertas', 'Catherine Yuliana Bohorquez Rodriguez', 'Juanita Ortiz Pesca', 'Gabriel Elias Conde Arevalo', 'Rafael David Pacheco Sastoque', 'José Danilo Pedraza Hernández', 'Zaira Naydú Barrantes Rodriguez', 'Juan Camilo Ordoñez Burbano', 'Nicolas Ramirez Burgos', 'Diana Patricia Garavito Divantoque', 'Diego Alejandro Delgadillo Duran', 'Carlos Roman Reina Leal', 'Jefferson Lancheros Espitia', 'Herzon Andres Martinez Pinzon', 'Adriana Patricia Cabrera Del Risco', 'Yessica Natalia Fontecha Silva ', 'Camilo Andrés Carrillo Murcia', 'Carlos Eduardo Barón Moreno', 'Karol Marcela Bejarano Castaño', 'Juan David Bruce Ortiz', 'Valentina Marulanda Acosta', 'Miguel Stive Huerfano Velez', 'Daniel Guillermo Vargas Lavao', 'Andrés Sarmiento Tobón', 'Pablo Andres Pedreros Cano', 'Sebastián Felipe Rincón Reyes', 'Norberto Galvis Agudelo', 'Arturo Jose Montealegre Pallares', 'Carlos Eduardo Morales Saavedra', 'Diana Carolina Martínez Toro', 'Jorge Andres Arroyave Ortegon', 'Gina Marcela Moreno Riveros', 'Johan Sebastián Quintero Rueda', 'Juan David Tole Lozano', 'Jorge Alberto Diaz Cruz', 'Andres Felipe Mora Reyes', 'Francisco Alberto Suárez Rodríguez', 'Julian Santiago Gomez Fuentes', 'Laura Daniela Macias Rodriguez', 'Sindy Paola Castillo Castillo', 'Wendy Nathalya Mora Ardila', 'Luis Daniel Pineda Barrera', 'Edilberto Cañon Pasquel', 'Luisa Fernanda Zarama Lombana', 'Nicolas David Torres Rico', 'Cristian Dario Herrera Tamara', 'Alejandro Correa Torres', 'Victor Manuel Lopez Mayorga', 'Wilson Bayardo Valcarcel Camejo', 'Adriana Layton De La Cruz', 'Andrés Felipe Mesa Gutiérrez', 'Mauricio Esteban Revelo Bernal', 'Laura Nathalia Paredes Acero', 'Alvaro Leonardo Pardo Mendoza', 'Camilo Andres Osorio Romero', 'Francy Alejandra Vanegas Izquierdo', 'Miguel Angel Bermudez Timote', 'Alvaro Andres Ordoñez Hernandez', 'Andres Felipe Fajardo Velez', 'Miguel Angel Salinas Rincon', 'Nicolas Escobar Castañeda', 'Nicolas Alexander Lopez Tellez', 'Heber Camilo Castro Suarez', 'Juan Carlos Verano Espitia', 'Juan Sebastian Otalora Montenegro', 'Maria Paula Bastidas Tovar', 'Jully Paola Arias Reyes', 'Marcel Julian Martinez Vanegas', 'Manuel Ricardo Rozo Guzman', 'Juan Sebastian Santacoloma Barrera', 'Ronald Steve Garzon Espejo', 'Andres Antonio Fernandez Gonzalez', 'Sebastian Valencia Sepulveda', 'Brayan Giovanni Mesa Galvis', 'Cristhian Gabriel Diaz Arteaga', 'Lina Angelica Hidalgo Pachon', 'Leonardo Mariño Angarita', 'Jaime Alberto Chaparro Alvarez', 'Pedro Antonio Castiblanco Monsocua', 'Maria Camila Fonseca Oliveros', 'Esteban Armando Bohórquez Andrade', 'Daniel Felipe Suárez Fonseca', 'Diego Hernando Bossa Gonzalez', 'Luis Agustin Perez Moreno', 'Fernando Andrés Quevedo Gutierrez', 'Mauricio Alexander Garcia Ruiz', 'Mauricio Camargo Santos', 'Nestor David Ramirez Barrera', 'Andrés Felipe Pedraza Triviño', 'Daniel Buitrago Caceres', 'Sandra Patricia Salamanca Jimenez', 'Jorge Nicolas Parada Enriquez', 'Camila Andrea Garcia Echeverri', 'Camilo Arturo Preciado Gutierrez', 'David Felipe Ruiz Rodriguez', 'Alexander Gutierrez Guevara', 'Victor Manuel Diago Valencia', 'Juan Sebastian Montes Florez', 'Gerardo Alonso Torres Rodriguez', 'Cristian Camilo Orjuela Velandia', 'Jorge Arturo Forero Torres', 'Andrés Felipe Cantor Molina', 'Liseth Angelica Alvarado Jaramillo', 'Daniel Eduardo Sierra Santofimio', 'Juan David Galvis Sarria', 'Juan Sebastian Sanchez Osorio', 'Joan Manuel Rivera Sierra', 'Henry Niño Rodríguez', 'Manuel Fernando Guerrero Posada', 'Juan Diego Bencardino Perdomo', 'Jorge Andrés Zamora Abril', 'Michael Estiven Guerrero Acevedo', 'Daniel Camilo Corredor López', 'Juan Pablo Garcia Silva', 'Johan Sebastián Díaz Camacho', 'Andrés Felipe Díaz Nítola', 'Wilman Eduardo Guarin Sanchez', 'Nelson Díaz Ocampo', 'Daniel Felipe Leyva Díaz', 'Laura Victoria Lizarazo Guerra', 'David Mauricio Rosero Tobar', 'Julio Hernan Alfonso Huertas', 'Luis Antonio Robayo Robayo', 'Luis Enrique Guzman Avellaneda', 'Andres Felipe Rodriguez Hernandez', 'Néstor Fabián Rodríguez Buitrago', 'Lina Maria Rodriguez Beltran', 'Daniel Felipe Bueno Calderon', 'Kevin Fabián Guerrero Granados', 'Laura Paulina Bastidas Beltrán', 'Alvaro Andres Avendaño Peña', 'Daniela Angulo Paez', 'Johann Andrés Triana Olaya', 'Diana Cecilia Cuervo Cespedes', 'Vivian Loreny Alarcon Prieto', 'Adriana Carolina Galindo Vargas', 'Andres Felipe Higuera Solano', 'Edwin Javier Jimenez Casares', 'Camilo Andres Amaya Rodriguez', 'Yeison Fabian Ramos Naranjo', 'Luis Eduardo Martin De La Peña', 'Pedro Jose Arias Monje', 'Andrés Felipe Castellanos Páez', 'Juan Fernando Cuervo Arevalo', 'Gabriel Hernandez Cardozo', 'Juan Sebastian Bello Bello', 'Julieth Lorena Ríos Hernández', 'Felipe Rico Cortes', 'Julian David Martinez Medina', 'Juan David Vargas Galindo', 'Andrés Julián Buitrago Lamy', 'Sebastian Alejandro Velasco Dimate', 'Hernan David Solano Parra', 'Mario Andres Rubiano Rojas', 'Irene Del Pilar Rosas Castellar', 'Diego Manuel Vacca Sanchez', 'Juan Camilo Cely Garzon', 'Gerardo Nava Moreno', 'Julian Andres Murcia Narvaez', 'David Mauricio Castiblanco Casas', 'Xiomara Cruz Rodriguez', 'Oscar Andrés Vargas Reyes', 'Mateo Mateus Forero', 'Francisco Javier Quintero Cortes', 'Richard Orlando Herrera Peña', 'Luis David Ordoñez Suarez', 'Cristian Nicolas Gomez Rojas', 'Edwin Alexander Rabelo Gamba', 'Hector Andres Rosero Becerra', 'Angelica Maria Rojas Choconta', 'Andres Francisco Rodriguez Peraza', 'Yeimy Johana Calvo Fuentes', 'Juan Camilo Torres Cedano', 'Juan Pablo Arevalo Rivera', 'Ivan Felipe Bejarano Gantiva', 'Felipe Rojas Arredondo', 'Octavio Augusto Torres Galvis', 'William Andres Montañez Caicedo', 'Nicolas Garcia Castañeda', 'Loren Gisela Pedraza Romero', 'Luis Enrique Garzon Sabogal', 'Juan Carlos Gama Roa', 'Sergio Javier Avendaño Peña', 'Andrés Felipe Pedraza Guerrero', 'Oscar Camilo Sutta Sanchez', 'Nicolas Tellez Ortiz', 'Julio Cesar Cardenas Sotelo', 'Luis Alejandro Vargas Ramos', 'Edna Johana Cañón Quiroga', 'Leonardo Muñoz Muñoz', 'Juan David Ramos Lopez', 'Johan Sebastian Bautista Rodriguez', 'Luis Carlos Bohórquez Garzón', 'Julián Camilo Jimenez Moreno', 'Jhonatan Esteban Restrepo Duque', 'Johanna Carolina Hernandez Silva', 'Sebastian Moreno Ramirez', 'Daniel Esteban Rosero López', 'Claudia Eugenia Berdugo Diaz', 'Cristian Javier Acosta Cedeño', 'Dayana Stefany Vega Latorre', 'Jose Alex Bernal Meneses', 'Juan Pablo Giron Bastidas', 'Julian Francisco Mojica Sanchez', 'Jeison Fabian Bocanegra Lopez', 'Brayan Esteban Garzon Feo', 'Johan José Castañeda Vega', 'Milton Augusto Holguín Barrera', 'Santiago Maria Marquez Arevalo', 'Andres Felipe Montaña Guerrero', 'Sergio Hernan Manjarres Paredes', 'Jesus Gregorio Carrillo Toloza']\n"
     ]
    }
   ],
   "source": [
    "# Important !!!\n",
    "print((search_people_link_autwall))\n",
    "# For the next steps you must to run the second bot located in the folder Scripts/get_data/Second_bot"
   ]
  },
  {
   "cell_type": "code",
   "execution_count": 2,
   "metadata": {},
   "outputs": [],
   "source": [
    "# After run the Second Bot to find the users with the word \"pub\" in the link the code will unify all the links \n"
   ]
  },
  {
   "cell_type": "code",
   "execution_count": 15,
   "metadata": {},
   "outputs": [
    {
     "name": "stdout",
     "output_type": "stream",
     "text": [
      "['Raúl Fernando Martínez Oviedo', 'Jhair Fabian Pinzon Rodriguez', 'Cristian Leonardo Toro Sarmiento', 'Juan Guillermo Rute Sanabria', 'Andres Leonardo Torres Gonzalez', 'Juan Sebastian Martinez Beltran', 'Cristhian Camilo Gonzalez Garzon', 'Javier Steven Solano Calcetero', 'Efrain Galvis Duran', 'Stefano Rojas Bloise', 'Jhon Christian Rodriguez Ardila', 'Santiago Medina Morales', 'David Leonardo López González', 'Cielo María Ortiz Pérez', 'Sergio Jair Perez Sichaca', 'Leonel Garcia Vasquez', 'Manuela Sucerquia Ospina', 'Luis Carlos Rodriguez Barrios', 'Ian Sarasty Medina', 'Ernesto Garzon Rojas', 'Ricardo Martinez Mayorga', 'Diego Ferney Mayorga Rodriguez', 'Alexandra Osorio Zuluaga', 'Laura Maria Guativa Brochero', 'Luis Fernando Garcia Quiroga', 'Carol Daniela Sanchez Paez', 'Jorge Alonso Arevalo Rojas', 'Carlos Eduardo Moreno Calderon', 'Ciro Andres Cobos Sanchez', 'Fabian Humberto Fonseca Aponte', 'Nicolas Castro Correa', 'Rafael Alberto Moreno Ome', 'Carlos Alberto Riveros Varela', 'Jose Luis Gonzalez Pisa', 'Kevin Giorgio Toledo De La Cruz', 'Juan Camilo Achury Bueno', 'Juan Camilo Becerra Restrepo', 'Camilo Andres Gutierrez Osorio', 'Miguel Angel Ballen Galindo', 'Julian David Toro Medina', 'Diana Sofia Melendez Gonzalez', 'Fredy Alejandro Guevara Luna', 'Andres Felipe Leon Cruz', 'Jonathan Martinez Chingate', 'Oscar Fernando Aya Fuentes', 'Daniel Alejandro Numpaque Cano', 'Juan David Zapata Perez', 'Fernando Muñoz Sanchez', 'Diego Alejandro Rodríguez Morales', 'Oscar Ivan Justinico Castro', 'Diego Alejandro Rodriguez Herrera', 'Cristian Camilo Sanchez Garcia', 'Oscar Miguel Diaz Cruz', 'Nelson Ariel Sierra Sierra', 'Camilo Andres Gonzalez Gonzalez', 'Juan Sebastian Vivero Jauregui', 'Manuel Joann Nuñez Torres', 'Julian David Yepes Rojas', 'Oscar David Garcia Medina', 'Francisco Andres Aranguren Torres', 'Camila Rodriguez Ramirez', 'Christian Fabian Jimenez Garzón', 'Cristhian David Moreno Peña', 'Christian David Ramos Gaitán', 'Andres Alfonso Rincon Guerrero', 'Carmen Lucia Barrios Benavides', 'Carlos Andres Epia Realpe', 'Juan Pablo Salamanca Ramírez', 'Diego Andres Agudelo Cruz', 'Sergio Morales Herrera', 'Luis Alejandro Higuaran Serrano', 'Jorge Humberto Nemoga Pinzon', 'Nicolás Saiz Arismendi', 'Manuel Felipe Jimenez Cortes', 'Sergio Andrés Mancera Nomesque', 'Omar Sneyder Eraso Acero', 'Luis Fernando Gartner Mc Bain', 'Diego Fernando Romero Romero', 'Juan Felipe Sánchez Sáenz', 'Sergio Andrés Cortés Hernández', 'Jarvy Andrés Sánchez Buitrago', 'Juan Pablo Bonilla Gonzalez', 'Nicolás Guerrero Arévalo', 'Jacob Camacho Espinosa', 'Christian Arturo Bohórquez García', 'Marianella Monroy Ortiz', 'Santiago Orloff Orloff Rodríguez', 'Miguel Andres Parra Alarcon', 'Maria Camila Gomez Chavez', 'Diego Leonardo Chapeton Moreno', 'Iván Danilo Suárez López', 'Julian Alexander Malaver Moreno', 'Nicolás Gómez Gutiérrez', 'Diego Alejandro Clavijo Leal', 'Sergio Daniel Fierro Losada', 'Juan Sebastian Gomez Poblador', 'Camilo Piñeros Pineda', 'Tania Gineth Gomez Carrillo', 'Daniel Ricardo Camelo Alfonso', 'Juan Fernando Rosero Martinez', 'Juan Felipe Vargas Colorado', 'Fabian Leonardo Ramirez Sandino', 'Jeisson David Rozo Bautista', 'Andrés Felipe De Orcajo Vélez', 'Diana Marcela Diaz Castro', 'Miguel Angel Gamboa Gamboa', 'German Felipe Hernandez Cardenas', 'Roberto Felipe Salamanca Girón', 'Diego Said Niquefa Velasquez', 'Cristian David Lopez Hernandez', 'Diego Fabricio Rincon Piza', 'David Camilo Parra Gomez', 'Sergio Leonardo González Fonseca', 'Harvey Mauricio Tello Gelpud', 'David Felipe Medina Mayorga', 'Daniel Alfonso Pinzon Chavarria', 'Camilo Andrés Chaparro Venegas', 'Laura Valentina Garzon Guiza', 'Arbey Fonseca Vargas', 'Raul Giordano Soto Acero', 'Nestor Alejandro Florian Gomez', 'Cesar Quintero Arias', 'Miguel Angel Sanchez Rojas', 'Alejandro Garcia Castro', 'Daniel Ortiz Betancur', 'Gabriel Torres Peña', 'Damian Diaz Devivero', 'Jorge Alejandro Recamán Guzmán', 'Andres Felipe Naranjo Zuñiga', 'Luis Miguel Gutierrez Ramirez', 'Adriana Lisseth Lozano Torres', 'Daniel Fernando Gonzalez Celis', 'Cindy Johanna Rodriguez Avila', 'Jorge Luis Facundo Herrera', 'José Luis Moreno Calderón', 'Carolina Del Mar Saavedra Rios', 'Daniel David Vega Florez', 'Luis Alejandro Arguelles Salazar', 'David Santiago Fajardo Barrera', 'Juan David Uchuvo Gonzalez', 'Raúl Felipe Coral Jiménez', 'Camilo Andres Cortes Ibañez', 'Jorge Enrique Rojas Olaya', 'Juan Sebastian Rodriguez Casas', 'Angela Dubois Camacho', 'Jose David Salazar Moreno', 'Jonathan Leonard Crespo Eslava', 'Andres Felipe Forero Correa', 'Sebastián Alvarez Luque', 'Laura Angélica Cárdenas Vargas', 'Yessica Katherine Chauta Insuasty', 'Juan Carlos Trujillo Quintero', 'Santiago Echeverri Gonzalez', 'Gina Lorena Galvan Gomez', 'Gian Carlo Cuesta Nova', 'Nestor Camilo Leguizamon Guerra', 'Julian David Gongora Forero', 'Andres Felipe Leal Forero', 'Andrés Felipe Moreno Solano', 'Diego Alexander Salgado Castellanos', 'Juan Daniel Olaya Velasquez', 'Sebastian Camilo Moreno Arango', 'Juan Camilo Chavarro Macareno', 'Camilo Jose Sepulveda Zuñiga', 'Mateo Mancera Rodriguez', 'Harold Nicolas Riascos Molina', 'Jonathan David Salamanca Mora', 'Luis Fernando Rico Ortiz', 'Néstor Andrés Donato Ariza', 'Daniel Camacho Duque', 'David Arturo Míguez Baracaldo', 'Daniel Felipe Sabogal Fajardo', 'Esteban Jaramillo Sarmiento', 'Jonnathan Alejandro Sanchez Alarcon', 'Diego Clemente Rojas Chingate', 'Andrew Rincon Gonzalez', 'David Alejandro Martinez Pinto', 'Juan Camilo Liberato Luna', 'Fabian Andres Acuña Villamil', 'Rafael Antonio Salgado Lopez', 'Johan Sebastián Gómez Luna', 'Alejandro Marin Cardona', 'Daniel Alejandro Mora Garzón', 'Johnattan Fernando Devia Rojas', 'Christopher Andres Rodriguez Fonseca', 'Maikol Bonilla Gil', 'Andres Mauricio Rondon Patiño', 'Steve Eduardo Moscoso Urdaneta', 'Jhon Jairo Camargo Bernal', 'Alexander Gonzalez Castañeda', 'Cristian Camilo López Melo', 'Fernando Alberto Rodriguez Lozano', 'Juan Sebastian Gaona Chaparro', 'Nícolas Miranda Hernández', 'Felipe Castañeda Prieto', 'Ciro Iván García López', 'Andres Fernando Martinez Mendieta', 'David Andres Moreno Martinez', 'Miguel Angel Oyola Ayala', 'Andrés Felipe Cárdenas Hurtado', 'Daniela Idarraga Gomez', 'Oscar Antonio Acelas Upegui', 'Omar Alexander Muñoz Rodriguez', 'Samy Fiorella Cruz Bolivar', 'Juan David Gaitán Forero', 'Byron Martinez Martinez', 'Adriana Lucía Sánchez Ospina', 'Sergio Alejandro Diaz Pinilla', 'Andrea Romero Millan', 'Nelson David Navarro Diaz', 'Federico Julian Acosta Gonzalez', 'Cindy Lorena Ramirez Restrepo', 'Luis Felipe Epia Realpe', 'Maria Elvira Gaviria Forero', 'Paula Lorena Solano Gil', 'Jeison Julian Lozano Jojoa', 'Daniel Santiago Rincon Parra', 'Fredy Alexander Macias Rincon']\n"
     ]
    }
   ],
   "source": [
    "print(search_people_link_checkpoint)"
   ]
  }
 ],
 "metadata": {
  "kernelspec": {
   "display_name": "env",
   "language": "python",
   "name": "python3"
  },
  "language_info": {
   "codemirror_mode": {
    "name": "ipython",
    "version": 3
   },
   "file_extension": ".py",
   "mimetype": "text/x-python",
   "name": "python",
   "nbconvert_exporter": "python",
   "pygments_lexer": "ipython3",
   "version": "3.10.12"
  }
 },
 "nbformat": 4,
 "nbformat_minor": 2
}
