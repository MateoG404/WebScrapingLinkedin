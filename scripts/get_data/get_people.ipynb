{
 "cells": [
  {
   "cell_type": "code",
   "execution_count": 1,
   "metadata": {},
   "outputs": [],
   "source": [
    "from selenium import webdriver\n",
    "from selenium.webdriver.chrome.options import Options\n",
    "from selenium.webdriver.chrome.service import Service\n",
    "from selenium.webdriver.common.by import By\n",
    "from selenium.webdriver.common.keys import Keys\n",
    "from webdriver_manager.chrome import ChromeDriverManager\n",
    "from selenium.webdriver.common.by import By\n",
    "from selenium.webdriver.support.ui import WebDriverWait\n",
    "from selenium.webdriver.support import expected_conditions as EC\n",
    "import time\n",
    "import csv\n",
    "from dotenv import load_dotenv\n",
    "import pandas as pd\n",
    "import os"
   ]
  },
  {
   "cell_type": "code",
   "execution_count": 2,
   "metadata": {},
   "outputs": [],
   "source": [
    "class Busqueda:\n",
    "\n",
    "    def __init__(self) -> None:\n",
    "        load_dotenv()\n",
    "        options = Options()\n",
    "        options.add_argument('--disable-dev-shm-usage')\n",
    "        options.add_argument('--incognito')\n",
    "        self.driver = webdriver.Chrome(service=Service(ChromeDriverManager().install()), options=options)\n",
    "\n",
    "    def login_with_email(self):\n",
    "        driver = self.driver\n",
    "        email = driver.find_element(By.XPATH,'//*[@id=\"username\"]')\n",
    "        email.send_keys(os.environ.get('EMAIL2'))\n",
    "        password = driver.find_element(By.XPATH,'//*[@id=\"password\"]')\n",
    "        password.send_keys(os.environ.get('PASSWORD'))\n",
    "        self.sesion = driver.find_element(By.XPATH,'//*[@id=\"organic-div\"]/form/div[3]/button').click()\n",
    "\n",
    "    def abrir_navegador(self):\n",
    "        self.url = \"https://linkedin.com/uas/login\"\n",
    "        self.driver.get(self.url)\n",
    "        self.login_with_email()\n",
    "\n",
    "    def iniciar(self):\n",
    "        self.abrir_navegador()\n",
    "\n",
    "\n"
   ]
  },
  {
   "cell_type": "code",
   "execution_count": 32,
   "metadata": {},
   "outputs": [],
   "source": [
    "# Enviar código verificacion\n",
    "code_email = '003959'\n",
    "code = driver.find_element(By.XPATH,'//*[@id=\"input__email_verification_pin\"]')\n",
    "code.send_keys(code_email)\n",
    "\n",
    "# Send code\n",
    "\n",
    "send_code = driver.find_element(By.XPATH,'//*[@id=\"email-pin-submit-button\"]').click()"
   ]
  },
  {
   "cell_type": "code",
   "execution_count": 7,
   "metadata": {},
   "outputs": [],
   "source": [
    "# Lectura de archivos egresados\n",
    "\n",
    "#egresados = pd.read_excel('/home/user/Desktop/MateoCodes/WebScrapingLinkedin/documentacion/datos_egresados.xlsx')\n",
    "egresados = pd.read_excel('/home/user/Desktop/MateoCodes/WebScrapingLinkedin/documentacion/NEW_DATA/clean.xlsx')"
   ]
  },
  {
   "cell_type": "code",
   "execution_count": 8,
   "metadata": {},
   "outputs": [
    {
     "data": {
      "text/plain": [
       "0           Carlos Leonardo Sarmiento Alcala\n",
       "1              Juan Esteban Ramirez Gonzalez\n",
       "2                 Saul Oswaldo Umaña Tapiero\n",
       "3              Saúl Gregory Mendieta Galindo\n",
       "4            Fabian Andres Rodriguez Becerra\n",
       "                        ...                 \n",
       "1496           Romulo Andres Guerrero Cuervo\n",
       "1497                David Felipe Tosse Muñoz\n",
       "1498    Cristhian Guillermo Lizarazo Jimenez\n",
       "1499                 Felipe Montaño Socarras\n",
       "1500             Pablo Elver Mosquera Duarte\n",
       "Name: Nombre, Length: 1501, dtype: object"
      ]
     },
     "execution_count": 8,
     "metadata": {},
     "output_type": "execute_result"
    }
   ],
   "source": [
    "nombres = egresados['Nombre']\n",
    "nombres"
   ]
  },
  {
   "cell_type": "code",
   "execution_count": 4,
   "metadata": {},
   "outputs": [
    {
     "name": "stdout",
     "output_type": "stream",
     "text": [
      "0               David Styven Nieto Marin\n",
      "1           Daniel Esteban Romero Romero\n",
      "2            Jorge Andres Galindo Correa\n",
      "3         Jersson Steven Castillo Romero\n",
      "4                 Wilmar Jair Gomez Rios\n",
      "                      ...               \n",
      "7747    Brhayan Stiven Puentes Rodriguez\n",
      "7748             Yeny Sofia Vargas Urrea\n",
      "7749        Mateo De Las Salas Hernandez\n",
      "7750    Michael Lisandro Socha Rodriguez\n",
      "7751      Johan Sebastian Perez Velandia\n",
      "Length: 7752, dtype: object\n"
     ]
    }
   ],
   "source": [
    "nombres = egresados['NOMBRES'] + ' ' + egresados['APELLIDO1'] + ' ' + egresados['APELLIDO2']\n",
    "\n",
    "print(nombres)"
   ]
  },
  {
   "cell_type": "code",
   "execution_count": 9,
   "metadata": {},
   "outputs": [
    {
     "name": "stdout",
     "output_type": "stream",
     "text": [
      "1501\n"
     ]
    }
   ],
   "source": [
    "print(len(nombres))\n",
    "dict_egresados = {\n",
    "    'Nombre': [],\n",
    "    'URL': []\n",
    "}\n",
    "def save_dataframe_to_excel(file_path, dataframe):\n",
    "    directory = os.path.dirname(file_path)\n",
    "    if not os.path.exists(directory):\n",
    "        os.makedirs(directory)\n",
    "    dataframe.to_excel(file_path, index=False)\n",
    "\n",
    "cont = 0 \n",
    "cont_2 = 14\n"
   ]
  },
  {
   "cell_type": "code",
   "execution_count": 11,
   "metadata": {},
   "outputs": [
    {
     "name": "stdout",
     "output_type": "stream",
     "text": [
      "Iniciando busqueda perfiles linkedin\n",
      "buscando .. Carlos Leonardo Sarmiento Alcala\n",
      "buscando .. Juan Esteban Ramirez Gonzalez\n",
      "buscando .. Saul Oswaldo Umaña Tapiero\n",
      "Error al abrir el primer enlace para la búsqueda 'Saul Oswaldo Umaña Tapiero': list index out of range\n",
      "buscando .. Saúl Gregory Mendieta Galindo\n",
      "buscando .. Fabian Andres Rodriguez Becerra\n",
      "buscando .. Diego Alejandro Sanchez Rodriguez\n",
      "buscando .. William Alfonso Suarez Ortiz\n",
      "buscando .. Daniel Steeven Muñoz Castro\n",
      "buscando .. Ivan Dario Torres Rodriguez\n",
      "buscando .. Héctor Augusto Daza Roa\n",
      "buscando .. Juan Felipe Loaiza Cardona\n",
      "buscando .. Nicholas Fernando Aristizabal Mejia\n",
      "buscando .. Julio Cesar Cortes Sanchez\n",
      "buscando .. Andres Mauricio Bautista Torres\n",
      "buscando .. Jonathan Alexander Gomez Rodriguez\n",
      "buscando .. Alexander Chaparro Romero\n",
      "buscando .. Juan Felipe Valdión Epia\n",
      "buscando .. Hollman Andres Rodriguez Torres\n",
      "buscando .. Eliana Maria Lozano Sanchez\n",
      "buscando .. William Esteban Figueroa Beltran\n",
      "buscando .. Ivan Dario Sanchez Cifuentes\n",
      "buscando .. Jenny Andrea Diaz Ramirez\n",
      "buscando .. Monica Alejandra Castillo Sanchez\n",
      "buscando .. Manuel Camilo Chala Penagos\n",
      "buscando .. Juan Sebastián Delgado Caicedo\n",
      "buscando .. Cristian Camilo Peñaloza Cespedes\n",
      "buscando .. Gabriel Jaime Becerra Eslava\n",
      "buscando .. Jhonatan Andrés Alvear Estrada\n",
      "buscando .. Carlos Esteban Hernandez Cordoba\n",
      "buscando .. Gabriel Hernan Cano Gonzalez\n",
      "Error al abrir el primer enlace para la búsqueda 'Gabriel Hernan Cano Gonzalez': list index out of range\n",
      "buscando .. Lizzy Tengana Hurtado\n",
      "buscando .. Francisco Julian Sandoval Avila\n",
      "buscando .. Pablo Daniel Charry Barrero\n",
      "Error al abrir el primer enlace para la búsqueda 'Pablo Daniel Charry Barrero': list index out of range\n",
      "buscando .. Camila Alejandra Jimenez Bejarano\n",
      "Error al abrir el primer enlace para la búsqueda 'Camila Alejandra Jimenez Bejarano': list index out of range\n",
      "buscando .. Nestor Isaac Maldonado Mora\n",
      "buscando .. Oscar Andrés Espinosa Serrano\n",
      "buscando .. Camilo Andres Prieto Peña\n",
      "buscando .. Juan Carlos Quitian Romero\n",
      "Error al abrir el primer enlace para la búsqueda 'Juan Carlos Quitian Romero': Message: timeout: Timed out receiving message from renderer: 300,000\n",
      "  (Session info: chrome=117.0.5938.149)\n",
      "Stacktrace:\n",
      "#0 0x555e5bb3a933 <unknown>\n",
      "#1 0x555e5b8146f7 <unknown>\n",
      "#2 0x555e5b7fc6be <unknown>\n",
      "#3 0x555e5b7fc4ee <unknown>\n",
      "#4 0x555e5b7fb100 <unknown>\n",
      "#5 0x555e5b7fb6ef <unknown>\n",
      "#6 0x555e5b80ac24 <unknown>\n",
      "#7 0x555e5b81f401 <unknown>\n",
      "#8 0x555e5b823dbb <unknown>\n",
      "#9 0x555e5b7fbe11 <unknown>\n",
      "#10 0x555e5b81f1f6 <unknown>\n",
      "#11 0x555e5b896a6d <unknown>\n",
      "#12 0x555e5b87d3d3 <unknown>\n",
      "#13 0x555e5b84fe64 <unknown>\n",
      "#14 0x555e5b850c4e <unknown>\n",
      "#15 0x555e5bb00558 <unknown>\n",
      "#16 0x555e5bb044a0 <unknown>\n",
      "#17 0x555e5bb0e97c <unknown>\n",
      "#18 0x555e5bb050b8 <unknown>\n",
      "#19 0x555e5bad0cdf <unknown>\n",
      "#20 0x555e5bb29048 <unknown>\n",
      "#21 0x555e5bb29219 <unknown>\n",
      "#22 0x555e5bb39ac3 <unknown>\n",
      "#23 0x7fb515294ac3 <unknown>\n",
      "\n",
      "buscando .. Kory Stephany Castro Muñoz\n",
      "buscando .. Álvaro Javier Gallardo Guerrero\n",
      "buscando .. Camilo Andres Lozano Prada\n",
      "buscando .. Miguel Angel Perez Sarmiento\n",
      "buscando .. Ricardo Amezquita Reyes\n",
      "buscando .. Daniel Arturo Diaz Sarmiento\n",
      "buscando .. Nelson Fernando Espíndola Rojas\n",
      "Error al abrir el primer enlace para la búsqueda 'Nelson Fernando Espíndola Rojas': list index out of range\n",
      "buscando .. Sergio Andres Quecan Diaz\n",
      "buscando .. Andres Felipe Borrero Gutierrez\n",
      "buscando .. Nathalia Kateryne Tinjaca Jimenez\n",
      "buscando .. Jerson Jair Cuevas Bocanegra\n",
      "Error al abrir el primer enlace para la búsqueda 'Jerson Jair Cuevas Bocanegra': list index out of range\n",
      "buscando .. Juan Pablo Loaiza Ramírez\n",
      "buscando .. Leonardo Fajardo Osorio\n",
      "buscando .. Cristian Camilo Ortiz Aranda\n",
      "buscando .. Nathaly Fernanda Garzon Agudelo\n",
      "buscando .. Andres Botia Carreño\n",
      "buscando .. Daniel Eduardo Roncancio Rubiano\n",
      "buscando .. Juan Camilo Neiva Aranguren\n",
      "buscando .. Edgar David Africano Camargo\n",
      "buscando .. Cesar Alejandro Riaño Giraldo\n",
      "buscando .. Jessica Natalia Espejo Torres\n",
      "buscando .. Ivan Felipe Acevedo Perez\n",
      "buscando .. Juan Camilo Cárdenas Velasco\n",
      "buscando .. Johan Yesid Vija Navarrete\n",
      "buscando .. Richard Alonso Ruiz Merchan\n",
      "buscando .. Juan Carlos Jimenez Moncada\n",
      "buscando .. Enesbey Bossa Quintero\n",
      "buscando .. Andersson Avila Rojas\n",
      "buscando .. Joan Gabriel Bofill Barrera\n",
      "buscando .. Diego Eliseo Cárdenas Alarcón\n",
      "buscando .. Manuel Ricardo Velasquez Rosales\n",
      "Error al abrir el primer enlace para la búsqueda 'Manuel Ricardo Velasquez Rosales': list index out of range\n",
      "buscando .. Diego Fernando Gomez Lopez\n",
      "buscando .. Carlos Andres Perez Marmolejo\n",
      "buscando .. Yonatan Alexander Lugo Gomez\n",
      "buscando .. Jenny Esperanza Alvarado Sanchez\n",
      "buscando .. Jimmy Esneyder Becerra Velasquez\n",
      "buscando .. Carlos Arturo Berrío Saboyá\n",
      "buscando .. Luis Alfonso Zamora Urrego\n",
      "buscando .. Néstor Daniel Medina Jiménez\n",
      "buscando .. Sergio Ivan Sanchez Plazas\n"
     ]
    },
    {
     "ename": "TimeoutException",
     "evalue": "Message: timeout: Timed out receiving message from renderer: -301,563\n  (Session info: chrome=117.0.5938.149)\nStacktrace:\n#0 0x555e5bb3a933 <unknown>\n#1 0x555e5b8146f7 <unknown>\n#2 0x555e5b7fc6be <unknown>\n#3 0x555e5b7fc4ee <unknown>\n#4 0x555e5b7fb100 <unknown>\n#5 0x555e5b7fb6ef <unknown>\n#6 0x555e5b80ac24 <unknown>\n#7 0x555e5b81f401 <unknown>\n#8 0x555e5b823dbb <unknown>\n#9 0x555e5b7fbe11 <unknown>\n#10 0x555e5b81f1f6 <unknown>\n#11 0x555e5b896a6d <unknown>\n#12 0x555e5b87d3d3 <unknown>\n#13 0x555e5b84fe64 <unknown>\n#14 0x555e5b850c4e <unknown>\n#15 0x555e5bb00558 <unknown>\n#16 0x555e5bb044a0 <unknown>\n#17 0x555e5bb0e97c <unknown>\n#18 0x555e5bb050b8 <unknown>\n#19 0x555e5bad0cdf <unknown>\n#20 0x555e5bb29048 <unknown>\n#21 0x555e5bb29219 <unknown>\n#22 0x555e5bb39ac3 <unknown>\n#23 0x7fb515294ac3 <unknown>\n",
     "output_type": "error",
     "traceback": [
      "\u001b[0;31m---------------------------------------------------------------------------\u001b[0m",
      "\u001b[0;31mTimeoutException\u001b[0m                          Traceback (most recent call last)",
      "\u001b[1;32m/home/user/Desktop/MateoCodes/WebScrapingLinkedin/scripts/get_data/get_people.ipynb Cell 8\u001b[0m line \u001b[0;36m1\n\u001b[1;32m      <a href='vscode-notebook-cell:/home/user/Desktop/MateoCodes/WebScrapingLinkedin/scripts/get_data/get_people.ipynb#W6sZmlsZQ%3D%3D?line=6'>7</a>\u001b[0m \u001b[39mfor\u001b[39;00m nombre \u001b[39min\u001b[39;00m nombres:\n\u001b[1;32m      <a href='vscode-notebook-cell:/home/user/Desktop/MateoCodes/WebScrapingLinkedin/scripts/get_data/get_people.ipynb#W6sZmlsZQ%3D%3D?line=8'>9</a>\u001b[0m     \u001b[39mprint\u001b[39m(\u001b[39m\"\u001b[39m\u001b[39mbuscando ..\u001b[39m\u001b[39m\"\u001b[39m, nombre)\n\u001b[0;32m---> <a href='vscode-notebook-cell:/home/user/Desktop/MateoCodes/WebScrapingLinkedin/scripts/get_data/get_people.ipynb#W6sZmlsZQ%3D%3D?line=9'>10</a>\u001b[0m     busqueda_obj\u001b[39m.\u001b[39;49mdriver\u001b[39m.\u001b[39;49mget(\u001b[39m\"\u001b[39;49m\u001b[39mhttps://www.google.com\u001b[39;49m\u001b[39m\"\u001b[39;49m)\n\u001b[1;32m     <a href='vscode-notebook-cell:/home/user/Desktop/MateoCodes/WebScrapingLinkedin/scripts/get_data/get_people.ipynb#W6sZmlsZQ%3D%3D?line=10'>11</a>\u001b[0m     busqueda_google \u001b[39m=\u001b[39m busqueda_obj\u001b[39m.\u001b[39mdriver\u001b[39m.\u001b[39mfind_element(By\u001b[39m.\u001b[39mNAME, \u001b[39m\"\u001b[39m\u001b[39mq\u001b[39m\u001b[39m\"\u001b[39m)\n\u001b[1;32m     <a href='vscode-notebook-cell:/home/user/Desktop/MateoCodes/WebScrapingLinkedin/scripts/get_data/get_people.ipynb#W6sZmlsZQ%3D%3D?line=11'>12</a>\u001b[0m     busqueda_google\u001b[39m.\u001b[39mclear()\n",
      "File \u001b[0;32m~/Desktop/MateoCodes/WebScrapingLinkedin/env/lib/python3.10/site-packages/selenium/webdriver/remote/webdriver.py:353\u001b[0m, in \u001b[0;36mWebDriver.get\u001b[0;34m(self, url)\u001b[0m\n\u001b[1;32m    351\u001b[0m \u001b[39mdef\u001b[39;00m \u001b[39mget\u001b[39m(\u001b[39mself\u001b[39m, url: \u001b[39mstr\u001b[39m) \u001b[39m-\u001b[39m\u001b[39m>\u001b[39m \u001b[39mNone\u001b[39;00m:\n\u001b[1;32m    352\u001b[0m \u001b[39m    \u001b[39m\u001b[39m\"\"\"Loads a web page in the current browser session.\"\"\"\u001b[39;00m\n\u001b[0;32m--> 353\u001b[0m     \u001b[39mself\u001b[39;49m\u001b[39m.\u001b[39;49mexecute(Command\u001b[39m.\u001b[39;49mGET, {\u001b[39m\"\u001b[39;49m\u001b[39murl\u001b[39;49m\u001b[39m\"\u001b[39;49m: url})\n",
      "File \u001b[0;32m~/Desktop/MateoCodes/WebScrapingLinkedin/env/lib/python3.10/site-packages/selenium/webdriver/remote/webdriver.py:344\u001b[0m, in \u001b[0;36mWebDriver.execute\u001b[0;34m(self, driver_command, params)\u001b[0m\n\u001b[1;32m    342\u001b[0m response \u001b[39m=\u001b[39m \u001b[39mself\u001b[39m\u001b[39m.\u001b[39mcommand_executor\u001b[39m.\u001b[39mexecute(driver_command, params)\n\u001b[1;32m    343\u001b[0m \u001b[39mif\u001b[39;00m response:\n\u001b[0;32m--> 344\u001b[0m     \u001b[39mself\u001b[39;49m\u001b[39m.\u001b[39;49merror_handler\u001b[39m.\u001b[39;49mcheck_response(response)\n\u001b[1;32m    345\u001b[0m     response[\u001b[39m\"\u001b[39m\u001b[39mvalue\u001b[39m\u001b[39m\"\u001b[39m] \u001b[39m=\u001b[39m \u001b[39mself\u001b[39m\u001b[39m.\u001b[39m_unwrap_value(response\u001b[39m.\u001b[39mget(\u001b[39m\"\u001b[39m\u001b[39mvalue\u001b[39m\u001b[39m\"\u001b[39m, \u001b[39mNone\u001b[39;00m))\n\u001b[1;32m    346\u001b[0m     \u001b[39mreturn\u001b[39;00m response\n",
      "File \u001b[0;32m~/Desktop/MateoCodes/WebScrapingLinkedin/env/lib/python3.10/site-packages/selenium/webdriver/remote/errorhandler.py:229\u001b[0m, in \u001b[0;36mErrorHandler.check_response\u001b[0;34m(self, response)\u001b[0m\n\u001b[1;32m    227\u001b[0m         alert_text \u001b[39m=\u001b[39m value[\u001b[39m\"\u001b[39m\u001b[39malert\u001b[39m\u001b[39m\"\u001b[39m]\u001b[39m.\u001b[39mget(\u001b[39m\"\u001b[39m\u001b[39mtext\u001b[39m\u001b[39m\"\u001b[39m)\n\u001b[1;32m    228\u001b[0m     \u001b[39mraise\u001b[39;00m exception_class(message, screen, stacktrace, alert_text)  \u001b[39m# type: ignore[call-arg]  # mypy is not smart enough here\u001b[39;00m\n\u001b[0;32m--> 229\u001b[0m \u001b[39mraise\u001b[39;00m exception_class(message, screen, stacktrace)\n",
      "\u001b[0;31mTimeoutException\u001b[0m: Message: timeout: Timed out receiving message from renderer: -301,563\n  (Session info: chrome=117.0.5938.149)\nStacktrace:\n#0 0x555e5bb3a933 <unknown>\n#1 0x555e5b8146f7 <unknown>\n#2 0x555e5b7fc6be <unknown>\n#3 0x555e5b7fc4ee <unknown>\n#4 0x555e5b7fb100 <unknown>\n#5 0x555e5b7fb6ef <unknown>\n#6 0x555e5b80ac24 <unknown>\n#7 0x555e5b81f401 <unknown>\n#8 0x555e5b823dbb <unknown>\n#9 0x555e5b7fbe11 <unknown>\n#10 0x555e5b81f1f6 <unknown>\n#11 0x555e5b896a6d <unknown>\n#12 0x555e5b87d3d3 <unknown>\n#13 0x555e5b84fe64 <unknown>\n#14 0x555e5b850c4e <unknown>\n#15 0x555e5bb00558 <unknown>\n#16 0x555e5bb044a0 <unknown>\n#17 0x555e5bb0e97c <unknown>\n#18 0x555e5bb050b8 <unknown>\n#19 0x555e5bad0cdf <unknown>\n#20 0x555e5bb29048 <unknown>\n#21 0x555e5bb29219 <unknown>\n#22 0x555e5bb39ac3 <unknown>\n#23 0x7fb515294ac3 <unknown>\n"
     ]
    }
   ],
   "source": [
    "print(\"Iniciando busqueda perfiles linkedin\")\n",
    "\n",
    "\n",
    "busqueda_obj = Busqueda()\n",
    "busqueda_obj.iniciar()\n",
    "\n",
    "for nombre in nombres:\n",
    "\n",
    "    print(\"buscando ..\", nombre)\n",
    "    busqueda_obj.driver.get(\"https://www.google.com\")\n",
    "    busqueda_google = busqueda_obj.driver.find_element(By.NAME, \"q\")\n",
    "    busqueda_google.clear()\n",
    "    busqueda_google.send_keys(nombre)\n",
    "    busqueda_google.send_keys(Keys.RETURN)\n",
    "\n",
    "    # Esperar a que se carguen los resultados de la búsqueda\n",
    "    WebDriverWait(busqueda_obj.driver, 10).until(\n",
    "        EC.presence_of_element_located((By.ID, \"search\"))\n",
    "    )\n",
    "        # Hacer clic en el primer enlace\n",
    "    try:\n",
    "        # Esperar hasta 5 segundos para que se carguen los resultados de la búsqueda\n",
    "        WebDriverWait(busqueda_obj.driver, 5).until(\n",
    "            EC.presence_of_element_located((By.ID, \"search\"))\n",
    "        )\n",
    "        \n",
    "        elem1 = busqueda_obj.driver.find_elements(By.XPATH,'//*[@id=\"rso\"]/div[1]/div/div/div[1]/div/div/span/a/h3')\n",
    "        elem1[0].click()\n",
    "        time.sleep(2)\n",
    "        dict_egresados['Nombre'].append(nombre)\n",
    "        dict_egresados['URL'].append(busqueda_obj.driver.current_url)\n",
    "        \n",
    "        \n",
    "        \n",
    "        \n",
    "    except Exception as e:\n",
    "        print(f\"Error al abrir el primer enlace para la búsqueda '{nombre}': {e}\")\n",
    "    time.sleep(2)\n",
    "\n",
    "    cont +=1\n",
    "\n",
    "    if cont == 100:\n",
    "\n",
    "        cont = 0 \n",
    "        if cont_2 % 3 == 0:\n",
    "\n",
    "            busqueda_obj = Busqueda()\n",
    "            busqueda_obj.iniciar()\n",
    "        \n",
    "        cont_2 += 1\n",
    "        \n",
    "        # Get dir\n",
    "\n",
    "        dir = os.path.dirname(os.path.dirname(os.getcwd())) +'/documentacion/new_data'\n",
    "        file_path = dir + '/egresados' + str(cont_2) + '.xlsx'\n",
    "\n",
    "        # Concat to df \n",
    "        \n",
    "        df = pd.DataFrame(dict_egresados)\n",
    "        \n",
    "        save_dataframe_to_excel(file_path, df)\n",
    "\n"
   ]
  },
  {
   "cell_type": "code",
   "execution_count": 60,
   "metadata": {},
   "outputs": [
    {
     "name": "stdout",
     "output_type": "stream",
     "text": [
      "{'Nombre': ['carlos', 'carlos'], 'URL': ['fa', 'fa']}\n"
     ]
    }
   ],
   "source": [
    "dict_egresados['Nombre'].append('carlos')\n",
    "dict_egresados['URL'].append('fa')\n",
    "\n",
    "print(dict_egresados)"
   ]
  },
  {
   "cell_type": "code",
   "execution_count": 57,
   "metadata": {},
   "outputs": [
    {
     "name": "stdout",
     "output_type": "stream",
     "text": [
      "    Nombre                              URL\n",
      "0    Alice      https://linkedin.com/in/bob\n",
      "1      Bob  https://linkedin.com/in/charlie\n",
      "2  Charlie    https://linkedin.com/in/alice\n"
     ]
    }
   ],
   "source": [
    "import pandas as pd\n",
    "\n",
    "# Create a dictionary with names and LinkedIn URLs\n",
    "linkedin_data = {\n",
    "    'Nombre': ['Alice', 'Bob', 'Charlie'],\n",
    "    'URL': [ 'https://linkedin.com/in/bob', 'https://linkedin.com/in/charlie','https://linkedin.com/in/alice']\n",
    "}\n",
    "\n",
    "# Convert the dictionary to a DataFrame\n",
    "df = pd.DataFrame(linkedin_data)\n",
    "\n",
    "# Display the DataFrame\n",
    "print(df)\n"
   ]
  },
  {
   "cell_type": "code",
   "execution_count": 76,
   "metadata": {},
   "outputs": [
    {
     "name": "stdout",
     "output_type": "stream",
     "text": [
      "Buscando a ... Mariana Moreano Gonzalez\n",
      "no c\n",
      "Buscando a ... Erasmo Andres Rey Cobos\n",
      "Solo hay persona\n",
      "no c\n",
      "Buscando a ... Juliana Erika Cristina Cardona Jaramillo\n",
      "Solo hay persona\n",
      "no c\n",
      "Buscando a ... Eliana Lozano Romero\n",
      "Solo hay persona\n",
      "no c\n",
      "Buscando a ... Oscar Daniel Sanchez Plazas\n",
      "Solo hay persona\n",
      "no c\n"
     ]
    }
   ],
   "source": [
    "# Empezar busqueda\n",
    "search_boton = driver.find_element(By.XPATH,'//*[@id=\"global-nav-typeahead\"]/input')\n",
    "\n",
    "for nombre in nombres[:5] :\n",
    "\n",
    "    print(\"Buscando a ...\",nombre)\n",
    "    search_boton.clear()    \n",
    "    search_boton.send_keys(nombre)\n",
    "    search_boton.send_keys(Keys.RETURN)\n",
    "    try:\n",
    "        boton_persona = driver.find_element(By.XPATH,'//*[@id=\"search-reusables__filters-bar\"]/ul/li[2]/button').click()\n",
    "    except:\n",
    "        print(\"Solo hay persona\")\n",
    "    try:\n",
    "\n",
    "        personas = driver.find_element(By.XPATH,'//*[@id=\"xuj3rB9VSOeWyTk+VlAbCw==\"]/div/ul/li/div/div/div[2]/div/div[1]/div/span[1]/span/a/span/span[1]')\n",
    "        print(personas)\n",
    "    except :\n",
    "        print(\"no c\")\n",
    "    #seccion_personas = driver.find_element(By.XPATH,'//*[@id=\"gDoEGMpPQ86ZC8lh+RccKA==\"]/div')\n",
    "\n",
    "    #print(seccion_personas)\n",
    "\n",
    "    '''\n",
    "    # Esperar a que se carguen los resultados\n",
    "    WebDriverWait(driver, 10).until(\n",
    "        EC.presence_of_element_located((By.XPATH, '//ul[@class=\"search-results__list list-style-none \"]/li'))\n",
    "    )\n",
    "        \n",
    "    # Obtener la lista de perfiles\n",
    "    profiles = driver.find_elements(By.XPATH, '//ul[@class=\"search-results__list list-style-none \"]/li')\n",
    "    '''\n",
    "    \n",
    "    #print(profiles)    \n",
    "    time.sleep(5)"
   ]
  },
  {
   "cell_type": "code",
   "execution_count": null,
   "metadata": {},
   "outputs": [],
   "source": [
    "# Cerrar navegador\n",
    "\n",
    "driver.close()"
   ]
  }
 ],
 "metadata": {
  "kernelspec": {
   "display_name": "env",
   "language": "python",
   "name": "python3"
  },
  "language_info": {
   "codemirror_mode": {
    "name": "ipython",
    "version": 3
   },
   "file_extension": ".py",
   "mimetype": "text/x-python",
   "name": "python",
   "nbconvert_exporter": "python",
   "pygments_lexer": "ipython3",
   "version": "3.10.12"
  },
  "orig_nbformat": 4
 },
 "nbformat": 4,
 "nbformat_minor": 2
}
