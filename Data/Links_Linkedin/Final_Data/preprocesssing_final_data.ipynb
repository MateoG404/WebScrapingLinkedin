{
 "cells": [
  {
   "cell_type": "code",
   "execution_count": 1,
   "metadata": {},
   "outputs": [],
   "source": [
    "import pandas as pd \n",
    "import numpy as np\n",
    "import os  "
   ]
  },
  {
   "cell_type": "code",
   "execution_count": 2,
   "metadata": {},
   "outputs": [],
   "source": [
    "\n",
    "# Process all the data to get a general format for the graduates people\n",
    "\n",
    "# Global Variables\n",
    "general_path  = os.path.abspath(os.path.join(os.getcwd()))\n",
    "path_preprocessing_data = os.path.abspath(os.path.join(general_path,\"Preprocessing_Data\"))\n",
    "\n",
    "# DataFrames\n",
    "\n",
    "df_preprocessing = pd.DataFrame()\n"
   ]
  },
  {
   "cell_type": "code",
   "execution_count": 3,
   "metadata": {},
   "outputs": [
    {
     "name": "stdout",
     "output_type": "stream",
     "text": [
      "Index(['profile', 'url', 'name', 'description', 'location', 'followers',\n",
      "       'connections', 'about', 'experience', 'education'],\n",
      "      dtype='object')\n"
     ]
    }
   ],
   "source": [
    "for file in os.listdir(path_preprocessing_data):\n",
    "    temp_json_file = pd.read_json(os.path.abspath(os.path.join(path_preprocessing_data,file)))\n",
    "\n",
    "    print(temp_json_file.columns)"
   ]
  },
  {
   "cell_type": "code",
   "execution_count": 42,
   "metadata": {},
   "outputs": [
    {
     "data": {
      "text/plain": [
       "[{'organisation_profile': 'https://www.linkedin.com/company/turingbox',\n",
       "  'location': '',\n",
       "  'description': '',\n",
       "  'start_time': 'Aug 2022',\n",
       "  'end_time': 'Apr 2022',\n",
       "  'duration': None},\n",
       " {'organisation_profile': 'https://www.linkedin.com/company/universidadnacionaldecolombia',\n",
       "  'location': 'Bogotá, Distrito Capital, Colombia',\n",
       "  'description': 'Se desarrolló un análisis de datos de las tesis de posgrado de la Facultad de ingeniería.',\n",
       "  'start_time': 'May 2022',\n",
       "  'end_time': 'Sep 2022',\n",
       "  'duration': None},\n",
       " {'organisation_profile': 'https://www.linkedin.com/company/out-xvii',\n",
       "  'location': '',\n",
       "  'description': ''}]"
      ]
     },
     "execution_count": 42,
     "metadata": {},
     "output_type": "execute_result"
    }
   ],
   "source": [
    "temp_json_file['experience'][0]"
   ]
  },
  {
   "cell_type": "code",
   "execution_count": 6,
   "metadata": {},
   "outputs": [],
   "source": [
    "temp_json_file['about'][0]#[0]#['about']#.keys()#.unique()#.info()"
   ]
  },
  {
   "cell_type": "code",
   "execution_count": 2,
   "metadata": {},
   "outputs": [],
   "source": [
    "# Profile Name -> name (string)\n",
    "# Profile URL -> url (string)\n",
    "# Description -> description (string)\n",
    "# Location (house) -> location (string)\n",
    "# Education -> (dict) -> organisation_name, organisation_profile\n",
    "\n",
    "cont = 68"
   ]
  },
  {
   "cell_type": "code",
   "execution_count": 5,
   "metadata": {},
   "outputs": [
    {
     "name": "stdout",
     "output_type": "stream",
     "text": [
      "Processing https://co.linkedin.com/in/alejandro-marin-cardona?challengeId=AQE3ida8k1R3_gAAAYs5WzzJrk_Iu92lql9CnT-Uc14AaXAXQXm8EPs1MQ908aJg__Y9BIuqOVhPMe3zjDBXkZMr3bevpfDWtw&submissionId=99e06f56-f0a3-8e17-ef7a-1053cd889601&challengeSource=AgGnSPQjmsltKQAAAYs5W7uFeI2AXgxqcdJbjWKP6snWAYKpaGUVQW01npkdgV4&challegeType=AgG77SxP0U5rawAAAYs5W7uISh4BqRE1NUYt0b7wKcNJqwlqXNXaWcw&memberId=AgHrPQhxE6KR3QAAAYs5W7uMQ7AMpPozsGO5_v_TAtYYkQw&recognizeDevice=AgGdmPHAOcy5qwAAAYs5W7uPQx0jYYOFMo2f6Gpvx2WGoFIwTlzo\n",
      "Processing https://www.linkedin.com/in/daniel-mora14\n",
      "Processing https://co.linkedin.com/in/johnattan-fernando-devia-rojas-8b42276a\n",
      "Processing https://co.linkedin.com/in/christopher-rodr%C3%ADguez-fonseca-270464158\n",
      "Processing https://co.linkedin.com/in/maikol1804\n",
      "Processing https://www.linkedin.com/in/amrondonp\n",
      "Processing https://co.linkedin.com/in/john-jairo-camargo-bolivar-31a899136\n",
      "Processing https://co.linkedin.com/in/alegonzalezc\n",
      "Processing https://co.linkedin.com/in/cristian-andres-melo-lopez-aa2ab91a0/en?trk=people-guest_people_search-card\n",
      "Processing https://co.linkedin.com/in/farodriguezl\n",
      "Processing https://co.linkedin.com/in/jsgaonac\n",
      "Processing https://de.linkedin.com/in/nicolasmirandahernandez\n",
      "Processing https://co.linkedin.com/in/sebastiancastanedaprieto/es\n",
      "Processing https://mx.linkedin.com/in/cigarcial\n",
      "Processing https://co.linkedin.com/in/andrezitofer\n",
      "Processing https://co.linkedin.com/in/david-andres-moreno-martinez-9b7848128\n",
      "Processing https://co.linkedin.com/in/miguel-angel-oyola-ayala-1a4966137\n",
      "Processing https://co.linkedin.com/in/andr%C3%A8s-felipe-hurtado-4706982b\n",
      "Processing https://ca.linkedin.com/in/danielaidarragaalvarez/en?original_referer=https%3A%2F%2Fwww.google.com%2F\n",
      "Processing https://co.linkedin.com/in/oamunozr\n",
      "Processing https://co.linkedin.com/in/jdgaitanf\n",
      "Processing https://co.linkedin.com/in/bdmartinezm\n",
      "Processing https://co.linkedin.com/in/adlsanchezos\n",
      "Error for https://co.linkedin.com/in/seradiazpin: Unable to fetch data. HTTP Status Code: 400\n",
      "Error for https://co.linkedin.com/in/andrea-millan-75a63b1a2: Unable to fetch data. HTTP Status Code: 400\n",
      "Error for https://co.linkedin.com/in/nelson-david-navarro-diaz-259741a5: Unable to fetch data. HTTP Status Code: 400\n",
      "Error for https://co.linkedin.com/in/federico-puentes-acosta-b86388271: Unable to fetch data. HTTP Status Code: 400\n",
      "Error for https://co.linkedin.com/in/cindy-ramirez-restrepo: Unable to fetch data. HTTP Status Code: 400\n",
      "Error for https://co.linkedin.com/in/luis-felipe-epia-realpe-b7770a133: Unable to fetch data. HTTP Status Code: 400\n",
      "Error for https://co.linkedin.com/in/elvira-forero-a191063a?original_referer=https%3A%2F%2Fwww.google.com%2F: Unable to fetch data. HTTP Status Code: 400\n",
      "Error for https://co.linkedin.com/in/lorena-ram%C3%ADrez-%C3%A1vila-957a2b129: Unable to fetch data. HTTP Status Code: 400\n",
      "Error for https://co.linkedin.com/in/jeison-julian-lozano-jojoa-57b647114: Unable to fetch data. HTTP Status Code: 400\n",
      "Error for https://co.linkedin.com/in/santiago-parra-7b6543219: Unable to fetch data. HTTP Status Code: 400\n"
     ]
    }
   ],
   "source": [
    "import requests\n",
    "import json\n",
    "\n",
    "url = \"https://api.prospeo.io/linkedin-email-finder\"\n",
    "api_key = \"c591c3d5993ae82882c69ebce9f32f69\"\n",
    "\n",
    "required_headers = {\n",
    "    'Content-Type': 'application/json',\n",
    "    'X-KEY': api_key\n",
    "}\n",
    "\n",
    "linkedin_profiles_extended = [\n",
    "    \"https://co.linkedin.com/in/seradiazpin\",\n",
    "    \"https://co.linkedin.com/in/andrea-millan-75a63b1a2\",\n",
    "    \"https://co.linkedin.com/in/nelson-david-navarro-diaz-259741a5\",\n",
    "    \"https://co.linkedin.com/in/federico-puentes-acosta-b86388271\",\n",
    "    \"https://co.linkedin.com/in/cindy-ramirez-restrepo\",\n",
    "    \"https://co.linkedin.com/in/luis-felipe-epia-realpe-b7770a133\",\n",
    "    \"https://co.linkedin.com/in/elvira-forero-a191063a?original_referer=https%3A%2F%2Fwww.google.com%2F\",\n",
    "    \"https://co.linkedin.com/in/lorena-ram%C3%ADrez-%C3%A1vila-957a2b129\",\n",
    "    \"https://co.linkedin.com/in/jeison-julian-lozano-jojoa-57b647114\",\n",
    "    \"https://co.linkedin.com/in/santiago-parra-7b6543219\"\n",
    "\n",
    "]\n",
    "\n",
    "\n",
    "json_aggregate = []\n",
    "\n",
    "\n",
    "for linkedin_url in linkedin_profiles_extended:\n",
    "    data = {\n",
    "        'url': linkedin_url\n",
    "    }\n",
    "    response = requests.post(url, json=data, headers=required_headers)\n",
    "    \n",
    "    if response.status_code == 200:\n",
    "        print(f\"Processing {linkedin_url}\")\n",
    "        json_content = response.json()\n",
    "        json_aggregate.append({linkedin_url: json_content})\n",
    "        \n",
    "        # Save each JSON data to a uniquely named file\n",
    "        filename = f\"./Preprocessing_Data/data_json/data_file_{cont}.json\"  # The filename contains the counter variable\n",
    "        with open(filename, 'w') as f:\n",
    "            json.dump({linkedin_url: json_content}, f, separators=(',', ':'))\n",
    "        \n",
    "        cont += 1  # Increment your counter\n",
    "    else:\n",
    "        print(f\"Error for {linkedin_url}: Unable to fetch data. HTTP Status Code: {response.status_code}\")\n",
    "\n",
    "# Optionally, save the aggregated JSON data to a single file\n",
    "with open('aggregate_data.json', 'w') as f:\n",
    "    json.dump(json_aggregate, f, separators=(',', ':'))\n"
   ]
  }
 ],
 "metadata": {
  "kernelspec": {
   "display_name": "env",
   "language": "python",
   "name": "python3"
  },
  "language_info": {
   "codemirror_mode": {
    "name": "ipython",
    "version": 3
   },
   "file_extension": ".py",
   "mimetype": "text/x-python",
   "name": "python",
   "nbconvert_exporter": "python",
   "pygments_lexer": "ipython3",
   "version": "3.10.12"
  }
 },
 "nbformat": 4,
 "nbformat_minor": 2
}
