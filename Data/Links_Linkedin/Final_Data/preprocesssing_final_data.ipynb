{
 "cells": [
  {
   "cell_type": "code",
   "execution_count": 3,
   "metadata": {},
   "outputs": [],
   "source": [
    "import pandas as pd \n",
    "import numpy as np\n",
    "import os  "
   ]
  },
  {
   "cell_type": "code",
   "execution_count": 14,
   "metadata": {},
   "outputs": [],
   "source": [
    "\n",
    "# Process all the data to get a general format for the graduates people\n",
    "\n",
    "# Global Variables\n",
    "general_path  = os.path.abspath(os.path.join(os.getcwd()))\n",
    "path_preprocessing_data = os.path.abspath(os.path.join(general_path,\"Preprocessing_Data\"))\n",
    "\n",
    "# DataFrames\n",
    "\n",
    "df_preprocessing = pd.DataFrame()\n"
   ]
  },
  {
   "cell_type": "code",
   "execution_count": 26,
   "metadata": {},
   "outputs": [
    {
     "name": "stdout",
     "output_type": "stream",
     "text": [
      "Index(['profile', 'url', 'name', 'description', 'location', 'followers',\n",
      "       'connections', 'about', 'experience', 'education'],\n",
      "      dtype='object')\n"
     ]
    }
   ],
   "source": [
    "for file in os.listdir(path_preprocessing_data):\n",
    "    temp_json_file = pd.read_json(os.path.abspath(os.path.join(path_preprocessing_data,file)))\n",
    "\n",
    "    print(temp_json_file.columns)"
   ]
  },
  {
   "cell_type": "code",
   "execution_count": 49,
   "metadata": {},
   "outputs": [
    {
     "data": {
      "text/plain": [
       "'https://www.linkedin.com/school/universidad-de-los-andes/'"
      ]
     },
     "execution_count": 49,
     "metadata": {},
     "output_type": "execute_result"
    }
   ],
   "source": [
    "temp_json_file['education'][0][0]['organisation_profile']#.keys()#.unique()#.info()"
   ]
  },
  {
   "cell_type": "code",
   "execution_count": null,
   "metadata": {},
   "outputs": [],
   "source": [
    "# Profile Name -> name (string)\n",
    "# Profile URL -> url (string)\n",
    "# Description -> description (string)\n",
    "# Location (house) -> location (string)\n",
    "# Education -> (dict) -> organisation_name, organisation_profile\n",
    "    "
   ]
  }
 ],
 "metadata": {
  "kernelspec": {
   "display_name": "env",
   "language": "python",
   "name": "python3"
  },
  "language_info": {
   "codemirror_mode": {
    "name": "ipython",
    "version": 3
   },
   "file_extension": ".py",
   "mimetype": "text/x-python",
   "name": "python",
   "nbconvert_exporter": "python",
   "pygments_lexer": "ipython3",
   "version": "3.10.12"
  }
 },
 "nbformat": 4,
 "nbformat_minor": 2
}
