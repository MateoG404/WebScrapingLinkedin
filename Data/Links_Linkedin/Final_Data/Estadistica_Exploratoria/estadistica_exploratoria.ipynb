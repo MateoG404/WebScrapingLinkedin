{
 "cells": [
  {
   "cell_type": "code",
   "execution_count": 3,
   "metadata": {},
   "outputs": [],
   "source": [
    "# El siguiente code contiene los scripts necesarios para realizar la estadistica exploratoria de los datos\n",
    "\n",
    "import pandas as pd\n",
    "import json\n",
    "import os\n",
    "import matplotlib.pyplot as plt\n",
    "from wordcloud import WordCloud"
   ]
  },
  {
   "cell_type": "code",
   "execution_count": 4,
   "metadata": {},
   "outputs": [
    {
     "name": "stdout",
     "output_type": "stream",
     "text": [
      "df_final_user.pkl\n",
      "<class 'pandas.core.frame.DataFrame'>\n",
      "RangeIndex: 3725 entries, 0 to 3724\n",
      "Data columns (total 16 columns):\n",
      " #   Column             Non-Null Count  Dtype \n",
      "---  ------             --------------  ----- \n",
      " 0   EGRESADO_ID        3725 non-null   object\n",
      " 1   PROGRAMA_PREGRADO  3725 non-null   object\n",
      " 2   FULL_NOMBRE        3725 non-null   object\n",
      " 3   FIRST_NAME         3725 non-null   object\n",
      " 4   LAST_NAME          3725 non-null   object\n",
      " 5   SEXO               3641 non-null   object\n",
      " 6   CURRENTLY_JOB      3725 non-null   object\n",
      " 7   EMAIL_UN           3725 non-null   object\n",
      " 8   EMAIL_PERSONAL     1463 non-null   object\n",
      " 9   LUGAR_VIVE         3725 non-null   object\n",
      " 10  LINKEDIN_URL       3725 non-null   object\n",
      " 11  PREMIUM_LINKEDIN   3725 non-null   bool  \n",
      " 12  DESCRIPCION        3725 non-null   object\n",
      " 13  FOLLOWERS          3725 non-null   int64 \n",
      " 14  CONNECTIONS        3725 non-null   int64 \n",
      " 15  SKILLS             3725 non-null   object\n",
      "dtypes: bool(1), int64(2), object(13)\n",
      "memory usage: 440.3+ KB\n",
      "None\n"
     ]
    }
   ],
   "source": [
    "# Open the different DataFrames\n",
    "\n",
    "path_dataframes = os.path.abspath(os.path.join(os.getcwd(),\"..\",\"Preprocessing_Data\"))\n",
    "\n",
    "list_df = [file for file in os.listdir(path_dataframes) if file.endswith('.pkl')]\n",
    "dataframes_list = []\n",
    "\n",
    "for df in list_df[1:2]:\n",
    "    print(df)\n",
    "    df_temp = pd.read_pickle(os.path.join(path_dataframes,df))\n",
    "    dataframes_list.append(df_temp)\n",
    "    \n",
    "    print(df_temp.info())"
   ]
  },
  {
   "cell_type": "code",
   "execution_count": 5,
   "metadata": {},
   "outputs": [],
   "source": [
    "\n",
    "dataframes_list[0]['PROGRAMA_PREGRADO'].value_counts()"
   ]
  },
  {
   "cell_type": "code",
   "execution_count": null,
   "metadata": {},
   "outputs": [],
   "source": [
    "dataframes_list[0].describe()\n"
   ]
  }
 ],
 "metadata": {
  "kernelspec": {
   "display_name": "env",
   "language": "python",
   "name": "python3"
  },
  "language_info": {
   "codemirror_mode": {
    "name": "ipython",
    "version": 3
   },
   "file_extension": ".py",
   "mimetype": "text/x-python",
   "name": "python",
   "nbconvert_exporter": "python",
   "pygments_lexer": "ipython3",
   "version": "3.10.12"
  }
 },
 "nbformat": 4,
 "nbformat_minor": 2
}
