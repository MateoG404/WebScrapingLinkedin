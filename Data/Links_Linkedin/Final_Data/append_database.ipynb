{
 "cells": [
  {
   "cell_type": "code",
   "execution_count": 1,
   "metadata": {},
   "outputs": [],
   "source": [
    "import json\n",
    "import os\n",
    "import pandas as pd"
   ]
  },
  {
   "cell_type": "code",
   "execution_count": 2,
   "metadata": {},
   "outputs": [],
   "source": [
    "def generate_insert_statements(id_egresado, name, sexo,email,linkedin_url, description, location, followers, connections, skills):\n",
    "    base_sql = 'INSERT INTO public.\"EGRESADOS\" (\"EGRESADO_ID\", \"NOMBRE\", \"SEXO\", \"EMAIL\", \"LUGAR_VIVE\",\"LINKEDIN_URL\", \"DESCRIPCION\", \"FOLLOWERS\", \"CONNECTIONS\", \"SKILLS\") VALUES '\n",
    "\n",
    "    # Construct the VALUES part of the SQL statement\n",
    "    values_str = f\"({id_egresado}, '{name}', '{sexo}', '{email}', '{location}', '{linkedin_url}', '{description}', '{followers}', '{connections}', '{skills}');\"\n",
    "\n",
    "    return base_sql + values_str"
   ]
  },
  {
   "cell_type": "code",
   "execution_count": 3,
   "metadata": {},
   "outputs": [],
   "source": [
    "def find_email_and_id(full_name):\n",
    "    result = df_graduates.loc[df_graduates['full_name'].str.contains(full_name, case=False, na=False)]\n",
    "\n",
    "    return result['CORREO'].iloc[0], result['DOCUMENTO'].iloc[0], result['CORREO'].iloc[0]+\"@unal.edu.co\"\n"
   ]
  },
  {
   "cell_type": "code",
   "execution_count": 4,
   "metadata": {},
   "outputs": [],
   "source": [
    "# Open file with the graduates info\n",
    "\n",
    "general_path =  os.path.abspath(os.path.join(os.getcwd()))\n",
    "path_json_files = os.path.abspath(os.path.join(general_path,\"Preprocessing_Data\",\"data_json\")) \n",
    "\n",
    "global df_graduates \n",
    "df_graduates = pd.read_excel(os.path.join(general_path,\"egresados_uapa.xlsx\"))"
   ]
  },
  {
   "cell_type": "code",
   "execution_count": 8,
   "metadata": {},
   "outputs": [
    {
     "name": "stdout",
     "output_type": "stream",
     "text": [
      "No se pudo con Camilo Andres Diaz Gomez\n",
      "No se pudo con Camila Rodríguez Ramírez\n",
      "No se pudo con Laura Valentina Garzón Güiza\n",
      "No se pudo con Juan Pablo Trujillo Quintero\n",
      "No se pudo con Yury Marcela Duque Quintero\n",
      "No se pudo con Jaime Eduardo Ramírez Parra\n",
      "No se pudo con Diego Andrés Agudelo Cruz\n",
      "No se pudo con Jorge Luis  Facundo Herrera \n",
      "No se pudo con Ciro Iván  García\n",
      "No se pudo con Jaime Eduardo Ramírez Parra\n",
      "No se pudo con Alejandro Marín Cardona\n",
      "No se pudo con Carmen Lucía Barrios Benavides\n",
      "No se pudo con quiroga quiroga\n",
      "No se pudo con Ivan Danilo Suarez Lopez\n",
      "No se pudo con Andrés Felipe Vargas Micán\n",
      "No se pudo con Daniel Alfonso Pinzón Chavarría\n",
      "No se pudo con David Leonardo Lopez Gonzalez\n",
      "No se pudo con Juan David Zapata Pérez\n",
      "No se pudo con Adriana Lozano\n",
      "No se pudo con Daniela Idárraga Álvarez\n",
      "No se pudo con Juan Sebastián Gómez Poblador\n",
      "No se pudo con Camilo José Sepúlveda Zúniga\n",
      "No se pudo con Jose Luis Moreno Calderon\n",
      "No se pudo con Juan Salamanca\n",
      "No se pudo con Andrés Felipe Leal Forero\n",
      "No se pudo con Christian Arturo Bohórquez García \n",
      "No se pudo con Oscar Iván Castro Castro\n",
      "No se pudo con Luis Miguel Rodriguez Gutierrez\n",
      "No se pudo con Rafael Antonio Salgado López\n",
      "No se pudo con Andrès Felipe Hurtado\n",
      "No se pudo con Ferney Cuestas Mahecha\n",
      "No se pudo con Miguel Ángel Sánchez Rojas\n",
      "No se pudo con Nelson Sierra\n",
      "No se pudo con Miguel Angel  Gamboa Gamboa\n",
      "No se pudo con Camilo Andres Parra Martinez\n",
      "No se pudo con Santiago Echeverry González\n",
      "No se pudo con Yury Marcela Duque Quintero\n",
      "No se pudo con Néstor Camilo Leguizamón Guerra\n"
     ]
    }
   ],
   "source": [
    "\n",
    "# Initialize an empty list to store SQL queries\n",
    "sql_queries = []\n",
    "\n",
    "# Loop through the JSON files\n",
    "for file in os.listdir(path_json_files)[68:]:  # Limit to 100 files\n",
    "    with open(os.path.join(path_json_files, file), 'r') as f:\n",
    "        temp_json_file = json.load(f)\n",
    "        primer_valor = list(temp_json_file.values())[0]\n",
    "        valores = primer_valor['response']\n",
    "    \n",
    "        # Get id_egresado and email\n",
    "        try : \n",
    "            valor_fullname = valores['full_name']\n",
    "            \n",
    "            full_name, documento, email = find_email_and_id(valor_fullname)\n",
    "\n",
    "            # Data from json\n",
    "            linkedin_url = str(list(temp_json_file.keys())[0])\n",
    "            description = valores['summary']\n",
    "            location = f\"{valores['location']['country']} {valores['location']['city']}\"\n",
    "            followers = 0\n",
    "            connections = 0\n",
    "            skills = valores['skills']\n",
    "            genero = valores['gender']\n",
    "\n",
    "            # Generate SQL query\n",
    "            sql_query = generate_insert_statements(documento, full_name, genero, email, location, linkedin_url, description, followers, connections, skills)\n",
    "            sql_queries.append(sql_query)\n",
    "        except:\n",
    "            print(\"No se pudo con\",valores['full_name'])\n",
    "# Write SQL queries to a text file\n",
    "with open('sql_queries.txt', 'w') as f:\n",
    "    for query in sql_queries:\n",
    "        f.write(f\"{query}\\n\")\n",
    "        "
   ]
  },
  {
   "cell_type": "code",
   "execution_count": 11,
   "metadata": {},
   "outputs": [
    {
     "name": "stdout",
     "output_type": "stream",
     "text": [
      "/home/user/Desktop/MateoCodes/WebScrapingLinkedin/Data/Links_Linkedin/Final_Data/data_json\n",
      "/home/user/Desktop/MateoCodes/WebScrapingLinkedin/Data/Links_Linkedin/Final_Data/Preprocessing_Data/data_json\n"
     ]
    }
   ],
   "source": [
    "print(path_json_files)\n",
    "print(\"/home/user/Desktop/MateoCodes/WebScrapingLinkedin/Data/Links_Linkedin/Final_Data/Preprocessing_Data/data_json\")"
   ]
  }
 ],
 "metadata": {
  "kernelspec": {
   "display_name": "env",
   "language": "python",
   "name": "python3"
  },
  "language_info": {
   "codemirror_mode": {
    "name": "ipython",
    "version": 3
   },
   "file_extension": ".py",
   "mimetype": "text/x-python",
   "name": "python",
   "nbconvert_exporter": "python",
   "pygments_lexer": "ipython3",
   "version": "3.10.12"
  }
 },
 "nbformat": 4,
 "nbformat_minor": 2
}
