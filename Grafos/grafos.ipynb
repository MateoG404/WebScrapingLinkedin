{
 "cells": [
  {
   "cell_type": "code",
   "execution_count": null,
   "metadata": {},
   "outputs": [],
   "source": [
    "\n",
    "from pyvis import network as net\n",
    "from pyvis.network import Network\n",
    "from IPython.core.display import display, HTML\n",
    "import random\n",
    "import os\n",
    "import pandas as pd\n",
    "import numpy as np"
   ]
  },
  {
   "cell_type": "code",
   "execution_count": null,
   "metadata": {},
   "outputs": [],
   "source": [
    "def get_dfs():\n",
    "    # Open the different DataFrames\n",
    "    path_dataframes = os.path.abspath(os.path.join(os.getcwd(), \"..\", \"Data\",\"Links_Linkedin\",\"Final_Data\",\"Preprocessing_Data\"))\n",
    "    print(path_dataframes)\n",
    "    \n",
    "    list_df = [file for file in os.listdir(path_dataframes) if file.endswith('.pkl')]\n",
    "    dataframes_list = []\n",
    "    \n",
    "    for df in list_df:\n",
    "        print(df)\n",
    "        df_temp = pd.read_pickle(os.path.join(path_dataframes, df))\n",
    "        dataframes_list.append(df_temp)\n",
    "        \n",
    "    \n",
    "    return dataframes_list"
   ]
  },
  {
   "cell_type": "code",
   "execution_count": null,
   "metadata": {},
   "outputs": [],
   "source": [
    "dataframes_list[2].info()"
   ]
  },
  {
   "cell_type": "code",
   "execution_count": null,
   "metadata": {},
   "outputs": [],
   "source": [
    "dataframes_list = get_dfs()\n",
    "\n",
    "data_egresados = pd.DataFrame({'EGRESADO_ID':dataframes_list[1]['EGRESADO_ID'],\n",
    "                               'UNIVERSIDAD':dataframes_list[0]['UNIVERSIDAD'],\n",
    "                               'PROGRAMA_PREGRADO':dataframes_list[1]['PROGRAMA_PREGRADO'],\n",
    "                               'EMPRESA':dataframes_list[2]['EMPRESA_NAME_ACTUAL']})"
   ]
  },
  {
   "cell_type": "code",
   "execution_count": null,
   "metadata": {},
   "outputs": [],
   "source": [
    "# Eliminar filas con valores nulos\n",
    "data_egresados.dropna(inplace=True)\n",
    "\n",
    "# Reemplazar 'unknown' y otros valores basura por NaN\n",
    "valores_basura = ['Unknown','No encontrado', 'otro_valor_basura'] \n",
    "data_egresados.replace(valores_basura, np.nan, inplace=True)\n",
    "\n",
    "# Eliminar filas con valores NaN (que previamente eran 'unknown' u otros valores basura)\n",
    "data_egresados.dropna(inplace=True)\n",
    "\n",
    "# Resetear el índice del DataFrame\n",
    "data_egresados.reset_index(drop=True, inplace=True)"
   ]
  },
  {
   "cell_type": "code",
   "execution_count": null,
   "metadata": {},
   "outputs": [],
   "source": [
    "# Creando el grafo\n",
    "g = Network(notebook=True)\n",
    "#g.toggle_physics(False)\n",
    "# Agregando nodos para los egresados y las universidades\n",
    "for index, row in data_egresados[:10].iterrows():\n",
    "    \n",
    "    \n",
    "    try :\n",
    "        g.add_node(row['EGRESADO_ID'], title=row['EGRESADO_ID'], color=\"red\")  # Nodos de egresados en rojo\n",
    "        g.add_node(row['UNIVERSIDAD'], title=row['UNIVERSIDAD'], color=\"blue\") # Nodos de universidades en azul\n",
    "        g.add_node(row['PROGRAMA_PREGRADO'], title=row['PROGRAMA_PREGRADO'], color=\"green\")\n",
    "        g.add_node(row['EMPRESA'], title=row['PROGRAMA_PREGRADO'], color=\"yellow\")\n",
    "        \n",
    "\n",
    "        # uniones\n",
    "        g.add_edge(row['EGRESADO_ID'], row['UNIVERSIDAD']) # Conectando egresados con universidades\n",
    "        g.add_edge(row['EGRESADO_ID'], row['PROGRAMA_PREGRADO']) # Conectando egresados con programas\n",
    "        g.add_edge(row['EGRESADO_ID'],row['EMPRESA'])\n",
    "\n",
    "    except:\n",
    "        a = 2\n",
    "\n",
    "# Mostrando el grafo\n",
    "g.show(\"prueba_egresados_universidad_empresa_10.html\",notebook=False)\n",
    "display(HTML(\"graph.html\"))"
   ]
  },
  {
   "cell_type": "code",
   "execution_count": null,
   "metadata": {},
   "outputs": [],
   "source": [
    "\n",
    "# Ejemplo de datos (adaptar a tus DataFrames reales)\n",
    "data_egresados = pd.DataFrame({\n",
    "    'EGRESADO_ID': ['E1', 'E2', 'E3'],\n",
    "    'UNIVERSIDAD': ['UNAL', 'Uniandes', 'UNAL'],\n",
    "    'PROGRAMA_PREGRADO': ['Ing. Sistemas', 'Matemáticas', 'Ing. Civil'],\n",
    "    'EMPRESA_NAME_ACTUAL': ['EmpresaA', 'EmpresaB', 'EmpresaC'],\n",
    "    'LANGUAGE': ['Inglés', 'Francés', 'Inglés']\n",
    "})\n",
    "\n",
    "g = Network(notebook=True)\n",
    "\n",
    "# Añadiendo nodos y relaciones\n",
    "for index, row in data_egresados.iterrows():\n",
    "    egresado = row['EGRESADO_ID']\n",
    "    universidad = row['UNIVERSIDAD']\n",
    "    programa = row['PROGRAMA_PREGRADO']\n",
    "    empresa = row['EMPRESA_NAME_ACTUAL']\n",
    "    idioma = row['LANGUAGE']\n",
    "\n",
    "    g.add_node(egresado, title=egresado, color=\"red\")\n",
    "    g.add_node(universidad, title=universidad, color=\"blue\")\n",
    "    g.add_node(programa, title=programa, color=\"green\")\n",
    "    g.add_node(empresa, title=empresa, color=\"yellow\")\n",
    "    g.add_node(idioma, title=idioma, color=\"purple\")\n",
    "    \n",
    "    g.add_edge(egresado, universidad)\n",
    "    g.add_edge(egresado, programa)\n",
    "    g.add_edge(egresado, empresa)\n",
    "    g.add_edge(egresado, idioma)\n",
    "\n",
    "g.show(\"graph_muestra.html\",notebook=False)\n",
    "display(HTML(\"graph_complex.html\"))"
   ]
  },
  {
   "cell_type": "code",
   "execution_count": null,
   "metadata": {},
   "outputs": [],
   "source": [
    "data_egresados['EMPRESA'].value_counts()"
   ]
  },
  {
   "cell_type": "code",
   "execution_count": null,
   "metadata": {},
   "outputs": [],
   "source": [
    "# Filtrar el DataFrame\n",
    "universidades_filtradas = [\"Universidad Nacional de Colombia\",\"Universidad de Los Andes\"]\n",
    "data_egresados_filtrado = data_egresados[data_egresados['UNIVERSIDAD'].isin(universidades_filtradas)]\n",
    "\n",
    "# Creando el grafo\n",
    "g = Network(notebook=True)\n",
    "\n",
    "# Agregando nodos para los egresados y las universidades\n",
    "for index, row in data_egresados_filtrado[:100].iterrows():\n",
    "    try:\n",
    "        g.add_node(row['EGRESADO_ID'], title=row['EGRESADO_ID'], color=\"red\")  # Nodos de egresados en rojo\n",
    "        g.add_node(row['UNIVERSIDAD'], title=row['UNIVERSIDAD'], color=\"blue\") # Nodos de universidades en azul\n",
    "        g.add_node(row['PROGRAMA_PREGRADO'], title=row['PROGRAMA_PREGRADO'], color=\"green\")\n",
    "        g.add_node(row['EMPRESA'], title=row['EMPRESA'], color=\"yellow\")\n",
    "\n",
    "        # Uniones\n",
    "        g.add_edge(row['EGRESADO_ID'], row['UNIVERSIDAD']) # Conectando egresados con universidades\n",
    "        g.add_edge(row['EGRESADO_ID'], row['PROGRAMA_PREGRADO']) # Conectando egresados con programas\n",
    "        g.add_edge(row['EGRESADO_ID'], row['EMPRESA'])\n",
    "\n",
    "    except:\n",
    "        pass\n",
    "\n",
    "# Mostrando el grafo\n",
    "g.show(\"prueba_egresados_universidad_andes_nacional.html\", notebook=False)"
   ]
  },
  {
   "cell_type": "code",
   "execution_count": 70,
   "metadata": {},
   "outputs": [
    {
     "name": "stdout",
     "output_type": "stream",
     "text": [
      "Warning: When  cdn_resources is 'local' jupyter notebook has issues displaying graphics on chrome/safari. Use cdn_resources='in_line' or cdn_resources='remote' if you have issues viewing graphics in a notebook.\n",
      "prueba_egresados_universidad_nacional_globant.html\n"
     ]
    }
   ],
   "source": [
    "# Filtro para universidad y empresa deseada\n",
    "universidad_filtrada = \"Universidad Nacional de Colombia\"\n",
    "empresa_filtrada = \"Globant\"\n",
    "data_egresados_filtrado = data_egresados[\n",
    "    (data_egresados['UNIVERSIDAD'] == universidad_filtrada) &\n",
    "    (data_egresados['EMPRESA'] == empresa_filtrada)\n",
    "]\n",
    "\n",
    "# Creando el grafo\n",
    "g = Network(notebook=True)\n",
    "\n",
    "# Agregando nodos para los egresados, la universidad y la empresa\n",
    "for index, row in data_egresados_filtrado[:500].iterrows():\n",
    "    try:\n",
    "        g.add_node(row['EGRESADO_ID'], title=row['EGRESADO_ID'], color=\"red\")  # Nodos de egresados en rojo\n",
    "        g.add_node(row['UNIVERSIDAD'], title=row['UNIVERSIDAD'], color=\"blue\") # Nodos de universidades en azul\n",
    "        g.add_node(row['PROGRAMA_PREGRADO'], title=row['PROGRAMA_PREGRADO'], color=\"green\")\n",
    "        g.add_node(row['EMPRESA'], title=row['EMPRESA'], color=\"yellow\")\n",
    "\n",
    "        # Uniones\n",
    "        g.add_edge(row['EGRESADO_ID'], row['UNIVERSIDAD']) # Conectando egresados con universidades\n",
    "        g.add_edge(row['EGRESADO_ID'], row['PROGRAMA_PREGRADO']) # Conectando egresados con programas\n",
    "        g.add_edge(row['EGRESADO_ID'], row['EMPRESA'])\n",
    "\n",
    "    except:\n",
    "        pass\n",
    "\n",
    "# Mostrando el grafo\n",
    "g.show(\"prueba_egresados_universidad_nacional_globant.html\", notebook=False)\n"
   ]
  }
 ],
 "metadata": {
  "kernelspec": {
   "display_name": "env",
   "language": "python",
   "name": "python3"
  },
  "language_info": {
   "codemirror_mode": {
    "name": "ipython",
    "version": 3
   },
   "file_extension": ".py",
   "mimetype": "text/x-python",
   "name": "python",
   "nbconvert_exporter": "python",
   "pygments_lexer": "ipython3",
   "version": "3.10.12"
  }
 },
 "nbformat": 4,
 "nbformat_minor": 2
}
