{
 "cells": [
  {
   "cell_type": "code",
   "execution_count": 3,
   "metadata": {},
   "outputs": [
    {
     "name": "stderr",
     "output_type": "stream",
     "text": [
      "/tmp/ipykernel_46226/2565774306.py:2: DeprecationWarning: Importing display from IPython.core.display is deprecated since IPython 7.14, please import from IPython display\n",
      "  from IPython.core.display import display, HTML\n"
     ]
    }
   ],
   "source": [
    "\n",
    "from pyvis import network as net\n",
    "from IPython.core.display import display, HTML\n",
    "import random"
   ]
  },
  {
   "cell_type": "code",
   "execution_count": 78,
   "metadata": {},
   "outputs": [
    {
     "name": "stderr",
     "output_type": "stream",
     "text": [
      "/tmp/ipykernel_7475/1143202281.py:4: DeprecationWarning: Importing display from IPython.core.display is deprecated since IPython 7.14, please import from IPython display\n",
      "  from IPython.core.display import display, HTML\n"
     ]
    }
   ],
   "source": [
    "import random\n",
    "import pandas as pd\n",
    "from pyvis.network import Network\n",
    "from IPython.core.display import display, HTML\n",
    "\n",
    "def generate_edge():\n",
    "    s = random.randint(1,10)\n",
    "    d = random.randint(1,10)\n",
    "    return (s,d)\n",
    "\n",
    "\n",
    "# Global Variables\n",
    "df = pd.read_csv('/home/user/Desktop/MateoCodes/WebScrapingLinkedin/Data/Links_Linkedin/Final_Data/EGRESADOS.csv')\n",
    "g = Network(height='600px', width='90%', bgcolor='white', font_color=\"red\", heading=\"A Simple Networkx Graph\")\n",
    "# Add university nodes and connect them to alumni\n",
    "universities = df['PROGRAMA_PREGRADO']\n",
    "g.add_node(0,label= \"Ingenieria Civil\")\n",
    "g.add_node(1,label= \"Ingenieria Sistemas y Computación\")\n",
    "g.add_node(2,label= \"Ingenieria Electronica\")\n",
    "g.add_node(3,label= \"Ingenieria Mecatronica\")\n",
    "g.add_node(4,label = \"Colombia\")\n",
    "\n",
    "cont = 0\n",
    "for row,column in df.iterrows():\n",
    "    if cont < 1000:\n",
    "        g.add_node(row,label = column['EGRESADO_ID'],title = column['EGRESADO_ID'])\n",
    "        '''        if 'CIVIL' in column['PROGRAMA_PREGRADO']:\n",
    "            g.add_edge(0,cont)\n",
    "        elif 'SISTEMAS' in column['PROGRAMA_PREGRADO']:\n",
    "            g.add_edge(1,cont)\n",
    "        elif 'ELECTRONICA' in column['PROGRAMA_PREGRADO']:\n",
    "            g.add_edge(2,cont)\n",
    "        elif 'MECATRONICA' in column['PROGRAMA_PREGRADO']:\n",
    "            g.add_edge(3,cont)'''\n",
    "\n",
    "        if 'Colombia' in column['LUGAR_VIVE']:#.replace(\"\\n\",\"\"):\n",
    "            g.add_edge(4,cont)\n",
    "    cont += 1\n",
    "        \n",
    "\n"
   ]
  },
  {
   "cell_type": "code",
   "execution_count": 73,
   "metadata": {},
   "outputs": [
    {
     "data": {
      "text/plain": [
       "array(['Colombia Bogota', 'Colombia ', 'Colombia Bogotá',\n",
       "       'Colombia Mosquera', 'France Paris', 'Argentina ', 'Italy Milan',\n",
       "       'Colombia Pereira', 'Spain Almeria', 'Germany Munich', 'None ',\n",
       "       'Colombia Barranquilla', 'Colombia Apartadó', 'Spain Málaga',\n",
       "       'Germany Aachen', 'Spain Madrid', 'United States West Lafayette',\n",
       "       'Canada Kamloops', 'Spain Valencia', 'Colombia Tauramena',\n",
       "       'Colombia Madrid', 'Colombia Funza', 'Mexico Mexico City',\n",
       "       'Italy ', 'Mexico ', 'United States Albuquerque',\n",
       "       'Switzerland Lausanne', 'Canada Vancouver', 'Qatar Doha',\n",
       "       'United Kingdom Blackburn', 'Colombia Villavicencio',\n",
       "       'Colombia Zipaquirá', 'Germany Hamburg', 'Germany Darmstadt',\n",
       "       'Spain Barcelona', 'United States Miami', 'Colombia Girardot',\n",
       "       'Brazil Porto Alegre', 'Portugal Vila Nova de Gaia', 'Spain ',\n",
       "       'Dominican Republic Santo Domingo de Guzmán',\n",
       "       'United States Midland', 'Colombia Facatativá', 'Colombia Chía',\n",
       "       'Germany Bochum', 'Australia ', 'France Brioude',\n",
       "       'Colombia Montería', 'Australia Adelaide', 'Italy Rome',\n",
       "       'Colombia Cajicá', 'Canada ', 'Colombia Cali', 'Colombia Popayán',\n",
       "       'Japan ', 'France Montpellier', 'Argentina Buenos Aires',\n",
       "       'United States Luverne', 'Colombia Cota', 'Canada Kitchener',\n",
       "       'Australia Footscray', 'Germany Erlangen', 'United States Irvine',\n",
       "       'United States Lafayette', 'Spain Castellón de la Plana',\n",
       "       'Turkey Üsküdar', 'Colombia Soacha ciudad', 'France Metz',\n",
       "       'Colombia Suesca', 'Netherlands Amsterdam', 'Colombia Tuluá',\n",
       "       'Colombia Valenzuela', 'Chile Santiago', 'Israel ',\n",
       "       'France Toulouse', 'Australia Noranda', 'Panama Panama City',\n",
       "       'Colombia Medellín', 'Costa Rica ', 'Peru Arequipa',\n",
       "       'Colombia Cogua', 'Spain Vila-real', 'Colombia Tunja', 'Germany ',\n",
       "       'Switzerland ', 'Belgium Brussels', 'Spain Seville',\n",
       "       'Canada Montreal', 'Switzerland Sankt Gallen',\n",
       "       'Dominican Republic ', 'Malta ', 'Australia Woodcroft',\n",
       "       'Germany Garching', 'France ', 'United States Sweeny',\n",
       "       'France Grenoble', 'France Strasbourg', 'Canada Québec',\n",
       "       'Sweden Stockholm', 'Canada St. Catharines', 'Colombia Duitama',\n",
       "       'Spain Tres Cantos', 'Spain Cartagena', 'Switzerland Windisch',\n",
       "       'Germany Rothenburg ob der Tauber', 'Brazil Rio de Janeiro',\n",
       "       'Netherlands Utrecht', 'Spain Las Palmas de Gran Canaria',\n",
       "       'Colombia Gachancipá', 'Switzerland Zurich',\n",
       "       'Colombia Agustín Codazzi', 'Germany Dresden', 'Colombia Yopal',\n",
       "       'Sweden Skellefteå', 'Finland Oulu', 'United States Gainesville',\n",
       "       'Colombia Santa Marta', 'Germany Flensburg',\n",
       "       'United States Hollywood', 'United Kingdom Brighton',\n",
       "       'Canada Calgary', 'Colombia Cartagena', 'Netherlands Delft',\n",
       "       'Germany Frankfurt', 'Germany Berlin', 'Germany Karlsruhe',\n",
       "       'Spain Gijón', 'Germany Duisburg', 'Germany Bremen',\n",
       "       'Canada Edmonton', 'Colombia Fusagasugá', 'France Nancy',\n",
       "       'France Fontaine', 'Ireland Dublin', 'Brazil Campinas',\n",
       "       'France Vincennes', 'Colombia Andes', 'Costa Rica Tarrazú',\n",
       "       'Czechia Hradec Králové', 'Indonesia Lampung', 'France Nantes',\n",
       "       'Canada Winnipeg', 'Costa Rica San José', 'Venezuela ',\n",
       "       'France Villeneuve-d’Ascq', 'Peru ', 'Spain Viladecans',\n",
       "       'United Kingdom Manchester', 'Colombia Perímetro Urbano Medellín',\n",
       "       'Canada North York', 'El Salvador ',\n",
       "       'Dominican Republic Santo Domingo', 'Germany Hannover',\n",
       "       'Germany Ingolstadt', 'Belgium Ottignies-Louvain-la-Neuve',\n",
       "       'Czechia Prague', 'France Le Havre', 'Australia Crawley',\n",
       "       'Puerto Rico Mayagüez', 'United States Atlanta',\n",
       "       'Colombia Perimetro Urbano Pereira', 'United States Columbia',\n",
       "       'France Fresnes', 'United States ', 'Spain Huelva',\n",
       "       'United Kingdom Stroud', 'Australia Melbourne', 'Mexico Querétaro',\n",
       "       'Colombia Caldas', 'United States New York', 'Germany Bonn',\n",
       "       'Spain Santa Cruz de Tenerife', 'Canada Fredericton', 'Ecuador ',\n",
       "       'United Arab Emirates Dubai', 'Australia Perth', 'France Cachan',\n",
       "       'Spain Torrent', 'France Lyon', 'United States Baltimore',\n",
       "       'United States Milwaukee', 'Canada Saint-Bernard',\n",
       "       'Colombia Dosquebradas', 'Colombia Pasto', 'Germany Freising',\n",
       "       'Belgium Ghent', 'United States Ithaca', 'Mexico Lerma',\n",
       "       'France Clermont-Ferrand', 'Colombia Barrancabermeja',\n",
       "       'Colombia Manizales', 'France Bordeaux', 'Mexico Valle del Norte',\n",
       "       'Mexico Tenancingo', 'Mexico Morelia', 'United States Columbus',\n",
       "       'France Rosny-sous-Bois', 'Australia Brighton',\n",
       "       'Switzerland Geneva', 'Brazil São Carlos', 'France Palaiseau',\n",
       "       'Colombia Timaná', 'United States Davis', 'Australia Campbelltown',\n",
       "       'Colombia Envigado', 'Sweden Gothenburg', 'Uruguay Montevideo',\n",
       "       'Chile ', 'Canada Waterloo', 'Colombia Neiva', 'Canada Saskatoon',\n",
       "       'Brazil Florianópolis', 'Colombia Tocancipa',\n",
       "       'United States Jersey City', 'Spain Torre del Mar',\n",
       "       'Estonia Tallinn', 'Germany Cassel', 'United States Chicago',\n",
       "       'France Versailles', 'Australia Southbank', 'Germany Baiern',\n",
       "       'Germany Dortmund', 'United States Seattle',\n",
       "       'United States Raleigh', 'Colombia Ibagué', 'Colombia Cúcuta',\n",
       "       'Colombia San Andrés', 'Mexico Monterrey',\n",
       "       'United States Marietta', 'Netherlands The Hague',\n",
       "       'Colombia Subachoque', 'Colombia Campoalegre', 'Germany Cologne',\n",
       "       'Colombia Cereté', 'Colombia Tabio', 'Colombia Sogamoso',\n",
       "       'Colombia Acacías', 'France St-Étienne', 'Netherlands IJmuiden',\n",
       "       'Colombia Tocancipá', 'Australia Bowen Hills', 'Canada Richmond',\n",
       "       'Germany Potsdam', 'Spain Ciudad Real', 'Canada London',\n",
       "       'France Lille', 'China Jingzhou District',\n",
       "       'France Vélizy-Villacoublay', 'France Orléans', 'Canada Toronto',\n",
       "       'Colombia Tame', 'France Cléry-en-Vexin', 'Germany Ulm',\n",
       "       'Colombia Perímetro Urbano Ibagué', 'Mexico Guadalajara',\n",
       "       'United Kingdom ', 'Mexico Cuautitlán Izcalli', 'Denmark ',\n",
       "       'Colombia Paipa', 'Germany Stuttgart', 'Australia South Toowoomba',\n",
       "       'United Kingdom London', 'Canada Ottawa', 'Ireland Limerick',\n",
       "       'Saudi Arabia Thuwal', 'Sweden ', 'France Alès',\n",
       "       'Germany Düsseldorf', 'France Antony', 'Spain Granada',\n",
       "       'Spain El Vendrell', 'Netherlands ', 'Austria Vienna',\n",
       "       'Guatemala ', 'Guatemala Santa Lucía Milpas Altas', 'Spain Girona',\n",
       "       'Colombia Granada', 'Germany Kaiserslautern',\n",
       "       'Australia Clarence Gardens', 'Colombia Bucaramanga',\n",
       "       'United States Sarasota', 'Belgium Liège', 'Australia Sydney',\n",
       "       'Germany Jena', 'Mexico Tampico', 'Belgium Antwerp', 'Norway Oslo',\n",
       "       'Brazil Biguaçu', 'United States Lawrence', 'Germany Straubing',\n",
       "       'Ireland ', 'Colombia Bello', 'Colombia Valledupar',\n",
       "       'United States Houston', 'Germany Freiburg',\n",
       "       'United Kingdom Birmingham', 'Australia Glenelg South',\n",
       "       'Italy Parma', 'Germany Nuremberg', 'United States Cambridge',\n",
       "       'Australia Hawthorn', 'Portugal Matosinhos', 'Spain Béjar',\n",
       "       'Germany Heidelberg', 'Colombia Samacá'], dtype=object)"
      ]
     },
     "execution_count": 73,
     "metadata": {},
     "output_type": "execute_result"
    }
   ],
   "source": [
    "df['LUGAR_VIVE'].unique()"
   ]
  },
  {
   "cell_type": "code",
   "execution_count": 79,
   "metadata": {},
   "outputs": [
    {
     "name": "stdout",
     "output_type": "stream",
     "text": [
      "Egresados UN Facultad de Ingenieria.html\n"
     ]
    }
   ],
   "source": [
    "\n",
    "# Mostrar el grafo\n",
    "g.show('Egresados UN Facultad de Ingenieria.html', notebook=False)\n"
   ]
  },
  {
   "cell_type": "code",
   "execution_count": 45,
   "metadata": {},
   "outputs": [],
   "source": [
    "# Inicialización del grafo\n",
    "g = Network(height='600px', width='90%', bgcolor='white', font_color=\"red\", heading=\"A Simple Networkx Graph\")\n",
    "\n",
    "\n",
    "g.add_node(0,label= \"Ingenieria Civil\")\n",
    "\n",
    "# Añadir nodos con títulos para el tooltip\n",
    "for i in range(1,111):\n",
    "    g.add_node(i, label=str(i), title=str(i))\n",
    "\n",
    "\n",
    "university_id_start = df.shape[0] + 1  # To avoid ID collision with existing nodes\n",
    "\n",
    "\n"
   ]
  },
  {
   "cell_type": "code",
   "execution_count": 55,
   "metadata": {},
   "outputs": [
    {
     "name": "stdout",
     "output_type": "stream",
     "text": [
      "<class 'pandas.core.frame.DataFrame'>\n",
      "RangeIndex: 3725 entries, 0 to 3724\n",
      "Data columns (total 17 columns):\n",
      " #   Column             Non-Null Count  Dtype \n",
      "---  ------             --------------  ----- \n",
      " 0   Unnamed: 0         3725 non-null   int64 \n",
      " 1   EGRESADO_ID        3725 non-null   object\n",
      " 2   PROGRAMA_PREGRADO  3725 non-null   object\n",
      " 3   FULL_NOMBRE        3725 non-null   object\n",
      " 4   FIRST_NAME         3725 non-null   object\n",
      " 5   LAST_NAME          3725 non-null   object\n",
      " 6   SEXO               3641 non-null   object\n",
      " 7   CURRENTLY_JOB      3725 non-null   object\n",
      " 8   EMAIL_UN           3725 non-null   object\n",
      " 9   EMAIL_PERSONAL     1463 non-null   object\n",
      " 10  LUGAR_VIVE         3725 non-null   object\n",
      " 11  LINKEDIN_URL       3725 non-null   object\n",
      " 12  PREMIUM_LINKEDIN   3725 non-null   bool  \n",
      " 13  DESCRIPCION        3725 non-null   object\n",
      " 14  FOLLOWERS          3725 non-null   int64 \n",
      " 15  CONNECTIONS        3725 non-null   int64 \n",
      " 16  SKILLS             3089 non-null   object\n",
      "dtypes: bool(1), int64(3), object(13)\n",
      "memory usage: 469.4+ KB\n"
     ]
    }
   ],
   "source": [
    "df.info()"
   ]
  }
 ],
 "metadata": {
  "kernelspec": {
   "display_name": "env",
   "language": "python",
   "name": "python3"
  },
  "language_info": {
   "codemirror_mode": {
    "name": "ipython",
    "version": 3
   },
   "file_extension": ".py",
   "mimetype": "text/x-python",
   "name": "python",
   "nbconvert_exporter": "python",
   "pygments_lexer": "ipython3",
   "version": "3.10.12"
  }
 },
 "nbformat": 4,
 "nbformat_minor": 2
}
